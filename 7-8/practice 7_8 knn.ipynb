{
 "cells": [
  {
   "cell_type": "markdown",
   "id": "8fb0e604",
   "metadata": {},
   "source": [
    "## ЧАСТЬ B"
   ]
  },
  {
   "cell_type": "code",
   "execution_count": 1,
   "id": "e0b2a418",
   "metadata": {},
   "outputs": [],
   "source": [
    "import pandas as pd\n",
    "import numpy as np\n",
    "from sklearn import preprocessing\n",
    "from sklearn.manifold import TSNE\n",
    "from sklearn.model_selection import train_test_split, GridSearchCV\n",
    "from sklearn.neighbors import KNeighborsClassifier\n",
    "import seaborn as sns\n",
    "from collections import Counter\n",
    "from imblearn.over_sampling import SMOTE"
   ]
  },
  {
   "cell_type": "markdown",
   "id": "895737ca",
   "metadata": {},
   "source": [
    "## Извлечение датасета"
   ]
  },
  {
   "cell_type": "code",
   "execution_count": 2,
   "id": "c9cfb65e",
   "metadata": {},
   "outputs": [
    {
     "data": {
      "text/html": [
       "<div>\n",
       "<style scoped>\n",
       "    .dataframe tbody tr th:only-of-type {\n",
       "        vertical-align: middle;\n",
       "    }\n",
       "\n",
       "    .dataframe tbody tr th {\n",
       "        vertical-align: top;\n",
       "    }\n",
       "\n",
       "    .dataframe thead th {\n",
       "        text-align: right;\n",
       "    }\n",
       "</style>\n",
       "<table border=\"1\" class=\"dataframe\">\n",
       "  <thead>\n",
       "    <tr style=\"text-align: right;\">\n",
       "      <th></th>\n",
       "      <th>ID</th>\n",
       "      <th>RI</th>\n",
       "      <th>NA2O</th>\n",
       "      <th>MGO</th>\n",
       "      <th>AL2O3</th>\n",
       "      <th>SIO2</th>\n",
       "      <th>K2O</th>\n",
       "      <th>CAO</th>\n",
       "      <th>BAO</th>\n",
       "      <th>FE2O3</th>\n",
       "      <th>TYPE</th>\n",
       "    </tr>\n",
       "  </thead>\n",
       "  <tbody>\n",
       "    <tr>\n",
       "      <th>0</th>\n",
       "      <td>1</td>\n",
       "      <td>1.52101</td>\n",
       "      <td>13.64</td>\n",
       "      <td>4.49</td>\n",
       "      <td>1.10</td>\n",
       "      <td>71.78</td>\n",
       "      <td>0.06</td>\n",
       "      <td>8.75</td>\n",
       "      <td>0.0</td>\n",
       "      <td>0.00</td>\n",
       "      <td>1</td>\n",
       "    </tr>\n",
       "    <tr>\n",
       "      <th>1</th>\n",
       "      <td>2</td>\n",
       "      <td>1.51761</td>\n",
       "      <td>13.89</td>\n",
       "      <td>3.60</td>\n",
       "      <td>1.36</td>\n",
       "      <td>72.73</td>\n",
       "      <td>0.48</td>\n",
       "      <td>7.83</td>\n",
       "      <td>0.0</td>\n",
       "      <td>0.00</td>\n",
       "      <td>1</td>\n",
       "    </tr>\n",
       "    <tr>\n",
       "      <th>2</th>\n",
       "      <td>3</td>\n",
       "      <td>1.51618</td>\n",
       "      <td>13.53</td>\n",
       "      <td>3.55</td>\n",
       "      <td>1.54</td>\n",
       "      <td>72.99</td>\n",
       "      <td>0.39</td>\n",
       "      <td>7.78</td>\n",
       "      <td>0.0</td>\n",
       "      <td>0.00</td>\n",
       "      <td>1</td>\n",
       "    </tr>\n",
       "    <tr>\n",
       "      <th>3</th>\n",
       "      <td>4</td>\n",
       "      <td>1.51766</td>\n",
       "      <td>13.21</td>\n",
       "      <td>3.69</td>\n",
       "      <td>1.29</td>\n",
       "      <td>72.61</td>\n",
       "      <td>0.57</td>\n",
       "      <td>8.22</td>\n",
       "      <td>0.0</td>\n",
       "      <td>0.00</td>\n",
       "      <td>1</td>\n",
       "    </tr>\n",
       "    <tr>\n",
       "      <th>4</th>\n",
       "      <td>5</td>\n",
       "      <td>1.51742</td>\n",
       "      <td>13.27</td>\n",
       "      <td>3.62</td>\n",
       "      <td>1.24</td>\n",
       "      <td>73.08</td>\n",
       "      <td>0.55</td>\n",
       "      <td>8.07</td>\n",
       "      <td>0.0</td>\n",
       "      <td>0.00</td>\n",
       "      <td>1</td>\n",
       "    </tr>\n",
       "    <tr>\n",
       "      <th>5</th>\n",
       "      <td>6</td>\n",
       "      <td>1.51596</td>\n",
       "      <td>12.79</td>\n",
       "      <td>3.61</td>\n",
       "      <td>1.62</td>\n",
       "      <td>72.97</td>\n",
       "      <td>0.64</td>\n",
       "      <td>8.07</td>\n",
       "      <td>0.0</td>\n",
       "      <td>0.26</td>\n",
       "      <td>1</td>\n",
       "    </tr>\n",
       "    <tr>\n",
       "      <th>6</th>\n",
       "      <td>7</td>\n",
       "      <td>1.51743</td>\n",
       "      <td>13.30</td>\n",
       "      <td>3.60</td>\n",
       "      <td>1.14</td>\n",
       "      <td>73.09</td>\n",
       "      <td>0.58</td>\n",
       "      <td>8.17</td>\n",
       "      <td>0.0</td>\n",
       "      <td>0.00</td>\n",
       "      <td>1</td>\n",
       "    </tr>\n",
       "    <tr>\n",
       "      <th>7</th>\n",
       "      <td>8</td>\n",
       "      <td>1.51756</td>\n",
       "      <td>13.15</td>\n",
       "      <td>3.61</td>\n",
       "      <td>1.05</td>\n",
       "      <td>73.24</td>\n",
       "      <td>0.57</td>\n",
       "      <td>8.24</td>\n",
       "      <td>0.0</td>\n",
       "      <td>0.00</td>\n",
       "      <td>1</td>\n",
       "    </tr>\n",
       "    <tr>\n",
       "      <th>8</th>\n",
       "      <td>9</td>\n",
       "      <td>1.51918</td>\n",
       "      <td>14.04</td>\n",
       "      <td>3.58</td>\n",
       "      <td>1.37</td>\n",
       "      <td>72.08</td>\n",
       "      <td>0.56</td>\n",
       "      <td>8.30</td>\n",
       "      <td>0.0</td>\n",
       "      <td>0.00</td>\n",
       "      <td>1</td>\n",
       "    </tr>\n",
       "    <tr>\n",
       "      <th>9</th>\n",
       "      <td>10</td>\n",
       "      <td>1.51755</td>\n",
       "      <td>13.00</td>\n",
       "      <td>3.60</td>\n",
       "      <td>1.36</td>\n",
       "      <td>72.99</td>\n",
       "      <td>0.57</td>\n",
       "      <td>8.40</td>\n",
       "      <td>0.0</td>\n",
       "      <td>0.11</td>\n",
       "      <td>1</td>\n",
       "    </tr>\n",
       "  </tbody>\n",
       "</table>\n",
       "</div>"
      ],
      "text/plain": [
       "   ID       RI   NA2O   MGO  AL2O3   SIO2   K2O   CAO  BAO  FE2O3  TYPE\n",
       "0   1  1.52101  13.64  4.49   1.10  71.78  0.06  8.75  0.0   0.00     1\n",
       "1   2  1.51761  13.89  3.60   1.36  72.73  0.48  7.83  0.0   0.00     1\n",
       "2   3  1.51618  13.53  3.55   1.54  72.99  0.39  7.78  0.0   0.00     1\n",
       "3   4  1.51766  13.21  3.69   1.29  72.61  0.57  8.22  0.0   0.00     1\n",
       "4   5  1.51742  13.27  3.62   1.24  73.08  0.55  8.07  0.0   0.00     1\n",
       "5   6  1.51596  12.79  3.61   1.62  72.97  0.64  8.07  0.0   0.26     1\n",
       "6   7  1.51743  13.30  3.60   1.14  73.09  0.58  8.17  0.0   0.00     1\n",
       "7   8  1.51756  13.15  3.61   1.05  73.24  0.57  8.24  0.0   0.00     1\n",
       "8   9  1.51918  14.04  3.58   1.37  72.08  0.56  8.30  0.0   0.00     1\n",
       "9  10  1.51755  13.00  3.60   1.36  72.99  0.57  8.40  0.0   0.11     1"
      ]
     },
     "execution_count": 2,
     "metadata": {},
     "output_type": "execute_result"
    }
   ],
   "source": [
    "#Заголовки данных согласно файлу с описанием glass.tag --Variant 11\n",
    "data_headers = [\"ID\", \"RI\", \"NA2O\", \"MGO\", \"AL2O3\", \"SIO2\", \"K2O\", \"CAO\", \"BAO\", \"FE2O3\", \"TYPE\"]\n",
    "data = pd.read_csv('C:/Учеба/Мага/1 семестр/Интеллектуальные системы и технологии/Практика 3-4/glass.data', names=data_headers)\n",
    "data.head(10)"
   ]
  },
  {
   "cell_type": "markdown",
   "id": "97c9a856",
   "metadata": {},
   "source": [
    "## Соответствие значений столбца TYPE и названий типов"
   ]
  },
  {
   "cell_type": "code",
   "execution_count": 3,
   "id": "22487aac",
   "metadata": {},
   "outputs": [],
   "source": [
    "types = data.iloc[:,10]\n",
    "types_name = {1: \"building_windows_float_processed\",\n",
    "            2 : \"building_windows_non_float_processed\",\n",
    "            3 : \"vehicle_windows_float_processed\",\n",
    "            5 : \"containers\",\n",
    "            6 : \"tableware\",\n",
    "            7 :\"headlamps\"}"
   ]
  },
  {
   "cell_type": "markdown",
   "id": "7942c902",
   "metadata": {},
   "source": [
    "## Предварительно масштабируем данные"
   ]
  },
  {
   "cell_type": "code",
   "execution_count": 4,
   "id": "879b871e",
   "metadata": {},
   "outputs": [
    {
     "name": "stdout",
     "output_type": "stream",
     "text": [
      "Исходные данные\n",
      "[[ 1.52101 13.64     4.49    ...  8.75     0.       0.     ]\n",
      " [ 1.51761 13.89     3.6     ...  7.83     0.       0.     ]\n",
      " [ 1.51618 13.53     3.55    ...  7.78     0.       0.     ]\n",
      " ...\n",
      " [ 1.52065 14.36     0.      ...  8.44     1.64     0.     ]\n",
      " [ 1.51651 14.38     0.      ...  8.48     1.57     0.     ]\n",
      " [ 1.51711 14.23     0.      ...  8.62     1.67     0.     ]]\n",
      "\n",
      "После масштабирования\n",
      "[[ 0.87286765  0.28495326  1.25463857 ... -0.14576634 -0.35287683\n",
      "  -0.5864509 ]\n",
      " [-0.24933347  0.59181718  0.63616803 ... -0.79373376 -0.35287683\n",
      "  -0.5864509 ]\n",
      " [-0.72131806  0.14993314  0.60142249 ... -0.82894938 -0.35287683\n",
      "  -0.5864509 ]\n",
      " ...\n",
      " [ 0.75404635  1.16872135 -1.86551055 ... -0.36410319  2.95320036\n",
      "  -0.5864509 ]\n",
      " [-0.61239854  1.19327046 -1.86551055 ... -0.33593069  2.81208731\n",
      "  -0.5864509 ]\n",
      " [-0.41436305  1.00915211 -1.86551055 ... -0.23732695  3.01367739\n",
      "  -0.5864509 ]]\n"
     ]
    }
   ],
   "source": [
    "data_x = data.iloc[:, 1:-1].values\n",
    "scaler = preprocessing.StandardScaler()\n",
    "data_scaled = scaler.fit_transform(data_x)\n",
    "print('Исходные данные')\n",
    "print(data_x)\n",
    "print('\\nПосле масштабирования')\n",
    "print(data_scaled)"
   ]
  },
  {
   "cell_type": "markdown",
   "id": "0ac0ea04",
   "metadata": {},
   "source": [
    "## Разбиваем данные на обучающую и тестовую выборку"
   ]
  },
  {
   "cell_type": "code",
   "execution_count": 5,
   "id": "16b13322",
   "metadata": {},
   "outputs": [],
   "source": [
    "X_train, X_test, y_train, y_test = train_test_split(data_scaled,\n",
    "                                                    types,\n",
    "                                                    test_size=0.3,\n",
    "                                                    shuffle=True,\n",
    "                                                    stratify=types,\n",
    "                                                    random_state=151)"
   ]
  },
  {
   "cell_type": "markdown",
   "id": "f17f9785",
   "metadata": {},
   "source": [
    "## Производим балансировку классов в обучающих данных, чтобы выровнять число экземпляров для всех классов"
   ]
  },
  {
   "cell_type": "code",
   "execution_count": 6,
   "id": "5fbb5414",
   "metadata": {},
   "outputs": [],
   "source": [
    "sm = SMOTE ()"
   ]
  },
  {
   "cell_type": "code",
   "execution_count": 7,
   "id": "15008a2c",
   "metadata": {},
   "outputs": [],
   "source": [
    "X_train_res, y_train_res = sm.fit_resample(X_train,y_train)"
   ]
  },
  {
   "cell_type": "markdown",
   "id": "a9fca92d",
   "metadata": {},
   "source": [
    "## Посмотрим как изменились данные после балансировки (на примере самых малочисленных классов)"
   ]
  },
  {
   "cell_type": "code",
   "execution_count": 8,
   "id": "60feeadf",
   "metadata": {},
   "outputs": [
    {
     "name": "stdout",
     "output_type": "stream",
     "text": [
      "До балансировки, количество объектов класса '5': 9\n",
      "До балансировки, количество объектов класса '6': 6\n",
      "\n",
      "После балансировки, размерность обучающего набора X_train_res: (318, 9)\n",
      "После балансировки, размерность обучающего набора y_train_res: (318,)\n",
      "\n",
      "После балансировки, количество объектов класса '5': 53\n",
      "После балансировки, количество объектов класса '6': 53\n"
     ]
    }
   ],
   "source": [
    "print (\"До балансировки, количество объектов класса '5': {0}\".format (sum (y_train==5)))\n",
    "print (\"До балансировки, количество объектов класса '6': {0}\\n\".format (sum (y_train==6)))\n",
    "print (\"После балансировки, размерность обучающего набора X_train_res: {0}\".format (X_train_res.shape))\n",
    "print (\"После балансировки, размерность обучающего набора y_train_res: {0}\\n\".format (y_train_res.shape))\n",
    "print (\"После балансировки, количество объектов класса '5': {0}\".format (sum (y_train_res==6)))\n",
    "print (\"После балансировки, количество объектов класса '6': {0}\".format (sum (y_train_res==6)))"
   ]
  },
  {
   "cell_type": "markdown",
   "id": "aabccbad",
   "metadata": {},
   "source": [
    "## Обучение knn классификатора"
   ]
  },
  {
   "cell_type": "code",
   "execution_count": 26,
   "id": "fe55edff",
   "metadata": {},
   "outputs": [],
   "source": [
    "knn = KNeighborsClassifier(n_neighbors=3,\n",
    "                           weights='distance',\n",
    "                           metric='manhattan').fit(X_train_res, y_train_res)"
   ]
  },
  {
   "cell_type": "markdown",
   "id": "a63f3aeb",
   "metadata": {},
   "source": [
    "#### До балансировки\n",
    "Точность предсказания, Precision, Recall, F1 measure для обучающей выборки \\\n",
    "Accuracy: 1.0\\\n",
    "Precision: 1.0\\\n",
    "Recall: 1.0\\\n",
    "F1 measure: 1.0\n",
    "\n",
    "Точность предсказания, Precision, Recall, F1 measure для тестовой выборки\\\n",
    "Accuracy: 0.7230769230769231\\\n",
    "Precision: 0.6976763925729443\\\n",
    "Recall: 0.7230769230769231\\\n",
    "F1 measure: 0.6892310718987879"
   ]
  },
  {
   "cell_type": "markdown",
   "id": "06b7b2f7",
   "metadata": {},
   "source": [
    "#### Удалось достичь с применением балансировки\n",
    "Точность предсказания, Precision, Recall, F1 measure для обучающей выборки\\\n",
    "Accuracy: 1.0\\\n",
    "Precision: 1.0\\\n",
    "Recall: 1.0\\\n",
    "F1 measure: 1.0\n",
    "\n",
    "Точность предсказания, Precision, Recall, F1 measure для тестовой выборки\\\n",
    "Accuracy: 0.7384615384615385\\\n",
    "Precision: 0.7354400959664118\\\n",
    "Recall: 0.7384615384615385\\\n",
    "F1 measure: 0.7333797313797314"
   ]
  },
  {
   "cell_type": "markdown",
   "id": "32f03601",
   "metadata": {},
   "source": [
    "## Предсказание на тестовой выборке"
   ]
  },
  {
   "cell_type": "code",
   "execution_count": 27,
   "id": "ec0a3de5",
   "metadata": {},
   "outputs": [],
   "source": [
    "y_test_pred = knn.predict(X_test)"
   ]
  },
  {
   "cell_type": "markdown",
   "id": "74a379ce",
   "metadata": {},
   "source": [
    "## Точность предсказания, Precision, Recall, F1 measure для обучающей выборки"
   ]
  },
  {
   "cell_type": "code",
   "execution_count": 28,
   "id": "77d64790",
   "metadata": {},
   "outputs": [
    {
     "name": "stdout",
     "output_type": "stream",
     "text": [
      "Accuracy: 1.0\n",
      "Precision: 1.0\n",
      "Recall: 1.0\n",
      "F1 measure: 1.0\n"
     ]
    }
   ],
   "source": [
    "from sklearn import metrics\n",
    "y_train_pred = knn.predict(X_train_res)\n",
    "# Model Accuracy: how often is the classifier correct?\n",
    "print(\"Accuracy:\", metrics.accuracy_score(y_train_res, y_train_pred))\n",
    "\n",
    "# Model Precision: what percentage of positive tuples are labeled as such?\n",
    "print(\"Precision:\", metrics.precision_score(y_train_res, y_train_pred, average='weighted'))\n",
    "\n",
    "# Model Recall: what percentage of positive tuples are labelled as such?\n",
    "print(\"Recall:\", metrics.recall_score(y_train_res, y_train_pred, average='weighted'))\n",
    "\n",
    "# Model Recall: what percentage of positive tuples are labelled as such?\n",
    "print(\"F1 measure:\", metrics.f1_score(y_train_res, y_train_pred, average='weighted'))"
   ]
  },
  {
   "cell_type": "markdown",
   "id": "2ab87d32",
   "metadata": {},
   "source": [
    "## Точность предсказания, Precision, Recall, F1 measure для тестовой выборки"
   ]
  },
  {
   "cell_type": "code",
   "execution_count": 29,
   "id": "e158fa4e",
   "metadata": {},
   "outputs": [
    {
     "name": "stdout",
     "output_type": "stream",
     "text": [
      "Accuracy: 0.7384615384615385\n",
      "Precision: 0.7354400959664118\n",
      "Recall: 0.7384615384615385\n",
      "F1 measure: 0.7333797313797314\n"
     ]
    }
   ],
   "source": [
    "from sklearn import metrics\n",
    "\n",
    "# Model Accuracy: how often is the classifier correct?\n",
    "print(\"Accuracy:\",metrics.accuracy_score(y_test, y_test_pred))\n",
    "\n",
    "# Model Precision: what percentage of positive tuples are labeled as such?\n",
    "print(\"Precision:\",metrics.precision_score(y_test, y_test_pred, average='weighted'))\n",
    "\n",
    "# Model Recall: what percentage of positive tuples are labelled as such?\n",
    "print(\"Recall:\",metrics.recall_score(y_test, y_test_pred, average='weighted'))\n",
    "\n",
    "# Model Recall: what percentage of positive tuples are labelled as such?\n",
    "print(\"F1 measure:\",metrics.f1_score(y_test, y_test_pred, average='weighted'))"
   ]
  },
  {
   "cell_type": "markdown",
   "id": "e59a9242",
   "metadata": {},
   "source": [
    "## Grid search"
   ]
  },
  {
   "cell_type": "code",
   "execution_count": 30,
   "id": "bb2e0a8a",
   "metadata": {},
   "outputs": [
    {
     "name": "stdout",
     "output_type": "stream",
     "text": [
      "Fitting 3 folds for each of 136 candidates, totalling 408 fits\n"
     ]
    }
   ],
   "source": [
    "grid_params = {\n",
    "    'n_neighbors' : list(range(3,20)),\n",
    "    'weights' : ['uniform', 'distance'],\n",
    "    'metric' : ['euclidean', 'manhattan', 'chebyshev', 'minkowski']\n",
    "}\n",
    "\n",
    "gs = GridSearchCV(KNeighborsClassifier(),\n",
    "    grid_params,\n",
    "    verbose=1,\n",
    "    cv=3,\n",
    "    n_jobs=-1)\n",
    "\n",
    "gs_results = gs.fit(X_train_res, y_train_res)"
   ]
  },
  {
   "cell_type": "code",
   "execution_count": 31,
   "id": "f6514b0b",
   "metadata": {},
   "outputs": [
    {
     "data": {
      "text/plain": [
       "0.8710691823899371"
      ]
     },
     "execution_count": 31,
     "metadata": {},
     "output_type": "execute_result"
    }
   ],
   "source": [
    "gs_results.best_score_\n",
    "#0.8710691823899371"
   ]
  },
  {
   "cell_type": "code",
   "execution_count": 32,
   "id": "1ddeb35b",
   "metadata": {},
   "outputs": [
    {
     "data": {
      "text/plain": [
       "KNeighborsClassifier(metric='manhattan', n_neighbors=3, weights='distance')"
      ]
     },
     "execution_count": 32,
     "metadata": {},
     "output_type": "execute_result"
    }
   ],
   "source": [
    "gs_results.best_estimator_\n",
    "#KNeighborsClassifier(metric='manhattan', n_neighbors=3, weights='distance')"
   ]
  },
  {
   "cell_type": "code",
   "execution_count": 33,
   "id": "6d8cf6f0",
   "metadata": {},
   "outputs": [
    {
     "data": {
      "text/plain": [
       "{'metric': 'manhattan', 'n_neighbors': 3, 'weights': 'distance'}"
      ]
     },
     "execution_count": 33,
     "metadata": {},
     "output_type": "execute_result"
    }
   ],
   "source": [
    "gs_results.best_params_\n",
    "#{'metric': 'manhattan', 'n_neighbors': 3, 'weights': 'distance'}"
   ]
  },
  {
   "cell_type": "markdown",
   "id": "b0331d14",
   "metadata": {},
   "source": [
    "## Снижение размерности обучающих данных для рисования при помощи TSNE"
   ]
  },
  {
   "cell_type": "code",
   "execution_count": 34,
   "id": "34774914",
   "metadata": {},
   "outputs": [
    {
     "name": "stderr",
     "output_type": "stream",
     "text": [
      "c:\\users\\fisen\\appdata\\local\\programs\\python\\python38\\lib\\site-packages\\sklearn\\manifold\\_t_sne.py:790: FutureWarning: The default learning rate in TSNE will change from 200.0 to 'auto' in 1.2.\n",
      "  warnings.warn(\n"
     ]
    }
   ],
   "source": [
    "train_tsne = TSNE(init='random', perplexity=12.0, random_state = 151).fit_transform(X_train_res)"
   ]
  },
  {
   "cell_type": "markdown",
   "id": "a1aa22e8",
   "metadata": {},
   "source": [
    "## Отображение обучающего набора данных"
   ]
  },
  {
   "cell_type": "code",
   "execution_count": 35,
   "id": "e8c93cfc",
   "metadata": {},
   "outputs": [
    {
     "data": {
      "text/plain": [
       "[Text(0.5, 1.0, 'T-SNE projection of training data')]"
      ]
     },
     "execution_count": 35,
     "metadata": {},
     "output_type": "execute_result"
    },
    {
     "data": {
      "image/png": "[encoded data removed]",
      "text/plain": [
       "<Figure size 432x288 with 1 Axes>"
      ]
     },
     "metadata": {
      "needs_background": "light"
     },
     "output_type": "display_data"
    }
   ],
   "source": [
    "train_tsne_df = pd.DataFrame()\n",
    "train_tsne_df[\"y\"] = y_train_res\n",
    "train_tsne_df[\"comp-1\"] = train_tsne[:,0]\n",
    "train_tsne_df[\"comp-2\"] = train_tsne[:,1]\n",
    "sns.scatterplot(x=\"comp-1\",\n",
    "                y=\"comp-2\",\n",
    "                hue=train_tsne_df.y.tolist(),\n",
    "                palette=sns.color_palette(\"hls\", len(Counter(train_tsne_df.y.tolist()))),\n",
    "                data=train_tsne_df,\n",
    "                s=50).set(title=\"T-SNE projection of training data\") "
   ]
  },
  {
   "cell_type": "markdown",
   "id": "2a468911",
   "metadata": {},
   "source": [
    "## Отображение результата классификации обучающего набора данных"
   ]
  },
  {
   "cell_type": "code",
   "execution_count": 36,
   "id": "fd37436a",
   "metadata": {},
   "outputs": [
    {
     "data": {
      "text/plain": [
       "[Text(0.5, 1.0, 'T-SNE projection of prediction on training data')]"
      ]
     },
     "execution_count": 36,
     "metadata": {},
     "output_type": "execute_result"
    },
    {
     "data": {
      "image/png": "[encoded data removed]",
      "text/plain": [
       "<Figure size 432x288 with 1 Axes>"
      ]
     },
     "metadata": {
      "needs_background": "light"
     },
     "output_type": "display_data"
    }
   ],
   "source": [
    "sns.scatterplot(x=\"comp-1\",\n",
    "                y=\"comp-2\",\n",
    "                hue=y_train_pred,\n",
    "                palette=sns.color_palette(\"hls\", len(Counter(y_train_pred))),\n",
    "                data=train_tsne_df,\n",
    "                s=50).set(title=\"T-SNE projection of prediction on training data\") "
   ]
  },
  {
   "cell_type": "markdown",
   "id": "6945817b",
   "metadata": {},
   "source": [
    "## Снижение размерности тестовых данных для отображения при помощи TSNE"
   ]
  },
  {
   "cell_type": "code",
   "execution_count": 37,
   "id": "f963aa26",
   "metadata": {},
   "outputs": [
    {
     "name": "stderr",
     "output_type": "stream",
     "text": [
      "c:\\users\\fisen\\appdata\\local\\programs\\python\\python38\\lib\\site-packages\\sklearn\\manifold\\_t_sne.py:790: FutureWarning: The default learning rate in TSNE will change from 200.0 to 'auto' in 1.2.\n",
      "  warnings.warn(\n"
     ]
    }
   ],
   "source": [
    "test_tsne = TSNE(init='random', perplexity=20.0, random_state = 151).fit_transform(X_test)"
   ]
  },
  {
   "cell_type": "markdown",
   "id": "6b5cffd0",
   "metadata": {},
   "source": [
    "## Отображение тестового набора данных"
   ]
  },
  {
   "cell_type": "code",
   "execution_count": 38,
   "id": "4959245f",
   "metadata": {},
   "outputs": [
    {
     "data": {
      "text/plain": [
       "[Text(0.5, 1.0, 'T-SNE projection of test data')]"
      ]
     },
     "execution_count": 38,
     "metadata": {},
     "output_type": "execute_result"
    },
    {
     "data": {
      "image/png": "[encoded data removed]",
      "text/plain": [
       "<Figure size 432x288 with 1 Axes>"
      ]
     },
     "metadata": {
      "needs_background": "light"
     },
     "output_type": "display_data"
    }
   ],
   "source": [
    "test_tsne_df = pd.DataFrame()\n",
    "test_tsne_df[\"y\"] = y_test\n",
    "test_tsne_df[\"comp-1\"] = test_tsne[:,0]\n",
    "test_tsne_df[\"comp-2\"] = test_tsne[:,1]\n",
    "sns.scatterplot(x=\"comp-1\",\n",
    "                y=\"comp-2\",\n",
    "                hue=test_tsne_df.y.tolist(),\n",
    "                palette=sns.color_palette(\"hls\", len(Counter(test_tsne_df.y.tolist()))),\n",
    "                data=test_tsne_df,\n",
    "                s=75).set(title=\"T-SNE projection of test data\") "
   ]
  },
  {
   "cell_type": "markdown",
   "id": "4c9b9d7f",
   "metadata": {},
   "source": [
    "## Отображение результата классификации тестового набора данных"
   ]
  },
  {
   "cell_type": "code",
   "execution_count": 39,
   "id": "0f1f1902",
   "metadata": {},
   "outputs": [
    {
     "data": {
      "text/plain": [
       "[Text(0.5, 1.0, 'T-SNE projection of prediction on test data')]"
      ]
     },
     "execution_count": 39,
     "metadata": {},
     "output_type": "execute_result"
    },
    {
     "data": {
      "image/png": "[encoded data removed]",
      "text/plain": [
       "<Figure size 432x288 with 1 Axes>"
      ]
     },
     "metadata": {
      "needs_background": "light"
     },
     "output_type": "display_data"
    }
   ],
   "source": [
    "sns.scatterplot(x=\"comp-1\",\n",
    "                y=\"comp-2\",\n",
    "                hue=y_test_pred,\n",
    "                palette=sns.color_palette(\"hls\", len(Counter(y_test_pred))),\n",
    "                data=test_tsne_df,\n",
    "                s=75).set(title=\"T-SNE projection of prediction on test data\") "
   ]
  },
  {
   "cell_type": "markdown",
   "id": "c2160610",
   "metadata": {},
   "source": [
    "## Примечания"
   ]
  },
  {
   "cell_type": "markdown",
   "id": "1eea794b",
   "metadata": {},
   "source": [
    "В датасете представлено 6 категорий стекол:\n",
    "\n",
    "1: \"building_windows_float_processed\" - 70 экземпляров\\\n",
    "2 : \"building_windows_non_float_processed\" - 76 экземпляров\\\n",
    "3 : \"vehicle_windows_float_processed\" - 17 экземпляров\\\n",
    "5 : \"containers\" - 13 экземпляров\\\n",
    "6 : \"tableware\" - 9 экземпляров\\\n",
    "7 :\"headlamps\" - 29 экземпляров\n",
    "\n",
    "После балансировки классификация объектов практически не изменилась.\\\n",
    "Однако все равно можно увидеть, что Метод ближайших соседей классифицирует объекты лучше, чем метод опорных векторов для данного набора данных.\\\n",
    "В проведенных тестах видно, что классы объектов не исчезают полностью (Категория 5 в SVM была полностью включена в класс 2)\\\n",
    "Точность определения тестовых данных выше на ~7% "
   ]
  }
 ],
 "metadata": {
  "kernelspec": {
   "display_name": "Python 3 (ipykernel)",
   "language": "python",
   "name": "python3"
  },
  "language_info": {
   "codemirror_mode": {
    "name": "ipython",
    "version": 3
   },
   "file_extension": ".py",
   "mimetype": "text/x-python",
   "name": "python",
   "nbconvert_exporter": "python",
   "pygments_lexer": "ipython3",
   "version": "3.8.8"
  }
 },
 "nbformat": 4,
 "nbformat_minor": 5
}
