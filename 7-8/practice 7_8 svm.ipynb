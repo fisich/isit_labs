{
 "cells": [
  {
   "cell_type": "markdown",
   "id": "0eb55f8d",
   "metadata": {},
   "source": [
    "## ЧАСТЬ A"
   ]
  },
  {
   "cell_type": "code",
   "execution_count": 1,
   "id": "e0b2a418",
   "metadata": {},
   "outputs": [],
   "source": [
    "import pandas as pd\n",
    "import numpy as np\n",
    "from sklearn import preprocessing\n",
    "from sklearn.manifold import TSNE\n",
    "from sklearn.model_selection import train_test_split, GridSearchCV\n",
    "from sklearn.svm import SVC\n",
    "import seaborn as sns\n",
    "from collections import Counter\n",
    "from imblearn.over_sampling import SMOTE"
   ]
  },
  {
   "cell_type": "markdown",
   "id": "895737ca",
   "metadata": {},
   "source": [
    "## Извлечение датасета"
   ]
  },
  {
   "cell_type": "code",
   "execution_count": 2,
   "id": "c9cfb65e",
   "metadata": {},
   "outputs": [
    {
     "data": {
      "text/html": [
       "<div>\n",
       "<style scoped>\n",
       "    .dataframe tbody tr th:only-of-type {\n",
       "        vertical-align: middle;\n",
       "    }\n",
       "\n",
       "    .dataframe tbody tr th {\n",
       "        vertical-align: top;\n",
       "    }\n",
       "\n",
       "    .dataframe thead th {\n",
       "        text-align: right;\n",
       "    }\n",
       "</style>\n",
       "<table border=\"1\" class=\"dataframe\">\n",
       "  <thead>\n",
       "    <tr style=\"text-align: right;\">\n",
       "      <th></th>\n",
       "      <th>ID</th>\n",
       "      <th>RI</th>\n",
       "      <th>NA2O</th>\n",
       "      <th>MGO</th>\n",
       "      <th>AL2O3</th>\n",
       "      <th>SIO2</th>\n",
       "      <th>K2O</th>\n",
       "      <th>CAO</th>\n",
       "      <th>BAO</th>\n",
       "      <th>FE2O3</th>\n",
       "      <th>TYPE</th>\n",
       "    </tr>\n",
       "  </thead>\n",
       "  <tbody>\n",
       "    <tr>\n",
       "      <th>0</th>\n",
       "      <td>1</td>\n",
       "      <td>1.52101</td>\n",
       "      <td>13.64</td>\n",
       "      <td>4.49</td>\n",
       "      <td>1.10</td>\n",
       "      <td>71.78</td>\n",
       "      <td>0.06</td>\n",
       "      <td>8.75</td>\n",
       "      <td>0.0</td>\n",
       "      <td>0.00</td>\n",
       "      <td>1</td>\n",
       "    </tr>\n",
       "    <tr>\n",
       "      <th>1</th>\n",
       "      <td>2</td>\n",
       "      <td>1.51761</td>\n",
       "      <td>13.89</td>\n",
       "      <td>3.60</td>\n",
       "      <td>1.36</td>\n",
       "      <td>72.73</td>\n",
       "      <td>0.48</td>\n",
       "      <td>7.83</td>\n",
       "      <td>0.0</td>\n",
       "      <td>0.00</td>\n",
       "      <td>1</td>\n",
       "    </tr>\n",
       "    <tr>\n",
       "      <th>2</th>\n",
       "      <td>3</td>\n",
       "      <td>1.51618</td>\n",
       "      <td>13.53</td>\n",
       "      <td>3.55</td>\n",
       "      <td>1.54</td>\n",
       "      <td>72.99</td>\n",
       "      <td>0.39</td>\n",
       "      <td>7.78</td>\n",
       "      <td>0.0</td>\n",
       "      <td>0.00</td>\n",
       "      <td>1</td>\n",
       "    </tr>\n",
       "    <tr>\n",
       "      <th>3</th>\n",
       "      <td>4</td>\n",
       "      <td>1.51766</td>\n",
       "      <td>13.21</td>\n",
       "      <td>3.69</td>\n",
       "      <td>1.29</td>\n",
       "      <td>72.61</td>\n",
       "      <td>0.57</td>\n",
       "      <td>8.22</td>\n",
       "      <td>0.0</td>\n",
       "      <td>0.00</td>\n",
       "      <td>1</td>\n",
       "    </tr>\n",
       "    <tr>\n",
       "      <th>4</th>\n",
       "      <td>5</td>\n",
       "      <td>1.51742</td>\n",
       "      <td>13.27</td>\n",
       "      <td>3.62</td>\n",
       "      <td>1.24</td>\n",
       "      <td>73.08</td>\n",
       "      <td>0.55</td>\n",
       "      <td>8.07</td>\n",
       "      <td>0.0</td>\n",
       "      <td>0.00</td>\n",
       "      <td>1</td>\n",
       "    </tr>\n",
       "    <tr>\n",
       "      <th>5</th>\n",
       "      <td>6</td>\n",
       "      <td>1.51596</td>\n",
       "      <td>12.79</td>\n",
       "      <td>3.61</td>\n",
       "      <td>1.62</td>\n",
       "      <td>72.97</td>\n",
       "      <td>0.64</td>\n",
       "      <td>8.07</td>\n",
       "      <td>0.0</td>\n",
       "      <td>0.26</td>\n",
       "      <td>1</td>\n",
       "    </tr>\n",
       "    <tr>\n",
       "      <th>6</th>\n",
       "      <td>7</td>\n",
       "      <td>1.51743</td>\n",
       "      <td>13.30</td>\n",
       "      <td>3.60</td>\n",
       "      <td>1.14</td>\n",
       "      <td>73.09</td>\n",
       "      <td>0.58</td>\n",
       "      <td>8.17</td>\n",
       "      <td>0.0</td>\n",
       "      <td>0.00</td>\n",
       "      <td>1</td>\n",
       "    </tr>\n",
       "    <tr>\n",
       "      <th>7</th>\n",
       "      <td>8</td>\n",
       "      <td>1.51756</td>\n",
       "      <td>13.15</td>\n",
       "      <td>3.61</td>\n",
       "      <td>1.05</td>\n",
       "      <td>73.24</td>\n",
       "      <td>0.57</td>\n",
       "      <td>8.24</td>\n",
       "      <td>0.0</td>\n",
       "      <td>0.00</td>\n",
       "      <td>1</td>\n",
       "    </tr>\n",
       "    <tr>\n",
       "      <th>8</th>\n",
       "      <td>9</td>\n",
       "      <td>1.51918</td>\n",
       "      <td>14.04</td>\n",
       "      <td>3.58</td>\n",
       "      <td>1.37</td>\n",
       "      <td>72.08</td>\n",
       "      <td>0.56</td>\n",
       "      <td>8.30</td>\n",
       "      <td>0.0</td>\n",
       "      <td>0.00</td>\n",
       "      <td>1</td>\n",
       "    </tr>\n",
       "    <tr>\n",
       "      <th>9</th>\n",
       "      <td>10</td>\n",
       "      <td>1.51755</td>\n",
       "      <td>13.00</td>\n",
       "      <td>3.60</td>\n",
       "      <td>1.36</td>\n",
       "      <td>72.99</td>\n",
       "      <td>0.57</td>\n",
       "      <td>8.40</td>\n",
       "      <td>0.0</td>\n",
       "      <td>0.11</td>\n",
       "      <td>1</td>\n",
       "    </tr>\n",
       "  </tbody>\n",
       "</table>\n",
       "</div>"
      ],
      "text/plain": [
       "   ID       RI   NA2O   MGO  AL2O3   SIO2   K2O   CAO  BAO  FE2O3  TYPE\n",
       "0   1  1.52101  13.64  4.49   1.10  71.78  0.06  8.75  0.0   0.00     1\n",
       "1   2  1.51761  13.89  3.60   1.36  72.73  0.48  7.83  0.0   0.00     1\n",
       "2   3  1.51618  13.53  3.55   1.54  72.99  0.39  7.78  0.0   0.00     1\n",
       "3   4  1.51766  13.21  3.69   1.29  72.61  0.57  8.22  0.0   0.00     1\n",
       "4   5  1.51742  13.27  3.62   1.24  73.08  0.55  8.07  0.0   0.00     1\n",
       "5   6  1.51596  12.79  3.61   1.62  72.97  0.64  8.07  0.0   0.26     1\n",
       "6   7  1.51743  13.30  3.60   1.14  73.09  0.58  8.17  0.0   0.00     1\n",
       "7   8  1.51756  13.15  3.61   1.05  73.24  0.57  8.24  0.0   0.00     1\n",
       "8   9  1.51918  14.04  3.58   1.37  72.08  0.56  8.30  0.0   0.00     1\n",
       "9  10  1.51755  13.00  3.60   1.36  72.99  0.57  8.40  0.0   0.11     1"
      ]
     },
     "execution_count": 2,
     "metadata": {},
     "output_type": "execute_result"
    }
   ],
   "source": [
    "#Заголовки данных согласно файлу с описанием glass.tag --Variant 11\n",
    "data_headers = [\"ID\", \"RI\", \"NA2O\", \"MGO\", \"AL2O3\", \"SIO2\", \"K2O\", \"CAO\", \"BAO\", \"FE2O3\", \"TYPE\"]\n",
    "data = pd.read_csv('C:/Учеба/Мага/1 семестр/Интеллектуальные системы и технологии/Практика 3-4/glass.data', names=data_headers)\n",
    "data.head(10)"
   ]
  },
  {
   "cell_type": "markdown",
   "id": "97c9a856",
   "metadata": {},
   "source": [
    "## Соответствие значений столбца TYPE и названий типов"
   ]
  },
  {
   "cell_type": "code",
   "execution_count": 3,
   "id": "22487aac",
   "metadata": {},
   "outputs": [],
   "source": [
    "types = data.iloc[:,10]\n",
    "types_name = {1: \"building_windows_float_processed\",\n",
    "            2 : \"building_windows_non_float_processed\",\n",
    "            3 : \"vehicle_windows_float_processed\",\n",
    "            5 : \"containers\",\n",
    "            6 : \"tableware\",\n",
    "            7 :\"headlamps\"}"
   ]
  },
  {
   "cell_type": "markdown",
   "id": "7942c902",
   "metadata": {},
   "source": [
    "## Предварительно масштабируем данные"
   ]
  },
  {
   "cell_type": "code",
   "execution_count": 4,
   "id": "879b871e",
   "metadata": {},
   "outputs": [
    {
     "name": "stdout",
     "output_type": "stream",
     "text": [
      "Исходные данные\n",
      "[[ 1.52101 13.64     4.49    ...  8.75     0.       0.     ]\n",
      " [ 1.51761 13.89     3.6     ...  7.83     0.       0.     ]\n",
      " [ 1.51618 13.53     3.55    ...  7.78     0.       0.     ]\n",
      " ...\n",
      " [ 1.52065 14.36     0.      ...  8.44     1.64     0.     ]\n",
      " [ 1.51651 14.38     0.      ...  8.48     1.57     0.     ]\n",
      " [ 1.51711 14.23     0.      ...  8.62     1.67     0.     ]]\n",
      "\n",
      "После масштабирования\n",
      "[[ 0.87286765  0.28495326  1.25463857 ... -0.14576634 -0.35287683\n",
      "  -0.5864509 ]\n",
      " [-0.24933347  0.59181718  0.63616803 ... -0.79373376 -0.35287683\n",
      "  -0.5864509 ]\n",
      " [-0.72131806  0.14993314  0.60142249 ... -0.82894938 -0.35287683\n",
      "  -0.5864509 ]\n",
      " ...\n",
      " [ 0.75404635  1.16872135 -1.86551055 ... -0.36410319  2.95320036\n",
      "  -0.5864509 ]\n",
      " [-0.61239854  1.19327046 -1.86551055 ... -0.33593069  2.81208731\n",
      "  -0.5864509 ]\n",
      " [-0.41436305  1.00915211 -1.86551055 ... -0.23732695  3.01367739\n",
      "  -0.5864509 ]]\n"
     ]
    }
   ],
   "source": [
    "data_x = data.iloc[:, 1:-1].values\n",
    "scaler = preprocessing.StandardScaler()\n",
    "data_scaled = scaler.fit_transform(data_x)\n",
    "print('Исходные данные')\n",
    "print(data_x)\n",
    "print('\\nПосле масштабирования')\n",
    "print(data_scaled)"
   ]
  },
  {
   "cell_type": "markdown",
   "id": "0ac0ea04",
   "metadata": {},
   "source": [
    "## Разбиваем данные на обучающую и тестовую выборку"
   ]
  },
  {
   "cell_type": "code",
   "execution_count": 5,
   "id": "16b13322",
   "metadata": {},
   "outputs": [],
   "source": [
    "X_train, X_test, y_train, y_test = train_test_split(data_scaled,\n",
    "                                                    types,\n",
    "                                                    test_size=0.3,\n",
    "                                                    shuffle=True,\n",
    "                                                    stratify=types,\n",
    "                                                    random_state=151)"
   ]
  },
  {
   "cell_type": "markdown",
   "id": "a35c39e8",
   "metadata": {},
   "source": [
    "## Производим балансировку классов в обучающих данных, чтобы выровнять число экземпляров для всех классов"
   ]
  },
  {
   "cell_type": "code",
   "execution_count": 6,
   "id": "53d18047",
   "metadata": {},
   "outputs": [],
   "source": [
    "sm = SMOTE ()"
   ]
  },
  {
   "cell_type": "code",
   "execution_count": 7,
   "id": "70fbd59a",
   "metadata": {},
   "outputs": [],
   "source": [
    "X_train_res, y_train_res = sm.fit_resample(X_train,y_train)"
   ]
  },
  {
   "cell_type": "markdown",
   "id": "8653bc8f",
   "metadata": {},
   "source": [
    "## Посмотрим как изменились данные после балансировки (на примере самых малочисленных классов)"
   ]
  },
  {
   "cell_type": "code",
   "execution_count": 8,
   "id": "a4ad7735",
   "metadata": {},
   "outputs": [
    {
     "name": "stdout",
     "output_type": "stream",
     "text": [
      "До балансировки, количество объектов класса '5': 9\n",
      "До балансировки, количество объектов класса '6': 6\n",
      "\n",
      "После балансировки, размерность обучающего набора X_train_res: (318, 9)\n",
      "После балансировки, размерность обучающего набора y_train_res: (318,)\n",
      "\n",
      "После балансировки, количество объектов класса '5': 53\n",
      "После балансировки, количество объектов класса '6': 53\n"
     ]
    }
   ],
   "source": [
    "print (\"До балансировки, количество объектов класса '5': {0}\".format (sum (y_train==5)))\n",
    "print (\"До балансировки, количество объектов класса '6': {0}\\n\".format (sum (y_train==6)))\n",
    "print (\"После балансировки, размерность обучающего набора X_train_res: {0}\".format (X_train_res.shape))\n",
    "print (\"После балансировки, размерность обучающего набора y_train_res: {0}\\n\".format (y_train_res.shape))\n",
    "print (\"После балансировки, количество объектов класса '5': {0}\".format (sum (y_train_res==6)))\n",
    "print (\"После балансировки, количество объектов класса '6': {0}\".format (sum (y_train_res==6)))"
   ]
  },
  {
   "cell_type": "markdown",
   "id": "aabccbad",
   "metadata": {},
   "source": [
    "## Обучение модели linear"
   ]
  },
  {
   "cell_type": "code",
   "execution_count": null,
   "id": "fe55edff",
   "metadata": {},
   "outputs": [],
   "source": [
    "C = 10.0  # Параметр регуляризации\n",
    "svm = SVC(kernel='linear', C=C, gamma=0.1, degree=1.0).fit(X_train_res,y_train_res)\n",
    "# Поиск по сетке определил следующие параметры для linear\n",
    "# SVC(C=10.0, degree=1.0, gamma=0.1, kernel='linear')"
   ]
  },
  {
   "cell_type": "markdown",
   "id": "6857a49b",
   "metadata": {},
   "source": [
    "#### До балансировки\n",
    "Точность предсказания, Precision, Recall, F1 measure для обучающей выборки\\\n",
    "Accuracy: 0.7046979865771812\\\n",
    "Precision: 0.6642480885898319\\\n",
    "Recall: 0.7046979865771812\\\n",
    "F1 measure: 0.6803987663305248\n",
    "\n",
    "Точность предсказания, Precision, Recall, F1 measure для тестовой выборки\\\n",
    "Accuracy: 0.6615384615384615\\\n",
    "Precision: 0.6401193633952253\\\n",
    "Recall: 0.6615384615384615\\\n",
    "F1 measure: 0.6339250493096646"
   ]
  },
  {
   "cell_type": "markdown",
   "id": "daf85b9a",
   "metadata": {},
   "source": [
    "#### Удалось достичь с применением балансировки\n",
    "Точность предсказания, Precision, Recall, F1 measure для обучающей выборки\\\n",
    "Accuracy: 0.89937106918239\\\n",
    "Precision: 0.8979202882804577\\\n",
    "Recall: 0.89937106918239\\\n",
    "F1 measure: 0.897905862014773\n",
    "\n",
    "Точность предсказания, Precision, Recall, F1 measure для тестовой выборки\\\n",
    "Accuracy: 0.676923076923077\\\n",
    "Precision: 0.722238310708899\\\n",
    "Recall: 0.676923076923077\\\n",
    "F1 measure: 0.690123952414974"
   ]
  },
  {
   "cell_type": "markdown",
   "id": "00dd16ec",
   "metadata": {},
   "source": [
    "## Обучение модели RBF"
   ]
  },
  {
   "cell_type": "code",
   "execution_count": 22,
   "id": "7ffcb20f",
   "metadata": {},
   "outputs": [],
   "source": [
    "C = 3.0  # Параметр регуляризации\n",
    "svm = SVC(kernel='rbf', gamma=1.4, degree=0.1, C=C).fit(X_train_res,y_train_res)\n",
    "# Поиск по сетке определил следующие параметры для rbf\n",
    "# {'C': 3.0, 'degree': 0.1, 'gamma': 1.4, 'kernel': 'rbf'}"
   ]
  },
  {
   "cell_type": "markdown",
   "id": "deb20f27",
   "metadata": {},
   "source": [
    "#### До балансировки\n",
    "Точность предсказания, Precision, Recall, F1 measure для обучающей выборки\\\n",
    "Accuracy: 0.8657718120805369\\\n",
    "Precision: 0.8660878519938923\\\n",
    "Recall: 0.8657718120805369\\\n",
    "F1 measure: 0.8572198573993356\n",
    "\n",
    "Точность предсказания, Precision, Recall, F1 measure для тестовой выборки\\\n",
    "Accuracy: 0.676923076923077\\\n",
    "Precision: 0.6130399012751954\\\n",
    "Recall: 0.676923076923077\\\n",
    "F1 measure: 0.6317925179675487"
   ]
  },
  {
   "cell_type": "markdown",
   "id": "ec7bb68f",
   "metadata": {},
   "source": [
    "#### Удалось достичь с применением балансировки\n",
    "Точность предсказания, Precision, Recall, F1 measure для обучающей выборки\\\n",
    "Accuracy: 0.9842767295597484\\\n",
    "Precision: 0.984382111907084\\\n",
    "Recall: 0.9842767295597484\\\n",
    "F1 measure: 0.9842140156605566\n",
    "\n",
    "Точность предсказания, Precision, Recall, F1 measure для тестовой выборки\\\n",
    "Accuracy: 0.6923076923076923\\\n",
    "Precision: 0.6807692307692308\\\n",
    "Recall: 0.6923076923076923\\\n",
    "F1 measure: 0.6627442440219494"
   ]
  },
  {
   "cell_type": "markdown",
   "id": "886e302e",
   "metadata": {},
   "source": [
    "## Обучение полиномиальной модели"
   ]
  },
  {
   "cell_type": "code",
   "execution_count": null,
   "id": "bcf0b9af",
   "metadata": {},
   "outputs": [],
   "source": [
    "C = 1.0  # Параметр регуляризации\n",
    "svm = SVC(kernel='poly', degree=2.0, gamma = 2.4, C=C).fit(X_train_res,y_train_res)\n",
    "# Поиск по сетке определил следующие параметры для poly\n",
    "# {'C': 1.0, 'degree': 2.0, 'gamma': 2.4, 'kernel': 'poly'}"
   ]
  },
  {
   "cell_type": "markdown",
   "id": "95733f28",
   "metadata": {},
   "source": [
    "#### До балансировки\n",
    "Точность предсказания, Precision, Recall, F1 measure для обучающей выборки\\\n",
    "Accuracy: 0.9328859060402684\\\n",
    "Precision: 0.9341117765395559\\\n",
    "Recall: 0.9328859060402684\\\n",
    "F1 measure: 0.9327306972384667\n",
    "\n",
    "Точность предсказания, Precision, Recall, F1 measure для тестовой выборки\\\n",
    "Accuracy: 0.6615384615384615\\\n",
    "Precision: 0.6292307692307691\\\n",
    "Recall: 0.6615384615384615\\\n",
    "F1 measure: 0.636613416982774"
   ]
  },
  {
   "cell_type": "markdown",
   "id": "79bc1f9b",
   "metadata": {},
   "source": [
    "#### Удалось достичь с применением балансировки\n",
    "Точность предсказания, Precision, Recall, F1 measure для обучающей выборки\\\n",
    "Accuracy: 0.9622641509433962\\\n",
    "Precision: 0.9620148247978438\\\n",
    "Recall: 0.9622641509433962\\\n",
    "F1 measure: 0.9618902208456367\n",
    "\n",
    "Точность предсказания, Precision, Recall, F1 measure для тестовой выборки\\\n",
    "Accuracy: 0.6923076923076923\\\n",
    "Precision: 0.7088770999115827\\\n",
    "Recall: 0.6923076923076923\\\n",
    "F1 measure: 0.6868307552001122"
   ]
  },
  {
   "cell_type": "markdown",
   "id": "ca51113e",
   "metadata": {},
   "source": [
    "## Обучение сигмоидальной модели"
   ]
  },
  {
   "cell_type": "code",
   "execution_count": null,
   "id": "76c193e1",
   "metadata": {},
   "outputs": [],
   "source": [
    "C = 2.0  # Параметр регуляризации\n",
    "svm = SVC(kernel='sigmoid', gamma=0.1, C=C).fit(X_train_res,y_train_res)\n",
    "# Поиск по сетке определил следующие параметры для sigmoid\n",
    "# SVC(C=2.0, degree=0.1, gamma=0.1, kernel='sigmoid')"
   ]
  },
  {
   "cell_type": "markdown",
   "id": "0b10134e",
   "metadata": {},
   "source": [
    "Точность предсказания, Precision, Recall, F1 measure для обучающей выборки\\\n",
    "Accuracy: 0.6666666666666666\\\n",
    "Precision: 0.6674413683687876\\\n",
    "Recall: 0.6666666666666666\\\n",
    "F1 measure: 0.6626507456620728\n",
    "\n",
    "Точность предсказания, Precision, Recall, F1 measure для тестовой выборки\\\n",
    "Accuracy: 0.38461538461538464\\\n",
    "Precision: 0.48612655318537673\\\n",
    "Recall: 0.38461538461538464\\\n",
    "F1 measure: 0.40655978168173296"
   ]
  },
  {
   "cell_type": "markdown",
   "id": "32f03601",
   "metadata": {},
   "source": [
    "## Предсказание на тестовой выборке"
   ]
  },
  {
   "cell_type": "code",
   "execution_count": 23,
   "id": "ec0a3de5",
   "metadata": {},
   "outputs": [],
   "source": [
    "y_test_pred = svm.predict(X_test)"
   ]
  },
  {
   "cell_type": "markdown",
   "id": "74a379ce",
   "metadata": {},
   "source": [
    "## Точность предсказания, Precision, Recall, F1 measure для обучающей выборки"
   ]
  },
  {
   "cell_type": "code",
   "execution_count": 24,
   "id": "77d64790",
   "metadata": {},
   "outputs": [
    {
     "name": "stdout",
     "output_type": "stream",
     "text": [
      "Accuracy: 0.9842767295597484\n",
      "Precision: 0.984382111907084\n",
      "Recall: 0.9842767295597484\n",
      "F1 measure: 0.9842140156605566\n"
     ]
    }
   ],
   "source": [
    "from sklearn import metrics\n",
    "y_train_pred = svm.predict(X_train_res)\n",
    "# Model Accuracy: how often is the classifier correct?\n",
    "print(\"Accuracy:\",metrics.accuracy_score(y_train_res, y_train_pred))\n",
    "\n",
    "# Model Precision: what percentage of positive tuples are labeled as such?\n",
    "print(\"Precision:\",metrics.precision_score(y_train_res, y_train_pred, average='weighted'))\n",
    "\n",
    "# Model Recall: what percentage of positive tuples are labelled as such?\n",
    "print(\"Recall:\",metrics.recall_score(y_train_res, y_train_pred, average='weighted'))\n",
    "\n",
    "# Model Recall: what percentage of positive tuples are labelled as such?\n",
    "print(\"F1 measure:\",metrics.f1_score(y_train_res, y_train_pred, average='weighted'))"
   ]
  },
  {
   "cell_type": "markdown",
   "id": "2ab87d32",
   "metadata": {},
   "source": [
    "## Точность предсказания, Precision, Recall, F1 measure для тестовой выборки"
   ]
  },
  {
   "cell_type": "code",
   "execution_count": 25,
   "id": "e158fa4e",
   "metadata": {},
   "outputs": [
    {
     "name": "stdout",
     "output_type": "stream",
     "text": [
      "Accuracy: 0.6923076923076923\n",
      "Precision: 0.6807692307692308\n",
      "Recall: 0.6923076923076923\n",
      "F1 measure: 0.6627442440219494\n"
     ]
    },
    {
     "name": "stderr",
     "output_type": "stream",
     "text": [
      "c:\\users\\fisen\\appdata\\local\\programs\\python\\python38\\lib\\site-packages\\sklearn\\metrics\\_classification.py:1308: UndefinedMetricWarning: Precision is ill-defined and being set to 0.0 in labels with no predicted samples. Use `zero_division` parameter to control this behavior.\n",
      "  _warn_prf(average, modifier, msg_start, len(result))\n"
     ]
    }
   ],
   "source": [
    "from sklearn import metrics\n",
    "\n",
    "# Model Accuracy: how often is the classifier correct?\n",
    "print(\"Accuracy:\",metrics.accuracy_score(y_test, y_test_pred))\n",
    "\n",
    "# Model Precision: what percentage of positive tuples are labeled as such?\n",
    "print(\"Precision:\",metrics.precision_score(y_test, y_test_pred, average='weighted'))\n",
    "\n",
    "# Model Recall: what percentage of positive tuples are labelled as such?\n",
    "print(\"Recall:\",metrics.recall_score(y_test, y_test_pred, average='weighted'))\n",
    "\n",
    "# Model Recall: what percentage of positive tuples are labelled as such?\n",
    "print(\"F1 measure:\",metrics.f1_score(y_test, y_test_pred, average='weighted'))"
   ]
  },
  {
   "cell_type": "markdown",
   "id": "6995e53d",
   "metadata": {},
   "source": [
    "## Опорные вектора"
   ]
  },
  {
   "cell_type": "code",
   "execution_count": 13,
   "id": "6f9d7e46",
   "metadata": {},
   "outputs": [
    {
     "name": "stdout",
     "output_type": "stream",
     "text": [
      "Support Vectors\n",
      "[[ 0.42728779  1.67197817  0.74040464 ...  0.03031176 -0.35287683\n",
      "  -0.5864509 ]\n",
      " [ 1.2425339   0.984603    0.78904839 ...  0.43176984 -0.35287683\n",
      "  -0.5864509 ]\n",
      " [ 1.10720964  0.12538402  0.81684482 ...  0.41064047 -0.35287683\n",
      "   0.54511092]\n",
      " ...\n",
      " [ 1.55509994  0.22657668  0.37044654 ... -0.01910413 -0.35287683\n",
      "  -0.5864509 ]\n",
      " [-0.68915256 -1.17585968 -1.86551055 ...  0.06902876  0.07225475\n",
      "  -0.55966817]\n",
      " [ 0.82370081  0.66426019 -0.29701426 ... -0.08942135 -0.00647576\n",
      "  -0.5864509 ]]\n",
      "\n",
      "Indices of support vectors\n",
      "[  6   7   8  10  25  27  34  38  42  51  54  63  65  66  68  72  75  76\n",
      "  81  97 100 101 102 103 104 110 112 116 118 125 126 131 134 137 146   1\n",
      "   2   3   9  16  19  20  21  22  23  24  31  36  37  39  48  52  53  55\n",
      "  61  64  67  69  70  77  80  83  86  87  90  96 106 107 114 115 120 121\n",
      " 127 128 139 143 144 145 147   4  35  41  50  79  84  89 111 122 129 130\n",
      " 155 157 158 159 163 165 175 178 182 183 184 187 188  29  43  45  73  91\n",
      "  98 108 132 133 198 210 214  30  46  62 136 142 238 239 240 242 246 249\n",
      " 250 251 254 269 272 273 275 277 278 280   0  13  17  32  33  44  47  56\n",
      "  58  59  74  88  92 109 113 148 285 290 293 298 299 305 306 317]\n",
      "\n",
      "Number of support vectors for each class\n",
      "[35 44 24 12 21 24]\n"
     ]
    }
   ],
   "source": [
    "# get support vectors\n",
    "print(\"Support Vectors\")\n",
    "print(svm.support_vectors_)\n",
    "\n",
    "# get indices of support vectors\n",
    "print(\"\\nIndices of support vectors\")\n",
    "print(svm.support_)\n",
    "\n",
    "# get number of support vectors for each class\n",
    "print(\"\\nNumber of support vectors for each class\")\n",
    "print(svm.n_support_)"
   ]
  },
  {
   "cell_type": "markdown",
   "id": "e59a9242",
   "metadata": {},
   "source": [
    "## Grid search"
   ]
  },
  {
   "cell_type": "code",
   "execution_count": 14,
   "id": "bb2e0a8a",
   "metadata": {},
   "outputs": [
    {
     "name": "stdout",
     "output_type": "stream",
     "text": [
      "Fitting 3 folds for each of 22736 candidates, totalling 68208 fits\n"
     ]
    }
   ],
   "source": [
    "grid_params = {\n",
    "    'kernel':('linear', 'rbf','poly', 'sigmoid'),\n",
    "    'C':[1.0,2.0,3.0,10.0],\n",
    "    'gamma':[x/10 for x in range(1, 30)],\n",
    "    'degree':[x/10 for x in range(1,50)]\n",
    "}\n",
    "\n",
    "gs = GridSearchCV(SVC(),\n",
    "    grid_params,\n",
    "    verbose=1,\n",
    "    cv=3,\n",
    "    n_jobs=-1)\n",
    "\n",
    "gs_results = gs.fit(X_train_res, y_train_res)\n",
    "#Fitting 3 folds for each of 22736 candidates, totalling 68208 fits"
   ]
  },
  {
   "cell_type": "code",
   "execution_count": 15,
   "id": "f6514b0b",
   "metadata": {},
   "outputs": [
    {
     "data": {
      "text/plain": [
       "0.889937106918239"
      ]
     },
     "execution_count": 15,
     "metadata": {},
     "output_type": "execute_result"
    }
   ],
   "source": [
    "gs_results.best_score_\n",
    "#0.889937106918239"
   ]
  },
  {
   "cell_type": "code",
   "execution_count": 16,
   "id": "f5737ad9",
   "metadata": {},
   "outputs": [
    {
     "data": {
      "text/plain": [
       "SVC(C=3.0, degree=0.1, gamma=1.4)"
      ]
     },
     "execution_count": 16,
     "metadata": {},
     "output_type": "execute_result"
    }
   ],
   "source": [
    "gs_results.best_estimator_\n",
    "#SVC(C=3.0, degree=0.1, gamma=1.4)"
   ]
  },
  {
   "cell_type": "code",
   "execution_count": 17,
   "id": "6d8cf6f0",
   "metadata": {},
   "outputs": [
    {
     "data": {
      "text/plain": [
       "{'C': 3.0, 'degree': 0.1, 'gamma': 1.4, 'kernel': 'rbf'}"
      ]
     },
     "execution_count": 17,
     "metadata": {},
     "output_type": "execute_result"
    }
   ],
   "source": [
    "gs_results.best_params_\n",
    "#{'C': 3.0, 'degree': 0.1, 'gamma': 1.4, 'kernel': 'rbf'}"
   ]
  },
  {
   "cell_type": "markdown",
   "id": "d91f5169",
   "metadata": {},
   "source": [
    "## Снижение размерности обучающих данных для рисования при помощи TSNE"
   ]
  },
  {
   "cell_type": "code",
   "execution_count": 26,
   "id": "f1328eb1",
   "metadata": {},
   "outputs": [
    {
     "name": "stderr",
     "output_type": "stream",
     "text": [
      "c:\\users\\fisen\\appdata\\local\\programs\\python\\python38\\lib\\site-packages\\sklearn\\manifold\\_t_sne.py:790: FutureWarning: The default learning rate in TSNE will change from 200.0 to 'auto' in 1.2.\n",
      "  warnings.warn(\n"
     ]
    }
   ],
   "source": [
    "train_tsne = TSNE(init='random', perplexity=12.0, random_state = 151).fit_transform(X_train_res)"
   ]
  },
  {
   "cell_type": "markdown",
   "id": "802fdba1",
   "metadata": {},
   "source": [
    "## Отображение обучающего набора данных"
   ]
  },
  {
   "cell_type": "code",
   "execution_count": 27,
   "id": "d57b2607",
   "metadata": {},
   "outputs": [
    {
     "data": {
      "text/plain": [
       "[Text(0.5, 1.0, 'T-SNE projection of training data')]"
      ]
     },
     "execution_count": 27,
     "metadata": {},
     "output_type": "execute_result"
    },
    {
     "data": {
      "image/png": "[encoded data removed]",
      "text/plain": [
       "<Figure size 432x288 with 1 Axes>"
      ]
     },
     "metadata": {
      "needs_background": "light"
     },
     "output_type": "display_data"
    }
   ],
   "source": [
    "train_tsne_df = pd.DataFrame()\n",
    "train_tsne_df[\"y\"] = y_train_res\n",
    "train_tsne_df[\"comp-1\"] = train_tsne[:,0]\n",
    "train_tsne_df[\"comp-2\"] = train_tsne[:,1]\n",
    "sns.scatterplot(x=\"comp-1\",\n",
    "                y=\"comp-2\",\n",
    "                hue=train_tsne_df.y.tolist(),\n",
    "                palette=sns.color_palette(\"hls\", len(Counter(train_tsne_df.y.tolist()))),\n",
    "                data=train_tsne_df,\n",
    "                s=50).set(title=\"T-SNE projection of training data\") "
   ]
  },
  {
   "cell_type": "markdown",
   "id": "934e5b64",
   "metadata": {},
   "source": [
    "## Отображение результата классификации обучающего набора данных"
   ]
  },
  {
   "cell_type": "code",
   "execution_count": 28,
   "id": "02e9857a",
   "metadata": {},
   "outputs": [
    {
     "data": {
      "text/plain": [
       "[Text(0.5, 1.0, 'T-SNE projection of prediction on training data')]"
      ]
     },
     "execution_count": 28,
     "metadata": {},
     "output_type": "execute_result"
    },
    {
     "data": {
      "image/png": "[encoded data removed]",
      "text/plain": [
       "<Figure size 432x288 with 1 Axes>"
      ]
     },
     "metadata": {
      "needs_background": "light"
     },
     "output_type": "display_data"
    }
   ],
   "source": [
    "sns.scatterplot(x=\"comp-1\",\n",
    "                y=\"comp-2\",\n",
    "                hue=y_train_pred,\n",
    "                palette=sns.color_palette(\"hls\", len(Counter(y_train_pred))),\n",
    "                data=train_tsne_df,\n",
    "                s=50).set(title=\"T-SNE projection of prediction on training data\") "
   ]
  },
  {
   "cell_type": "markdown",
   "id": "75e7be9c",
   "metadata": {},
   "source": [
    "## Снижение размерности тестовых данных для отображения при помощи TSNE"
   ]
  },
  {
   "cell_type": "code",
   "execution_count": 29,
   "id": "421a3893",
   "metadata": {},
   "outputs": [
    {
     "name": "stderr",
     "output_type": "stream",
     "text": [
      "c:\\users\\fisen\\appdata\\local\\programs\\python\\python38\\lib\\site-packages\\sklearn\\manifold\\_t_sne.py:790: FutureWarning: The default learning rate in TSNE will change from 200.0 to 'auto' in 1.2.\n",
      "  warnings.warn(\n"
     ]
    }
   ],
   "source": [
    "test_tsne = TSNE(init='random', perplexity=20.0, random_state = 151).fit_transform(X_test)"
   ]
  },
  {
   "cell_type": "markdown",
   "id": "1c9c79a6",
   "metadata": {},
   "source": [
    "## Отображение тестового набора данных"
   ]
  },
  {
   "cell_type": "code",
   "execution_count": 30,
   "id": "f174d894",
   "metadata": {},
   "outputs": [
    {
     "data": {
      "text/plain": [
       "[Text(0.5, 1.0, 'T-SNE projection of test data')]"
      ]
     },
     "execution_count": 30,
     "metadata": {},
     "output_type": "execute_result"
    },
    {
     "data": {
      "image/png": "[encoded data removed]",
      "text/plain": [
       "<Figure size 432x288 with 1 Axes>"
      ]
     },
     "metadata": {
      "needs_background": "light"
     },
     "output_type": "display_data"
    }
   ],
   "source": [
    "test_tsne_df = pd.DataFrame()\n",
    "test_tsne_df[\"y\"] = y_test\n",
    "test_tsne_df[\"comp-1\"] = test_tsne[:,0]\n",
    "test_tsne_df[\"comp-2\"] = test_tsne[:,1]\n",
    "sns.scatterplot(x=\"comp-1\",\n",
    "                y=\"comp-2\",\n",
    "                hue=test_tsne_df.y.tolist(),\n",
    "                palette=sns.color_palette(\"hls\", len(Counter(test_tsne_df.y.tolist()))),\n",
    "                data=test_tsne_df,\n",
    "                s=75).set(title=\"T-SNE projection of test data\") "
   ]
  },
  {
   "cell_type": "markdown",
   "id": "c652083c",
   "metadata": {},
   "source": [
    "## Отображение результата классификации тестового набора данных"
   ]
  },
  {
   "cell_type": "code",
   "execution_count": 31,
   "id": "c4fd914d",
   "metadata": {},
   "outputs": [
    {
     "data": {
      "text/plain": [
       "[Text(0.5, 1.0, 'T-SNE projection of prediction on test data')]"
      ]
     },
     "execution_count": 31,
     "metadata": {},
     "output_type": "execute_result"
    },
    {
     "data": {
      "image/png": "[encoded data removed]",
      "text/plain": [
       "<Figure size 432x288 with 1 Axes>"
      ]
     },
     "metadata": {
      "needs_background": "light"
     },
     "output_type": "display_data"
    }
   ],
   "source": [
    "sns.scatterplot(x=\"comp-1\",\n",
    "                y=\"comp-2\",\n",
    "                hue=y_test_pred,\n",
    "                palette=sns.color_palette(\"hls\", len(Counter(y_test_pred))),\n",
    "                data=test_tsne_df,\n",
    "                s=75).set(title=\"T-SNE projection of prediction on test data\") "
   ]
  },
  {
   "cell_type": "markdown",
   "id": "a6789c6f",
   "metadata": {},
   "source": [
    "## Примечания"
   ]
  },
  {
   "cell_type": "markdown",
   "id": "b8bd8e84",
   "metadata": {},
   "source": [
    "В датасете представлено 6 категорий стекол:\n",
    "\n",
    "1: \"building_windows_float_processed\" - 70 экземпляров\\\n",
    "2 : \"building_windows_non_float_processed\" - 76 экземпляров\\\n",
    "3 : \"vehicle_windows_float_processed\" - 17 экземпляров\\\n",
    "5 : \"containers\" - 13 экземпляров\\\n",
    "6 : \"tableware\" - 9 экземпляров\\\n",
    "7 :\"headlamps\" - 29 экземпляров\n",
    "\n",
    "После балансировки классификация объектов немного улучшилась\\\n",
    "GridSearch считает, что лучшей моделью для обучения стал RBF, до балансировки считалась полиномиальная модель\\\n",
    "Не смотря на то, что точность предсказаний увеличилась, все еще видно, что 5 категория при классификации тестовых данных RBF моделью отсутствует на графике."
   ]
  }
 ],
 "metadata": {
  "kernelspec": {
   "display_name": "Python 3 (ipykernel)",
   "language": "python",
   "name": "python3"
  },
  "language_info": {
   "codemirror_mode": {
    "name": "ipython",
    "version": 3
   },
   "file_extension": ".py",
   "mimetype": "text/x-python",
   "name": "python",
   "nbconvert_exporter": "python",
   "pygments_lexer": "ipython3",
   "version": "3.8.8"
  }
 },
 "nbformat": 4,
 "nbformat_minor": 5
}
