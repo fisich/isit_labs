{
 "cells": [
  {
   "cell_type": "markdown",
   "id": "8fb0e604",
   "metadata": {},
   "source": [
    "## ЧАСТЬ C"
   ]
  },
  {
   "cell_type": "code",
   "execution_count": 1,
   "id": "e0b2a418",
   "metadata": {},
   "outputs": [],
   "source": [
    "import pandas as pd\n",
    "import numpy as np\n",
    "from sklearn.manifold import TSNE\n",
    "from sklearn.model_selection import train_test_split, GridSearchCV\n",
    "from sklearn.ensemble import RandomForestClassifier\n",
    "import seaborn as sns\n",
    "from collections import Counter\n",
    "from imblearn.over_sampling import SMOTE"
   ]
  },
  {
   "cell_type": "markdown",
   "id": "895737ca",
   "metadata": {},
   "source": [
    "## Извлечение датасета"
   ]
  },
  {
   "cell_type": "code",
   "execution_count": 2,
   "id": "c9cfb65e",
   "metadata": {},
   "outputs": [
    {
     "data": {
      "text/html": [
       "<div>\n",
       "<style scoped>\n",
       "    .dataframe tbody tr th:only-of-type {\n",
       "        vertical-align: middle;\n",
       "    }\n",
       "\n",
       "    .dataframe tbody tr th {\n",
       "        vertical-align: top;\n",
       "    }\n",
       "\n",
       "    .dataframe thead th {\n",
       "        text-align: right;\n",
       "    }\n",
       "</style>\n",
       "<table border=\"1\" class=\"dataframe\">\n",
       "  <thead>\n",
       "    <tr style=\"text-align: right;\">\n",
       "      <th></th>\n",
       "      <th>ID</th>\n",
       "      <th>RI</th>\n",
       "      <th>NA2O</th>\n",
       "      <th>MGO</th>\n",
       "      <th>AL2O3</th>\n",
       "      <th>SIO2</th>\n",
       "      <th>K2O</th>\n",
       "      <th>CAO</th>\n",
       "      <th>BAO</th>\n",
       "      <th>FE2O3</th>\n",
       "      <th>TYPE</th>\n",
       "    </tr>\n",
       "  </thead>\n",
       "  <tbody>\n",
       "    <tr>\n",
       "      <th>0</th>\n",
       "      <td>1</td>\n",
       "      <td>1.52101</td>\n",
       "      <td>13.64</td>\n",
       "      <td>4.49</td>\n",
       "      <td>1.10</td>\n",
       "      <td>71.78</td>\n",
       "      <td>0.06</td>\n",
       "      <td>8.75</td>\n",
       "      <td>0.0</td>\n",
       "      <td>0.00</td>\n",
       "      <td>1</td>\n",
       "    </tr>\n",
       "    <tr>\n",
       "      <th>1</th>\n",
       "      <td>2</td>\n",
       "      <td>1.51761</td>\n",
       "      <td>13.89</td>\n",
       "      <td>3.60</td>\n",
       "      <td>1.36</td>\n",
       "      <td>72.73</td>\n",
       "      <td>0.48</td>\n",
       "      <td>7.83</td>\n",
       "      <td>0.0</td>\n",
       "      <td>0.00</td>\n",
       "      <td>1</td>\n",
       "    </tr>\n",
       "    <tr>\n",
       "      <th>2</th>\n",
       "      <td>3</td>\n",
       "      <td>1.51618</td>\n",
       "      <td>13.53</td>\n",
       "      <td>3.55</td>\n",
       "      <td>1.54</td>\n",
       "      <td>72.99</td>\n",
       "      <td>0.39</td>\n",
       "      <td>7.78</td>\n",
       "      <td>0.0</td>\n",
       "      <td>0.00</td>\n",
       "      <td>1</td>\n",
       "    </tr>\n",
       "    <tr>\n",
       "      <th>3</th>\n",
       "      <td>4</td>\n",
       "      <td>1.51766</td>\n",
       "      <td>13.21</td>\n",
       "      <td>3.69</td>\n",
       "      <td>1.29</td>\n",
       "      <td>72.61</td>\n",
       "      <td>0.57</td>\n",
       "      <td>8.22</td>\n",
       "      <td>0.0</td>\n",
       "      <td>0.00</td>\n",
       "      <td>1</td>\n",
       "    </tr>\n",
       "    <tr>\n",
       "      <th>4</th>\n",
       "      <td>5</td>\n",
       "      <td>1.51742</td>\n",
       "      <td>13.27</td>\n",
       "      <td>3.62</td>\n",
       "      <td>1.24</td>\n",
       "      <td>73.08</td>\n",
       "      <td>0.55</td>\n",
       "      <td>8.07</td>\n",
       "      <td>0.0</td>\n",
       "      <td>0.00</td>\n",
       "      <td>1</td>\n",
       "    </tr>\n",
       "    <tr>\n",
       "      <th>5</th>\n",
       "      <td>6</td>\n",
       "      <td>1.51596</td>\n",
       "      <td>12.79</td>\n",
       "      <td>3.61</td>\n",
       "      <td>1.62</td>\n",
       "      <td>72.97</td>\n",
       "      <td>0.64</td>\n",
       "      <td>8.07</td>\n",
       "      <td>0.0</td>\n",
       "      <td>0.26</td>\n",
       "      <td>1</td>\n",
       "    </tr>\n",
       "    <tr>\n",
       "      <th>6</th>\n",
       "      <td>7</td>\n",
       "      <td>1.51743</td>\n",
       "      <td>13.30</td>\n",
       "      <td>3.60</td>\n",
       "      <td>1.14</td>\n",
       "      <td>73.09</td>\n",
       "      <td>0.58</td>\n",
       "      <td>8.17</td>\n",
       "      <td>0.0</td>\n",
       "      <td>0.00</td>\n",
       "      <td>1</td>\n",
       "    </tr>\n",
       "    <tr>\n",
       "      <th>7</th>\n",
       "      <td>8</td>\n",
       "      <td>1.51756</td>\n",
       "      <td>13.15</td>\n",
       "      <td>3.61</td>\n",
       "      <td>1.05</td>\n",
       "      <td>73.24</td>\n",
       "      <td>0.57</td>\n",
       "      <td>8.24</td>\n",
       "      <td>0.0</td>\n",
       "      <td>0.00</td>\n",
       "      <td>1</td>\n",
       "    </tr>\n",
       "    <tr>\n",
       "      <th>8</th>\n",
       "      <td>9</td>\n",
       "      <td>1.51918</td>\n",
       "      <td>14.04</td>\n",
       "      <td>3.58</td>\n",
       "      <td>1.37</td>\n",
       "      <td>72.08</td>\n",
       "      <td>0.56</td>\n",
       "      <td>8.30</td>\n",
       "      <td>0.0</td>\n",
       "      <td>0.00</td>\n",
       "      <td>1</td>\n",
       "    </tr>\n",
       "    <tr>\n",
       "      <th>9</th>\n",
       "      <td>10</td>\n",
       "      <td>1.51755</td>\n",
       "      <td>13.00</td>\n",
       "      <td>3.60</td>\n",
       "      <td>1.36</td>\n",
       "      <td>72.99</td>\n",
       "      <td>0.57</td>\n",
       "      <td>8.40</td>\n",
       "      <td>0.0</td>\n",
       "      <td>0.11</td>\n",
       "      <td>1</td>\n",
       "    </tr>\n",
       "  </tbody>\n",
       "</table>\n",
       "</div>"
      ],
      "text/plain": [
       "   ID       RI   NA2O   MGO  AL2O3   SIO2   K2O   CAO  BAO  FE2O3  TYPE\n",
       "0   1  1.52101  13.64  4.49   1.10  71.78  0.06  8.75  0.0   0.00     1\n",
       "1   2  1.51761  13.89  3.60   1.36  72.73  0.48  7.83  0.0   0.00     1\n",
       "2   3  1.51618  13.53  3.55   1.54  72.99  0.39  7.78  0.0   0.00     1\n",
       "3   4  1.51766  13.21  3.69   1.29  72.61  0.57  8.22  0.0   0.00     1\n",
       "4   5  1.51742  13.27  3.62   1.24  73.08  0.55  8.07  0.0   0.00     1\n",
       "5   6  1.51596  12.79  3.61   1.62  72.97  0.64  8.07  0.0   0.26     1\n",
       "6   7  1.51743  13.30  3.60   1.14  73.09  0.58  8.17  0.0   0.00     1\n",
       "7   8  1.51756  13.15  3.61   1.05  73.24  0.57  8.24  0.0   0.00     1\n",
       "8   9  1.51918  14.04  3.58   1.37  72.08  0.56  8.30  0.0   0.00     1\n",
       "9  10  1.51755  13.00  3.60   1.36  72.99  0.57  8.40  0.0   0.11     1"
      ]
     },
     "execution_count": 2,
     "metadata": {},
     "output_type": "execute_result"
    }
   ],
   "source": [
    "#Заголовки данных согласно файлу с описанием glass.tag --Variant 11\n",
    "data_headers = [\"ID\", \"RI\", \"NA2O\", \"MGO\", \"AL2O3\", \"SIO2\", \"K2O\", \"CAO\", \"BAO\", \"FE2O3\", \"TYPE\"]\n",
    "data = pd.read_csv('C:/Учеба/Мага/1 семестр/Интеллектуальные системы и технологии/Практика 3-4/glass.data', names=data_headers)\n",
    "data.head(10)"
   ]
  },
  {
   "cell_type": "markdown",
   "id": "97c9a856",
   "metadata": {},
   "source": [
    "## Соответствие значений столбца TYPE и названий типов"
   ]
  },
  {
   "cell_type": "code",
   "execution_count": 3,
   "id": "22487aac",
   "metadata": {},
   "outputs": [],
   "source": [
    "types = data.iloc[:,10]\n",
    "types_name = {1: \"building_windows_float_processed\",\n",
    "            2 : \"building_windows_non_float_processed\",\n",
    "            3 : \"vehicle_windows_float_processed\",\n",
    "            5 : \"containers\",\n",
    "            6 : \"tableware\",\n",
    "            7 :\"headlamps\"}"
   ]
  },
  {
   "cell_type": "markdown",
   "id": "0ac0ea04",
   "metadata": {},
   "source": [
    "## Разбиваем данные на обучающую и тестовую выборку"
   ]
  },
  {
   "cell_type": "code",
   "execution_count": 4,
   "id": "16b13322",
   "metadata": {},
   "outputs": [],
   "source": [
    "X_train, X_test, y_train, y_test = train_test_split(data.iloc[:, 1:-1].values,\n",
    "                                                    types,\n",
    "                                                    test_size=0.3,\n",
    "                                                    shuffle=True,\n",
    "                                                    stratify=types,\n",
    "                                                    random_state=151)"
   ]
  },
  {
   "cell_type": "markdown",
   "id": "0517194f",
   "metadata": {},
   "source": [
    "## Производим балансировку классов в обучающих данных, чтобы выровнять число экземпляров для всех классов"
   ]
  },
  {
   "cell_type": "code",
   "execution_count": 5,
   "id": "b7dcccda",
   "metadata": {},
   "outputs": [],
   "source": [
    "sm = SMOTE ()"
   ]
  },
  {
   "cell_type": "code",
   "execution_count": 6,
   "id": "4817008a",
   "metadata": {},
   "outputs": [],
   "source": [
    "X_train_res, y_train_res = sm.fit_resample(X_train,y_train)"
   ]
  },
  {
   "cell_type": "markdown",
   "id": "61ef7466",
   "metadata": {},
   "source": [
    "## Посмотрим как изменились данные после балансировки (на примере самых малочисленных классов)"
   ]
  },
  {
   "cell_type": "code",
   "execution_count": 7,
   "id": "f80d6c8c",
   "metadata": {},
   "outputs": [
    {
     "name": "stdout",
     "output_type": "stream",
     "text": [
      "До балансировки, количество объектов класса '5': 9\n",
      "До балансировки, количество объектов класса '6': 6\n",
      "\n",
      "После балансировки, размерность обучающего набора X_train_res: (318, 9)\n",
      "После балансировки, размерность обучающего набора y_train_res: (318,)\n",
      "\n",
      "После балансировки, количество объектов класса '5': 53\n",
      "После балансировки, количество объектов класса '6': 53\n"
     ]
    }
   ],
   "source": [
    "print (\"До балансировки, количество объектов класса '5': {0}\".format (sum (y_train==5)))\n",
    "print (\"До балансировки, количество объектов класса '6': {0}\\n\".format (sum (y_train==6)))\n",
    "print (\"После балансировки, размерность обучающего набора X_train_res: {0}\".format (X_train_res.shape))\n",
    "print (\"После балансировки, размерность обучающего набора y_train_res: {0}\\n\".format (y_train_res.shape))\n",
    "print (\"После балансировки, количество объектов класса '5': {0}\".format (sum (y_train_res==6)))\n",
    "print (\"После балансировки, количество объектов класса '6': {0}\".format (sum (y_train_res==6)))"
   ]
  },
  {
   "cell_type": "markdown",
   "id": "aabccbad",
   "metadata": {},
   "source": [
    "## Обучение RandomForest классификатора"
   ]
  },
  {
   "cell_type": "code",
   "execution_count": 16,
   "id": "fe55edff",
   "metadata": {},
   "outputs": [
    {
     "data": {
      "text/plain": [
       "\"n_estimators=18,\\n   criterion='gini',\\n   max_features = 'sqrt',\\n   min_samples_split = 2,\\n   min_samples_leaf=1\\n\""
      ]
     },
     "execution_count": 16,
     "metadata": {},
     "output_type": "execute_result"
    }
   ],
   "source": [
    "rf_class = RandomForestClassifier(criterion='entropy',\n",
    "                                  min_samples_split=3,\n",
    "                                  n_estimators=11).fit(X_train_res, y_train_res)\n",
    "# Поиск по сетке определил следующие параметры для RF\n",
    "#{'criterion': 'entropy',\n",
    "# 'max_features': 'auto',\n",
    "# 'min_samples_leaf': 1,\n",
    "# 'min_samples_split': 3,\n",
    "# 'n_estimators': 11}"
   ]
  },
  {
   "cell_type": "markdown",
   "id": "a63f3aeb",
   "metadata": {},
   "source": [
    "#### До балансировки\n",
    "Точность предсказания, Precision, Recall, F1 measure для обучающей выборки \\\n",
    "Accuracy: 0.9664429530201343\\\n",
    "Precision: 0.9673626646781008\\\n",
    "Recall: 0.9664429530201343\\\n",
    "F1 measure: 0.9664817103208535\n",
    "\n",
    "Точность предсказания, Precision, Recall, F1 measure для тестовой выборки\\\n",
    "Accuracy: 0.8\\\n",
    "Precision: 0.8207100591715977\\\n",
    "Recall: 0.8\\\n",
    "F1 measure: 0.7863996662494784"
   ]
  },
  {
   "cell_type": "markdown",
   "id": "f44e9ad6",
   "metadata": {},
   "source": [
    "#### Удалось достичь с применением балансировки\n",
    "Точность предсказания, Precision, Recall, F1 measure для обучающей выборки\\\n",
    "Accuracy: 1.0\\\n",
    "Precision: 1.0\\\n",
    "Recall: 1.0\\\n",
    "F1 measure: 1.0\n",
    "\n",
    "Точность предсказания, Precision, Recall, F1 measure для тестовой выборки\\\n",
    "Accuracy: 0.8307692307692308\\\n",
    "Precision: 0.8375739644970415\\\n",
    "Recall: 0.8307692307692308\\\n",
    "F1 measure: 0.8308923569427772"
   ]
  },
  {
   "cell_type": "markdown",
   "id": "32f03601",
   "metadata": {},
   "source": [
    "## Предсказание на тестовой выборке"
   ]
  },
  {
   "cell_type": "code",
   "execution_count": 17,
   "id": "ec0a3de5",
   "metadata": {},
   "outputs": [],
   "source": [
    "y_test_pred = rf_class.predict(X_test)"
   ]
  },
  {
   "cell_type": "markdown",
   "id": "74a379ce",
   "metadata": {},
   "source": [
    "## Точность предсказания, Precision, Recall, F1 measure для обучающей выборки"
   ]
  },
  {
   "cell_type": "code",
   "execution_count": 25,
   "id": "77d64790",
   "metadata": {},
   "outputs": [
    {
     "name": "stdout",
     "output_type": "stream",
     "text": [
      "Accuracy: 1.0\n",
      "Precision: 1.0\n",
      "Recall: 1.0\n",
      "F1 measure: 1.0\n"
     ]
    }
   ],
   "source": [
    "from sklearn import metrics\n",
    "y_train_pred = rf_class.predict(X_train_res)\n",
    "# Model Accuracy: how often is the classifier correct?\n",
    "print(\"Accuracy:\", metrics.accuracy_score(y_train_res, y_train_pred))\n",
    "\n",
    "# Model Precision: what percentage of positive tuples are labeled as such?\n",
    "print(\"Precision:\", metrics.precision_score(y_train_res, y_train_pred, average='weighted'))\n",
    "\n",
    "# Model Recall: what percentage of positive tuples are labelled as such?\n",
    "print(\"Recall:\", metrics.recall_score(y_train_res, y_train_pred, average='weighted'))\n",
    "\n",
    "# Model Recall: what percentage of positive tuples are labelled as such?\n",
    "print(\"F1 measure:\", metrics.f1_score(y_train_res, y_train_pred, average='weighted'))"
   ]
  },
  {
   "cell_type": "markdown",
   "id": "2ab87d32",
   "metadata": {},
   "source": [
    "## Точность предсказания, Precision, Recall, F1 measure для тестовой выборки"
   ]
  },
  {
   "cell_type": "code",
   "execution_count": 19,
   "id": "e158fa4e",
   "metadata": {},
   "outputs": [
    {
     "name": "stdout",
     "output_type": "stream",
     "text": [
      "Accuracy: 0.8307692307692308\n",
      "Precision: 0.8375739644970415\n",
      "Recall: 0.8307692307692308\n",
      "F1 measure: 0.8308923569427772\n"
     ]
    }
   ],
   "source": [
    "from sklearn import metrics\n",
    "\n",
    "# Model Accuracy: how often is the classifier correct?\n",
    "print(\"Accuracy:\",metrics.accuracy_score(y_test, y_test_pred))\n",
    "\n",
    "# Model Precision: what percentage of positive tuples are labeled as such?\n",
    "print(\"Precision:\",metrics.precision_score(y_test, y_test_pred, average='weighted'))\n",
    "\n",
    "# Model Recall: what percentage of positive tuples are labelled as such?\n",
    "print(\"Recall:\",metrics.recall_score(y_test, y_test_pred, average='weighted'))\n",
    "\n",
    "# Model Recall: what percentage of positive tuples are labelled as such?\n",
    "print(\"F1 measure:\",metrics.f1_score(y_test, y_test_pred, average='weighted'))"
   ]
  },
  {
   "cell_type": "markdown",
   "id": "e59a9242",
   "metadata": {},
   "source": [
    "## Grid search"
   ]
  },
  {
   "cell_type": "code",
   "execution_count": 20,
   "id": "bb2e0a8a",
   "metadata": {},
   "outputs": [
    {
     "name": "stdout",
     "output_type": "stream",
     "text": [
      "Fitting 3 folds for each of 2754 candidates, totalling 8262 fits\n"
     ]
    }
   ],
   "source": [
    "grid_params = {\n",
    "    'n_estimators' : list(range(3,20)),\n",
    "    'criterion' : ['gini', 'entropy'],\n",
    "    'max_features' : ['auto', 'sqrt', 'log2'],\n",
    "    'min_samples_leaf' : list(range(1,10)),\n",
    "    'min_samples_split' : list(range(2,5))\n",
    "}\n",
    "\n",
    "gs = GridSearchCV(RandomForestClassifier(),\n",
    "    grid_params,\n",
    "    verbose=1,\n",
    "    cv=3,\n",
    "    n_jobs=-1)\n",
    "\n",
    "gs_results = gs.fit(X_train_res, y_train_res)\n",
    "# Fitting 3 folds for each of 2754 candidates, totalling 8262 fits"
   ]
  },
  {
   "cell_type": "code",
   "execution_count": 21,
   "id": "f6514b0b",
   "metadata": {},
   "outputs": [
    {
     "data": {
      "text/plain": [
       "0.889937106918239"
      ]
     },
     "execution_count": 21,
     "metadata": {},
     "output_type": "execute_result"
    }
   ],
   "source": [
    "gs_results.best_score_\n",
    "#0.9025157232704403"
   ]
  },
  {
   "cell_type": "code",
   "execution_count": 23,
   "id": "1ddeb35b",
   "metadata": {},
   "outputs": [
    {
     "data": {
      "text/plain": [
       "RandomForestClassifier(n_estimators=7)"
      ]
     },
     "execution_count": 23,
     "metadata": {},
     "output_type": "execute_result"
    }
   ],
   "source": [
    "gs_results.best_estimator_\n",
    "#RandomForestClassifier(criterion='entropy', min_samples_split=3,\n",
    "#                       n_estimators=11)"
   ]
  },
  {
   "cell_type": "code",
   "execution_count": 24,
   "id": "6d8cf6f0",
   "metadata": {},
   "outputs": [
    {
     "data": {
      "text/plain": [
       "{'criterion': 'gini',\n",
       " 'max_features': 'auto',\n",
       " 'min_samples_leaf': 1,\n",
       " 'min_samples_split': 2,\n",
       " 'n_estimators': 7}"
      ]
     },
     "execution_count": 24,
     "metadata": {},
     "output_type": "execute_result"
    }
   ],
   "source": [
    "gs_results.best_params_\n",
    "#{'criterion': 'entropy',\n",
    "# 'max_features': 'auto',\n",
    "# 'min_samples_leaf': 1,\n",
    "# 'min_samples_split': 3,\n",
    "# 'n_estimators': 11}"
   ]
  },
  {
   "cell_type": "markdown",
   "id": "b0331d14",
   "metadata": {},
   "source": [
    "## Снижение размерности обучающих данных для рисования при помощи TSNE"
   ]
  },
  {
   "cell_type": "code",
   "execution_count": 26,
   "id": "34774914",
   "metadata": {},
   "outputs": [
    {
     "name": "stderr",
     "output_type": "stream",
     "text": [
      "c:\\users\\fisen\\appdata\\local\\programs\\python\\python38\\lib\\site-packages\\sklearn\\manifold\\_t_sne.py:790: FutureWarning: The default learning rate in TSNE will change from 200.0 to 'auto' in 1.2.\n",
      "  warnings.warn(\n"
     ]
    }
   ],
   "source": [
    "train_tsne = TSNE(init='random', perplexity=15.0, random_state = 151).fit_transform(X_train_res)"
   ]
  },
  {
   "cell_type": "markdown",
   "id": "a1aa22e8",
   "metadata": {},
   "source": [
    "## Отображение обучающего набора данных"
   ]
  },
  {
   "cell_type": "code",
   "execution_count": 27,
   "id": "e8c93cfc",
   "metadata": {},
   "outputs": [
    {
     "data": {
      "text/plain": [
       "[Text(0.5, 1.0, 'T-SNE projection of training data')]"
      ]
     },
     "execution_count": 27,
     "metadata": {},
     "output_type": "execute_result"
    },
    {
     "data": {
      "image/png": "[encoded data removed]",
      "text/plain": [
       "<Figure size 432x288 with 1 Axes>"
      ]
     },
     "metadata": {
      "needs_background": "light"
     },
     "output_type": "display_data"
    }
   ],
   "source": [
    "train_tsne_df = pd.DataFrame()\n",
    "train_tsne_df[\"y\"] = y_train_res\n",
    "train_tsne_df[\"comp-1\"] = train_tsne[:,0]\n",
    "train_tsne_df[\"comp-2\"] = train_tsne[:,1]\n",
    "sns.scatterplot(x=\"comp-1\",\n",
    "                y=\"comp-2\",\n",
    "                hue=train_tsne_df.y.tolist(),\n",
    "                palette=sns.color_palette(\"hls\", len(Counter(train_tsne_df.y.tolist()))),\n",
    "                data=train_tsne_df,\n",
    "                s=50).set(title=\"T-SNE projection of training data\") "
   ]
  },
  {
   "cell_type": "markdown",
   "id": "2a468911",
   "metadata": {},
   "source": [
    "## Отображение результата классификации обучающего набора данных"
   ]
  },
  {
   "cell_type": "code",
   "execution_count": 30,
   "id": "fd37436a",
   "metadata": {},
   "outputs": [
    {
     "data": {
      "text/plain": [
       "[Text(0.5, 1.0, 'T-SNE projection of prediction on training data')]"
      ]
     },
     "execution_count": 30,
     "metadata": {},
     "output_type": "execute_result"
    },
    {
     "data": {
      "image/png": "[encoded data removed]",
      "text/plain": [
       "<Figure size 432x288 with 1 Axes>"
      ]
     },
     "metadata": {
      "needs_background": "light"
     },
     "output_type": "display_data"
    }
   ],
   "source": [
    "sns.scatterplot(x=\"comp-1\",\n",
    "                y=\"comp-2\",\n",
    "                hue=y_train_pred,\n",
    "                palette=sns.color_palette(\"hls\", len(Counter(y_train_pred))),\n",
    "                data=train_tsne_df,\n",
    "                s=50).set(title=\"T-SNE projection of prediction on training data\") "
   ]
  },
  {
   "cell_type": "markdown",
   "id": "6945817b",
   "metadata": {},
   "source": [
    "## Снижение размерности тестовых данных для отображения при помощи TSNE"
   ]
  },
  {
   "cell_type": "code",
   "execution_count": 31,
   "id": "f963aa26",
   "metadata": {},
   "outputs": [
    {
     "name": "stderr",
     "output_type": "stream",
     "text": [
      "c:\\users\\fisen\\appdata\\local\\programs\\python\\python38\\lib\\site-packages\\sklearn\\manifold\\_t_sne.py:790: FutureWarning: The default learning rate in TSNE will change from 200.0 to 'auto' in 1.2.\n",
      "  warnings.warn(\n"
     ]
    }
   ],
   "source": [
    "test_tsne = TSNE(init='random', perplexity=15.0, random_state = 151).fit_transform(X_test)"
   ]
  },
  {
   "cell_type": "markdown",
   "id": "6b5cffd0",
   "metadata": {},
   "source": [
    "## Отображение тестового набора данных"
   ]
  },
  {
   "cell_type": "code",
   "execution_count": 32,
   "id": "4959245f",
   "metadata": {},
   "outputs": [
    {
     "data": {
      "text/plain": [
       "[Text(0.5, 1.0, 'T-SNE projection of test data')]"
      ]
     },
     "execution_count": 32,
     "metadata": {},
     "output_type": "execute_result"
    },
    {
     "data": {
      "image/png": "[encoded data removed]",
      "text/plain": [
       "<Figure size 432x288 with 1 Axes>"
      ]
     },
     "metadata": {
      "needs_background": "light"
     },
     "output_type": "display_data"
    }
   ],
   "source": [
    "test_tsne_df = pd.DataFrame()\n",
    "test_tsne_df[\"y\"] = y_test\n",
    "test_tsne_df[\"comp-1\"] = test_tsne[:,0]\n",
    "test_tsne_df[\"comp-2\"] = test_tsne[:,1]\n",
    "sns.scatterplot(x=\"comp-1\",\n",
    "                y=\"comp-2\",\n",
    "                hue=test_tsne_df.y.tolist(),\n",
    "                palette=sns.color_palette(\"hls\", len(Counter(test_tsne_df.y.tolist()))),\n",
    "                data=test_tsne_df,\n",
    "                s=75).set(title=\"T-SNE projection of test data\") "
   ]
  },
  {
   "cell_type": "markdown",
   "id": "4c9b9d7f",
   "metadata": {},
   "source": [
    "## Отображение результата классификации тестового набора данных"
   ]
  },
  {
   "cell_type": "code",
   "execution_count": 33,
   "id": "0f1f1902",
   "metadata": {},
   "outputs": [
    {
     "data": {
      "text/plain": [
       "[Text(0.5, 1.0, 'T-SNE projection of prediction on test data')]"
      ]
     },
     "execution_count": 33,
     "metadata": {},
     "output_type": "execute_result"
    },
    {
     "data": {
      "image/png": "[encoded data removed]",
      "text/plain": [
       "<Figure size 432x288 with 1 Axes>"
      ]
     },
     "metadata": {
      "needs_background": "light"
     },
     "output_type": "display_data"
    }
   ],
   "source": [
    "sns.scatterplot(x=\"comp-1\",\n",
    "                y=\"comp-2\",\n",
    "                hue=y_test_pred,\n",
    "                palette=sns.color_palette(\"hls\", len(Counter(y_test_pred))),\n",
    "                data=test_tsne_df,\n",
    "                s=75).set(title=\"T-SNE projection of prediction on test data\") "
   ]
  },
  {
   "cell_type": "markdown",
   "id": "c2160610",
   "metadata": {},
   "source": [
    "## Примечания"
   ]
  },
  {
   "cell_type": "markdown",
   "id": "1eea794b",
   "metadata": {},
   "source": [
    "В датасете представлено 6 категорий стекол:\n",
    "\n",
    "1: \"building_windows_float_processed\" - 70 экземпляров\\\n",
    "2 : \"building_windows_non_float_processed\" - 76 экземпляров\\\n",
    "3 : \"vehicle_windows_float_processed\" - 17 экземпляров\\\n",
    "5 : \"containers\" - 13 экземпляров\\\n",
    "6 : \"tableware\" - 9 экземпляров\\\n",
    "7 :\"headlamps\" - 29 экземпляров\n",
    "\n",
    "Первые две категории преобладают над остальными данными, в связи с чем объекты некоторых классов попадают в другие классы."
   ]
  },
  {
   "cell_type": "markdown",
   "id": "33c98422",
   "metadata": {},
   "source": [
    "## Вывод\n",
    "Лучшим классификатором для набора данных является Random Forest классификатор, он показывает наилучшую точность в предсказании данных. После балансировки точность предсказания на обучающих данных стала 100%, а на тестовых данных она составляет 83%. У knn лучший результат 73.8% на тестовых данных, а у SVM (RBF) 67.7%\n",
    "\n",
    "Также, Random Forest не страдает от проблемы, когда элементы отдельных классов полностью включаются в другой (переобучение на классах 1 и 2)."
   ]
  }
 ],
 "metadata": {
  "kernelspec": {
   "display_name": "Python 3 (ipykernel)",
   "language": "python",
   "name": "python3"
  },
  "language_info": {
   "codemirror_mode": {
    "name": "ipython",
    "version": 3
   },
   "file_extension": ".py",
   "mimetype": "text/x-python",
   "name": "python",
   "nbconvert_exporter": "python",
   "pygments_lexer": "ipython3",
   "version": "3.8.8"
  }
 },
 "nbformat": 4,
 "nbformat_minor": 5
}
