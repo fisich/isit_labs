{
 "cells": [
  {
   "cell_type": "code",
   "execution_count": 1,
   "id": "e0b2a418",
   "metadata": {},
   "outputs": [],
   "source": [
    "import pandas as pd\n",
    "import numpy as np\n",
    "from sklearn import metrics\n",
    "from sklearn.model_selection import train_test_split, GridSearchCV\n",
    "from sklearn.ensemble import RandomForestClassifier\n",
    "import seaborn as sns\n",
    "from collections import Counter\n",
    "\n",
    "import time\n",
    "import math"
   ]
  },
  {
   "cell_type": "markdown",
   "id": "895737ca",
   "metadata": {},
   "source": [
    "## Извлечение датасета"
   ]
  },
  {
   "cell_type": "code",
   "execution_count": 2,
   "id": "c9cfb65e",
   "metadata": {},
   "outputs": [
    {
     "data": {
      "text/html": [
       "<div>\n",
       "<style scoped>\n",
       "    .dataframe tbody tr th:only-of-type {\n",
       "        vertical-align: middle;\n",
       "    }\n",
       "\n",
       "    .dataframe tbody tr th {\n",
       "        vertical-align: top;\n",
       "    }\n",
       "\n",
       "    .dataframe thead th {\n",
       "        text-align: right;\n",
       "    }\n",
       "</style>\n",
       "<table border=\"1\" class=\"dataframe\">\n",
       "  <thead>\n",
       "    <tr style=\"text-align: right;\">\n",
       "      <th></th>\n",
       "      <th>ID</th>\n",
       "      <th>RI</th>\n",
       "      <th>NA2O</th>\n",
       "      <th>MGO</th>\n",
       "      <th>AL2O3</th>\n",
       "      <th>SIO2</th>\n",
       "      <th>K2O</th>\n",
       "      <th>CAO</th>\n",
       "      <th>BAO</th>\n",
       "      <th>FE2O3</th>\n",
       "      <th>TYPE</th>\n",
       "    </tr>\n",
       "  </thead>\n",
       "  <tbody>\n",
       "    <tr>\n",
       "      <th>0</th>\n",
       "      <td>1</td>\n",
       "      <td>1.52101</td>\n",
       "      <td>13.64</td>\n",
       "      <td>4.49</td>\n",
       "      <td>1.10</td>\n",
       "      <td>71.78</td>\n",
       "      <td>0.06</td>\n",
       "      <td>8.75</td>\n",
       "      <td>0.0</td>\n",
       "      <td>0.00</td>\n",
       "      <td>1</td>\n",
       "    </tr>\n",
       "    <tr>\n",
       "      <th>1</th>\n",
       "      <td>2</td>\n",
       "      <td>1.51761</td>\n",
       "      <td>13.89</td>\n",
       "      <td>3.60</td>\n",
       "      <td>1.36</td>\n",
       "      <td>72.73</td>\n",
       "      <td>0.48</td>\n",
       "      <td>7.83</td>\n",
       "      <td>0.0</td>\n",
       "      <td>0.00</td>\n",
       "      <td>1</td>\n",
       "    </tr>\n",
       "    <tr>\n",
       "      <th>2</th>\n",
       "      <td>3</td>\n",
       "      <td>1.51618</td>\n",
       "      <td>13.53</td>\n",
       "      <td>3.55</td>\n",
       "      <td>1.54</td>\n",
       "      <td>72.99</td>\n",
       "      <td>0.39</td>\n",
       "      <td>7.78</td>\n",
       "      <td>0.0</td>\n",
       "      <td>0.00</td>\n",
       "      <td>1</td>\n",
       "    </tr>\n",
       "    <tr>\n",
       "      <th>3</th>\n",
       "      <td>4</td>\n",
       "      <td>1.51766</td>\n",
       "      <td>13.21</td>\n",
       "      <td>3.69</td>\n",
       "      <td>1.29</td>\n",
       "      <td>72.61</td>\n",
       "      <td>0.57</td>\n",
       "      <td>8.22</td>\n",
       "      <td>0.0</td>\n",
       "      <td>0.00</td>\n",
       "      <td>1</td>\n",
       "    </tr>\n",
       "    <tr>\n",
       "      <th>4</th>\n",
       "      <td>5</td>\n",
       "      <td>1.51742</td>\n",
       "      <td>13.27</td>\n",
       "      <td>3.62</td>\n",
       "      <td>1.24</td>\n",
       "      <td>73.08</td>\n",
       "      <td>0.55</td>\n",
       "      <td>8.07</td>\n",
       "      <td>0.0</td>\n",
       "      <td>0.00</td>\n",
       "      <td>1</td>\n",
       "    </tr>\n",
       "    <tr>\n",
       "      <th>5</th>\n",
       "      <td>6</td>\n",
       "      <td>1.51596</td>\n",
       "      <td>12.79</td>\n",
       "      <td>3.61</td>\n",
       "      <td>1.62</td>\n",
       "      <td>72.97</td>\n",
       "      <td>0.64</td>\n",
       "      <td>8.07</td>\n",
       "      <td>0.0</td>\n",
       "      <td>0.26</td>\n",
       "      <td>1</td>\n",
       "    </tr>\n",
       "    <tr>\n",
       "      <th>6</th>\n",
       "      <td>7</td>\n",
       "      <td>1.51743</td>\n",
       "      <td>13.30</td>\n",
       "      <td>3.60</td>\n",
       "      <td>1.14</td>\n",
       "      <td>73.09</td>\n",
       "      <td>0.58</td>\n",
       "      <td>8.17</td>\n",
       "      <td>0.0</td>\n",
       "      <td>0.00</td>\n",
       "      <td>1</td>\n",
       "    </tr>\n",
       "    <tr>\n",
       "      <th>7</th>\n",
       "      <td>8</td>\n",
       "      <td>1.51756</td>\n",
       "      <td>13.15</td>\n",
       "      <td>3.61</td>\n",
       "      <td>1.05</td>\n",
       "      <td>73.24</td>\n",
       "      <td>0.57</td>\n",
       "      <td>8.24</td>\n",
       "      <td>0.0</td>\n",
       "      <td>0.00</td>\n",
       "      <td>1</td>\n",
       "    </tr>\n",
       "    <tr>\n",
       "      <th>8</th>\n",
       "      <td>9</td>\n",
       "      <td>1.51918</td>\n",
       "      <td>14.04</td>\n",
       "      <td>3.58</td>\n",
       "      <td>1.37</td>\n",
       "      <td>72.08</td>\n",
       "      <td>0.56</td>\n",
       "      <td>8.30</td>\n",
       "      <td>0.0</td>\n",
       "      <td>0.00</td>\n",
       "      <td>1</td>\n",
       "    </tr>\n",
       "    <tr>\n",
       "      <th>9</th>\n",
       "      <td>10</td>\n",
       "      <td>1.51755</td>\n",
       "      <td>13.00</td>\n",
       "      <td>3.60</td>\n",
       "      <td>1.36</td>\n",
       "      <td>72.99</td>\n",
       "      <td>0.57</td>\n",
       "      <td>8.40</td>\n",
       "      <td>0.0</td>\n",
       "      <td>0.11</td>\n",
       "      <td>1</td>\n",
       "    </tr>\n",
       "  </tbody>\n",
       "</table>\n",
       "</div>"
      ],
      "text/plain": [
       "   ID       RI   NA2O   MGO  AL2O3   SIO2   K2O   CAO  BAO  FE2O3  TYPE\n",
       "0   1  1.52101  13.64  4.49   1.10  71.78  0.06  8.75  0.0   0.00     1\n",
       "1   2  1.51761  13.89  3.60   1.36  72.73  0.48  7.83  0.0   0.00     1\n",
       "2   3  1.51618  13.53  3.55   1.54  72.99  0.39  7.78  0.0   0.00     1\n",
       "3   4  1.51766  13.21  3.69   1.29  72.61  0.57  8.22  0.0   0.00     1\n",
       "4   5  1.51742  13.27  3.62   1.24  73.08  0.55  8.07  0.0   0.00     1\n",
       "5   6  1.51596  12.79  3.61   1.62  72.97  0.64  8.07  0.0   0.26     1\n",
       "6   7  1.51743  13.30  3.60   1.14  73.09  0.58  8.17  0.0   0.00     1\n",
       "7   8  1.51756  13.15  3.61   1.05  73.24  0.57  8.24  0.0   0.00     1\n",
       "8   9  1.51918  14.04  3.58   1.37  72.08  0.56  8.30  0.0   0.00     1\n",
       "9  10  1.51755  13.00  3.60   1.36  72.99  0.57  8.40  0.0   0.11     1"
      ]
     },
     "execution_count": 2,
     "metadata": {},
     "output_type": "execute_result"
    }
   ],
   "source": [
    "#Заголовки данных согласно файлу с описанием glass.tag --Variant 11\n",
    "data_headers = [\"ID\", \"RI\", \"NA2O\", \"MGO\", \"AL2O3\", \"SIO2\", \"K2O\", \"CAO\", \"BAO\", \"FE2O3\", \"TYPE\"]\n",
    "data = pd.read_csv('C:/Учеба/Мага/1 семестр/Интеллектуальные системы и технологии/Практика 3-4/glass.data', names=data_headers)\n",
    "data.head(10)"
   ]
  },
  {
   "cell_type": "markdown",
   "id": "97c9a856",
   "metadata": {},
   "source": [
    "## Соответствие значений столбца TYPE и названий типов"
   ]
  },
  {
   "cell_type": "code",
   "execution_count": 3,
   "id": "22487aac",
   "metadata": {},
   "outputs": [],
   "source": [
    "types = data.iloc[:,10]\n",
    "types_name = {1: \"building_windows_float_processed\",\n",
    "            2 : \"building_windows_non_float_processed\",\n",
    "            3 : \"vehicle_windows_float_processed\",\n",
    "            5 : \"containers\",\n",
    "            6 : \"tableware\",\n",
    "            7 :\"headlamps\"}"
   ]
  },
  {
   "cell_type": "markdown",
   "id": "0ac0ea04",
   "metadata": {},
   "source": [
    "## Разбиваем данные на обучающую и тестовую выборку"
   ]
  },
  {
   "cell_type": "code",
   "execution_count": 4,
   "id": "16b13322",
   "metadata": {},
   "outputs": [],
   "source": [
    "X_train, X_test, y_train, y_test = train_test_split(data.iloc[:, 1:-1].values,\n",
    "                                                    types,\n",
    "                                                    test_size=0.3,\n",
    "                                                    shuffle=True,\n",
    "                                                    stratify=types,\n",
    "                                                    random_state=151)"
   ]
  },
  {
   "cell_type": "markdown",
   "id": "aabccbad",
   "metadata": {},
   "source": [
    "## Обучение RF классификатора"
   ]
  },
  {
   "cell_type": "code",
   "execution_count": 5,
   "id": "f802a8be",
   "metadata": {},
   "outputs": [],
   "source": [
    "def function1(x):\n",
    "    # Обучение модели\n",
    "    rf_class = RandomForestClassifier(n_estimators=int(x[0]),\n",
    "                            criterion=CRITERION,\n",
    "                            max_depth = int(x[1]),\n",
    "                            min_samples_split = x[2]/100.0,\n",
    "                            min_samples_leaf = int(x[3])).fit(X_train, y_train)\n",
    "    # Предсказание тестовых данных\n",
    "    y_test_pred = rf_class.predict(X_test)\n",
    "    # Получение точности определения данных, знак минуса, так как стремимся МАКСИМИЗИРОВАТЬ функцию\n",
    "    return - metrics.accuracy_score(y_test, y_test_pred)\n",
    "def function2(x):\n",
    "    x_ = x[:,0]\n",
    "    y_ = x[:,1]\n",
    "    z_ = x[:,2]\n",
    "    k_ = x[:,3]\n",
    "    # Обучение модели\n",
    "    rf_class = RandomForestClassifier(n_estimators=int(x_),\n",
    "                            criterion=CRITERION,\n",
    "                            max_depth = int(y_),\n",
    "                            min_samples_split = int(z_)/100.0,\n",
    "                            min_samples_leaf = int(k_)).fit(X_train, y_train)\n",
    "    # Предсказание тестовых данных\n",
    "    y_test_pred = rf_class.predict(X_test)\n",
    "    # Получение точности определения данных, знак минуса, так как стремимся МАКСИМИЗИРОВАТЬ функцию\n",
    "    return  - metrics.accuracy_score(y_test, y_test_pred)\n",
    "\n",
    "# Пчелиный алгоритм ищет максимум, поэтому нужно взять функцию со знаком -\n",
    "def negative_function1(c):\n",
    "    return - function1(c)"
   ]
  },
  {
   "cell_type": "code",
   "execution_count": 6,
   "id": "5f5dabbc",
   "metadata": {},
   "outputs": [],
   "source": [
    "genetic_varbound = differential_boundaries = np.array([[1,50],[1, 50],[1, 100],[1,50]],dtype=int)\n",
    "pso_varbound = bees_varbound = np.array([np.array([1, 1, 1, 1]), np.array([50,50,100,50])],dtype=int)"
   ]
  },
  {
   "cell_type": "markdown",
   "id": "0a971ccc",
   "metadata": {},
   "source": [
    "## Измерения качества раскола для примеси Gini"
   ]
  },
  {
   "cell_type": "code",
   "execution_count": 7,
   "id": "86857654",
   "metadata": {},
   "outputs": [],
   "source": [
    "CRITERION = 'gini'"
   ]
  },
  {
   "cell_type": "markdown",
   "id": "6328d6cd",
   "metadata": {},
   "source": [
    "### Genetic algorithm"
   ]
  },
  {
   "cell_type": "code",
   "execution_count": 8,
   "id": "c591ef77",
   "metadata": {},
   "outputs": [],
   "source": [
    "from geneticalgorithm import geneticalgorithm as ga"
   ]
  },
  {
   "cell_type": "code",
   "execution_count": 9,
   "id": "992355b7",
   "metadata": {},
   "outputs": [
    {
     "name": "stdout",
     "output_type": "stream",
     "text": [
      " The best solution found:                                                                           \n",
      " [26. 12.  1.  2.]\n",
      "\n",
      " Objective function:\n",
      " -0.8615384615384616\n"
     ]
    },
    {
     "data": {
      "image/png": "[encoded data removed]",
      "text/plain": [
       "<Figure size 432x288 with 1 Axes>"
      ]
     },
     "metadata": {
      "needs_background": "light"
     },
     "output_type": "display_data"
    },
    {
     "name": "stdout",
     "output_type": "stream",
     "text": [
      "Время выполнения  2065.3727338314056\n"
     ]
    }
   ],
   "source": [
    "t = time.time()\n",
    "model=ga(function=function1,dimension=4,variable_type='int', variable_boundaries = genetic_varbound)\n",
    "model.run()\n",
    "t=time.time()-t\n",
    "print('Время выполнения ', t)\n",
    "\n",
    "## Значение objective function указано со знаком минус"
   ]
  },
  {
   "cell_type": "markdown",
   "id": "59d5be60",
   "metadata": {},
   "source": [
    "### Алгоритм Роя частиц"
   ]
  },
  {
   "cell_type": "code",
   "execution_count": 10,
   "id": "8874e9ed",
   "metadata": {},
   "outputs": [],
   "source": [
    "import pyswarms as ps\n",
    "from pyswarms.utils.functions import single_obj as fx\n",
    "from pyswarms.utils.plotters import (plot_cost_history, plot_contour, plot_surface)\n",
    "from pyswarms.utils.plotters.formatters import Mesher, Designer"
   ]
  },
  {
   "cell_type": "code",
   "execution_count": 23,
   "id": "270a0bde",
   "metadata": {},
   "outputs": [
    {
     "name": "stderr",
     "output_type": "stream",
     "text": [
      "2021-11-15 12:21:33,465 - pyswarms.single.global_best - INFO - Optimize for 5000 iters with {'c1': 1.3, 'c2': 2, 'w': 0.3}\n",
      "pyswarms.single.global_best: 100%|██████████████████████████████████████████████████████████|5000/5000, best_cost=-.708\n",
      "2021-11-15 12:25:13,952 - pyswarms.single.global_best - INFO - Optimization finished | best cost: -0.7076923076923077, best pos: [49.87146274 36.71890575 32.5672021   3.24152657]\n"
     ]
    },
    {
     "name": "stdout",
     "output_type": "stream",
     "text": [
      "Координата лучшего решения  [49.87146274 36.71890575 32.5672021   3.24152657]\n",
      "Лучшая точность  0.7076923076923077\n",
      "Время выполнения  220.49405813217163\n"
     ]
    }
   ],
   "source": [
    "options = {'c1':1.3, 'c2':2, 'w':0.3}\n",
    "\n",
    "t=time.time()\n",
    "optimizer = ps.single.GlobalBestPSO(n_particles=1, dimensions=4, options=options, bounds=pso_varbound)\n",
    "cost, pos = optimizer.optimize(function2, iters=5000)\n",
    "\n",
    "print('Координата лучшего решения ', pos)\n",
    "print('Лучшая точность ', -cost)\n",
    "\n",
    "t=time.time()-t\n",
    "print('Время выполнения ', t)"
   ]
  },
  {
   "cell_type": "markdown",
   "id": "66b46e40",
   "metadata": {},
   "source": [
    "### Пчелиный алгоритм"
   ]
  },
  {
   "cell_type": "code",
   "execution_count": 12,
   "id": "373fd7cb",
   "metadata": {},
   "outputs": [],
   "source": [
    "from bees_algorithm import BeesAlgorithm"
   ]
  },
  {
   "cell_type": "code",
   "execution_count": 13,
   "id": "fa47c235",
   "metadata": {},
   "outputs": [
    {
     "name": "stdout",
     "output_type": "stream",
     "text": [
      "Лучшее значение  0.8769230769230769\n",
      "Координаты лучшего решения  [13.479563234832309, 41.097358350926164, 1.0843741629393981, 1.04005948260989]\n",
      "Время выполнения  329.65084171295166\n"
     ]
    }
   ],
   "source": [
    "t=time.time()\n",
    "alg = BeesAlgorithm(negative_function1,\n",
    "                    bees_varbound[0],\n",
    "                    bees_varbound[1],\n",
    "                    ns = 10, nb= 18, ne = 1,\n",
    "                    nrb = 5, nre = 10, stlim=100\n",
    "                   )\n",
    "alg.performFullOptimisation(max_iteration=100)\n",
    "\n",
    "best = alg.best_solution #Получение лучшего решения\n",
    "# лучшее достигнутое значение функции\n",
    "print('Лучшее значение ', best.score)\n",
    "# Координаты лучшего решения)\n",
    "print('Координаты лучшего решения ', best.values)\n",
    "t=time.time()-t\n",
    "print('Время выполнения ', t)"
   ]
  },
  {
   "cell_type": "markdown",
   "id": "4c8e053e",
   "metadata": {},
   "source": [
    "### Алгоритм дифференциальной эволюции"
   ]
  },
  {
   "cell_type": "code",
   "execution_count": 14,
   "id": "6c976f97",
   "metadata": {},
   "outputs": [],
   "source": [
    "from scipy.optimize import differential_evolution"
   ]
  },
  {
   "cell_type": "code",
   "execution_count": 15,
   "id": "b96d0558",
   "metadata": {},
   "outputs": [
    {
     "name": "stdout",
     "output_type": "stream",
     "text": [
      "Лучшее значение  0.8769230769230769\n",
      "Координаты лучшего решения  [44.43643839 46.60055454  1.9299708   1.41262014]\n",
      "Время выполнения  968.8617794513702\n"
     ]
    }
   ],
   "source": [
    "t=time.time()\n",
    "result = differential_evolution(function1, differential_boundaries)\n",
    "# лучшее достигнутое значение функции\n",
    "print('Лучшее значение ', -result.fun)\n",
    "# Координаты лучшего решения\n",
    "print('Координаты лучшего решения ', result.x)\n",
    "t=time.time()-t\n",
    "print('Время выполнения ', t)"
   ]
  },
  {
   "cell_type": "markdown",
   "id": "6e150654",
   "metadata": {},
   "source": [
    "## Измерение качества раскола энтропией"
   ]
  },
  {
   "cell_type": "code",
   "execution_count": 16,
   "id": "cccdd5eb",
   "metadata": {},
   "outputs": [],
   "source": [
    "CRITERION = 'entropy'"
   ]
  },
  {
   "cell_type": "markdown",
   "id": "b3456b7e",
   "metadata": {},
   "source": [
    "### Genetic algorithm"
   ]
  },
  {
   "cell_type": "code",
   "execution_count": 17,
   "id": "8af7375d",
   "metadata": {},
   "outputs": [
    {
     "name": "stdout",
     "output_type": "stream",
     "text": [
      " The best solution found:                                                                           \n",
      " [12. 45.  4.  2.]\n",
      "\n",
      " Objective function:\n",
      " -0.8769230769230769\n"
     ]
    },
    {
     "data": {
      "image/png": "[encoded data removed]",
      "text/plain": [
       "<Figure size 432x288 with 1 Axes>"
      ]
     },
     "metadata": {
      "needs_background": "light"
     },
     "output_type": "display_data"
    },
    {
     "name": "stdout",
     "output_type": "stream",
     "text": [
      "Время выполнения  2082.2815947532654\n"
     ]
    }
   ],
   "source": [
    "t = time.time()\n",
    "model=ga(function=function1,dimension=4,variable_type='int', variable_boundaries = genetic_varbound)\n",
    "model.run()\n",
    "t=time.time()-t\n",
    "print('Время выполнения ', t)\n",
    "\n",
    "## Значение objective function указано со знаком минус"
   ]
  },
  {
   "cell_type": "markdown",
   "id": "51b2f1da",
   "metadata": {},
   "source": [
    "### Алгоритм Роя частиц"
   ]
  },
  {
   "cell_type": "code",
   "execution_count": 20,
   "id": "fdccc97b",
   "metadata": {},
   "outputs": [
    {
     "name": "stderr",
     "output_type": "stream",
     "text": [
      "2021-11-15 12:19:13,896 - pyswarms.single.global_best - INFO - Optimize for 5000 iters with {'c1': 1.3, 'c2': 2, 'w': 0.3}\n",
      "pyswarms.single.global_best: 100%|██████████████████████████████████████████████████████████|5000/5000, best_cost=-.708\n",
      "2021-11-15 12:19:40,061 - pyswarms.single.global_best - INFO - Optimization finished | best cost: -0.7076923076923077, best pos: [ 4.97482974 31.55722542 14.17374935 26.28401573]\n"
     ]
    },
    {
     "name": "stdout",
     "output_type": "stream",
     "text": [
      "Координата лучшего решения  [ 4.97482974 31.55722542 14.17374935 26.28401573]\n",
      "Лучшая точность  0.7076923076923077\n",
      "Время выполнения  26.171433687210083\n"
     ]
    }
   ],
   "source": [
    "options = {'c1':1.3, 'c2':2, 'w':0.3}\n",
    "\n",
    "t=time.time()\n",
    "optimizer = ps.single.GlobalBestPSO(n_particles=1, dimensions=4, options=options, bounds=pso_varbound)\n",
    "cost, pos = optimizer.optimize(function2, iters=5000)\n",
    "\n",
    "print('Координата лучшего решения ', pos)\n",
    "print('Лучшая точность ', -cost)\n",
    "\n",
    "t=time.time()-t\n",
    "print('Время выполнения ', t)"
   ]
  },
  {
   "cell_type": "markdown",
   "id": "a4d916bc",
   "metadata": {},
   "source": [
    "### Пчелиный алгоритм"
   ]
  },
  {
   "cell_type": "code",
   "execution_count": 24,
   "id": "19b3c267",
   "metadata": {},
   "outputs": [
    {
     "name": "stdout",
     "output_type": "stream",
     "text": [
      "Лучшее значение  0.8615384615384616\n",
      "Координаты лучшего решения  [18.297555698643226, 48.677496528254565, 1, 1]\n",
      "Время выполнения  273.8675465583801\n"
     ]
    }
   ],
   "source": [
    "t=time.time()\n",
    "alg = BeesAlgorithm(negative_function1,\n",
    "                    bees_varbound[0],\n",
    "                    bees_varbound[1],\n",
    "                    ns = 10, nb= 18, ne = 1,\n",
    "                    nrb = 5, nre = 10, stlim=100\n",
    "                   )\n",
    "alg.performFullOptimisation(max_iteration=100)\n",
    "\n",
    "best = alg.best_solution #Получение лучшего решения\n",
    "# лучшее достигнутое значение функции\n",
    "print('Лучшее значение ', best.score)\n",
    "# Координаты лучшего решения)\n",
    "print('Координаты лучшего решения ', best.values)\n",
    "t=time.time()-t\n",
    "print('Время выполнения ', t)"
   ]
  },
  {
   "cell_type": "markdown",
   "id": "d48352be",
   "metadata": {},
   "source": [
    "### Алгоритм дифференциальной эволюции"
   ]
  },
  {
   "cell_type": "code",
   "execution_count": 25,
   "id": "9e0fd1fc",
   "metadata": {},
   "outputs": [
    {
     "name": "stdout",
     "output_type": "stream",
     "text": [
      "Лучшее значение  0.8923076923076924\n",
      "Координаты лучшего решения  [23.43405553 26.15283387  2.02934235  1.42618794]\n",
      "Время выполнения  1452.61181974411\n"
     ]
    }
   ],
   "source": [
    "t=time.time()\n",
    "result = differential_evolution(function1, differential_boundaries)\n",
    "# лучшее достигнутое значение функции\n",
    "print('Лучшее значение ', -result.fun)\n",
    "# Координаты лучшего решения\n",
    "print('Координаты лучшего решения ', result.x)\n",
    "t=time.time()-t\n",
    "print('Время выполнения ', t)"
   ]
  },
  {
   "cell_type": "markdown",
   "id": "ba53554f",
   "metadata": {},
   "source": [
    "## Примечания"
   ]
  },
  {
   "cell_type": "markdown",
   "id": "1eea794b",
   "metadata": {},
   "source": [
    "В датасете представлено 6 категорий стекол:\n",
    "\n",
    "1: \"building_windows_float_processed\" - 70 экземпляров\n",
    "\n",
    "2 : \"building_windows_non_float_processed\" - 76 экземпляров\n",
    "\n",
    "3 : \"vehicle_windows_float_processed\" - 17 экземпляров\n",
    "\n",
    "5 : \"containers\" - 13 экземпляров\n",
    "\n",
    "6 : \"tableware\" - 9 экземпляров\n",
    "\n",
    "7 :\"headlamps\" - 29 экземпляров\n",
    "\n",
    "Первые две категории преобладают над остальными данными, в связи с чем объекты некоторых классов попадают в другие классы.\n",
    "\n",
    "Благодаря применению алгоритмов оптимизации удалось улучшить качество предсказания данных. В качестве целевой функции оптимизации была выбрана точность определения ТЕСТОВЫХ данных.\n",
    "\n",
    "Ниже сопоставлены точность классификаторов из работы 5-6 и текущей (9-10) (на тестовых данных):\n",
    "\n",
    "gini: 0.8 -> 0.8769230769230769, параметры согласно пчелиному алгоритму (n_estimators = 13, max_depth = 41, min_samples_split = 0.010843741629393981, min_samples_leaf = 1), согласно алгоритму дифференциальной эволюции (n_estimators = 44, max_depth = 46, min_samples_split = 0.019299708, min_samples_leaf = 1)\n",
    "\n",
    "entropy: (был отфильтрован grid_search) -> 0.8923076923076924, параметры согласно алгоритму дифференциальной эволюции (n_estimators = 23, max_depth = 26, min_samples_split = 0.0202934235, min_samples_leaf = 1)\n",
    "\n",
    "Как видно из данного сравнения, благодаря эволюционным алгоритмам оптимизации удалось получить более оптимальные параметры RF классификатора. Прирост точности составил 9%. Качество классификации оказалось лучше при использовании в качестве критерия Энтропии, который был отброшен при использовании grid search в работе 5-6 (стоит сказать, что в работе 5-6 перебор по сетке не был настолько обширным, поэтому качество перебора ниже)"
   ]
  },
  {
   "cell_type": "markdown",
   "id": "33c98422",
   "metadata": {},
   "source": [
    "## Вывод\n",
    "Применение алгоритмов оптимизации для поиска лучших параметров классификации во всех рассмотренных случаях увеличивало качество определения класса объекта.\n",
    "Также это демонстрирует, что лучшие параметры классификации не всегда можно получить с первого раза, их поиск также является отдельной задачей."
   ]
  }
 ],
 "metadata": {
  "kernelspec": {
   "display_name": "Python 3 (ipykernel)",
   "language": "python",
   "name": "python3"
  },
  "language_info": {
   "codemirror_mode": {
    "name": "ipython",
    "version": 3
   },
   "file_extension": ".py",
   "mimetype": "text/x-python",
   "name": "python",
   "nbconvert_exporter": "python",
   "pygments_lexer": "ipython3",
   "version": "3.8.8"
  }
 },
 "nbformat": 4,
 "nbformat_minor": 5
}
