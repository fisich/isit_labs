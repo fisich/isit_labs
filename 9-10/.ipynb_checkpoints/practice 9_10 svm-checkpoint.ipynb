{
 "cells": [
  {
   "cell_type": "markdown",
   "id": "0eb55f8d",
   "metadata": {},
   "source": [
    "## ЧАСТЬ A"
   ]
  },
  {
   "cell_type": "code",
   "execution_count": 1,
   "id": "e0b2a418",
   "metadata": {},
   "outputs": [],
   "source": [
    "import pandas as pd\n",
    "import numpy as np\n",
    "from sklearn import preprocessing, metrics\n",
    "from sklearn.manifold import TSNE\n",
    "from sklearn.model_selection import train_test_split, GridSearchCV\n",
    "from sklearn.svm import SVC\n",
    "import matplotlib\n",
    "import matplotlib.pyplot as plt\n",
    "import seaborn as sns\n",
    "from collections import Counter\n",
    "\n",
    "import time\n",
    "import math\n",
    "#%matplotlib notebook"
   ]
  },
  {
   "cell_type": "markdown",
   "id": "895737ca",
   "metadata": {},
   "source": [
    "## Извлечение датасета"
   ]
  },
  {
   "cell_type": "code",
   "execution_count": 2,
   "id": "c9cfb65e",
   "metadata": {},
   "outputs": [
    {
     "data": {
      "text/html": [
       "<div>\n",
       "<style scoped>\n",
       "    .dataframe tbody tr th:only-of-type {\n",
       "        vertical-align: middle;\n",
       "    }\n",
       "\n",
       "    .dataframe tbody tr th {\n",
       "        vertical-align: top;\n",
       "    }\n",
       "\n",
       "    .dataframe thead th {\n",
       "        text-align: right;\n",
       "    }\n",
       "</style>\n",
       "<table border=\"1\" class=\"dataframe\">\n",
       "  <thead>\n",
       "    <tr style=\"text-align: right;\">\n",
       "      <th></th>\n",
       "      <th>ID</th>\n",
       "      <th>RI</th>\n",
       "      <th>NA2O</th>\n",
       "      <th>MGO</th>\n",
       "      <th>AL2O3</th>\n",
       "      <th>SIO2</th>\n",
       "      <th>K2O</th>\n",
       "      <th>CAO</th>\n",
       "      <th>BAO</th>\n",
       "      <th>FE2O3</th>\n",
       "      <th>TYPE</th>\n",
       "    </tr>\n",
       "  </thead>\n",
       "  <tbody>\n",
       "    <tr>\n",
       "      <th>0</th>\n",
       "      <td>1</td>\n",
       "      <td>1.52101</td>\n",
       "      <td>13.64</td>\n",
       "      <td>4.49</td>\n",
       "      <td>1.10</td>\n",
       "      <td>71.78</td>\n",
       "      <td>0.06</td>\n",
       "      <td>8.75</td>\n",
       "      <td>0.0</td>\n",
       "      <td>0.00</td>\n",
       "      <td>1</td>\n",
       "    </tr>\n",
       "    <tr>\n",
       "      <th>1</th>\n",
       "      <td>2</td>\n",
       "      <td>1.51761</td>\n",
       "      <td>13.89</td>\n",
       "      <td>3.60</td>\n",
       "      <td>1.36</td>\n",
       "      <td>72.73</td>\n",
       "      <td>0.48</td>\n",
       "      <td>7.83</td>\n",
       "      <td>0.0</td>\n",
       "      <td>0.00</td>\n",
       "      <td>1</td>\n",
       "    </tr>\n",
       "    <tr>\n",
       "      <th>2</th>\n",
       "      <td>3</td>\n",
       "      <td>1.51618</td>\n",
       "      <td>13.53</td>\n",
       "      <td>3.55</td>\n",
       "      <td>1.54</td>\n",
       "      <td>72.99</td>\n",
       "      <td>0.39</td>\n",
       "      <td>7.78</td>\n",
       "      <td>0.0</td>\n",
       "      <td>0.00</td>\n",
       "      <td>1</td>\n",
       "    </tr>\n",
       "    <tr>\n",
       "      <th>3</th>\n",
       "      <td>4</td>\n",
       "      <td>1.51766</td>\n",
       "      <td>13.21</td>\n",
       "      <td>3.69</td>\n",
       "      <td>1.29</td>\n",
       "      <td>72.61</td>\n",
       "      <td>0.57</td>\n",
       "      <td>8.22</td>\n",
       "      <td>0.0</td>\n",
       "      <td>0.00</td>\n",
       "      <td>1</td>\n",
       "    </tr>\n",
       "    <tr>\n",
       "      <th>4</th>\n",
       "      <td>5</td>\n",
       "      <td>1.51742</td>\n",
       "      <td>13.27</td>\n",
       "      <td>3.62</td>\n",
       "      <td>1.24</td>\n",
       "      <td>73.08</td>\n",
       "      <td>0.55</td>\n",
       "      <td>8.07</td>\n",
       "      <td>0.0</td>\n",
       "      <td>0.00</td>\n",
       "      <td>1</td>\n",
       "    </tr>\n",
       "    <tr>\n",
       "      <th>5</th>\n",
       "      <td>6</td>\n",
       "      <td>1.51596</td>\n",
       "      <td>12.79</td>\n",
       "      <td>3.61</td>\n",
       "      <td>1.62</td>\n",
       "      <td>72.97</td>\n",
       "      <td>0.64</td>\n",
       "      <td>8.07</td>\n",
       "      <td>0.0</td>\n",
       "      <td>0.26</td>\n",
       "      <td>1</td>\n",
       "    </tr>\n",
       "    <tr>\n",
       "      <th>6</th>\n",
       "      <td>7</td>\n",
       "      <td>1.51743</td>\n",
       "      <td>13.30</td>\n",
       "      <td>3.60</td>\n",
       "      <td>1.14</td>\n",
       "      <td>73.09</td>\n",
       "      <td>0.58</td>\n",
       "      <td>8.17</td>\n",
       "      <td>0.0</td>\n",
       "      <td>0.00</td>\n",
       "      <td>1</td>\n",
       "    </tr>\n",
       "    <tr>\n",
       "      <th>7</th>\n",
       "      <td>8</td>\n",
       "      <td>1.51756</td>\n",
       "      <td>13.15</td>\n",
       "      <td>3.61</td>\n",
       "      <td>1.05</td>\n",
       "      <td>73.24</td>\n",
       "      <td>0.57</td>\n",
       "      <td>8.24</td>\n",
       "      <td>0.0</td>\n",
       "      <td>0.00</td>\n",
       "      <td>1</td>\n",
       "    </tr>\n",
       "    <tr>\n",
       "      <th>8</th>\n",
       "      <td>9</td>\n",
       "      <td>1.51918</td>\n",
       "      <td>14.04</td>\n",
       "      <td>3.58</td>\n",
       "      <td>1.37</td>\n",
       "      <td>72.08</td>\n",
       "      <td>0.56</td>\n",
       "      <td>8.30</td>\n",
       "      <td>0.0</td>\n",
       "      <td>0.00</td>\n",
       "      <td>1</td>\n",
       "    </tr>\n",
       "    <tr>\n",
       "      <th>9</th>\n",
       "      <td>10</td>\n",
       "      <td>1.51755</td>\n",
       "      <td>13.00</td>\n",
       "      <td>3.60</td>\n",
       "      <td>1.36</td>\n",
       "      <td>72.99</td>\n",
       "      <td>0.57</td>\n",
       "      <td>8.40</td>\n",
       "      <td>0.0</td>\n",
       "      <td>0.11</td>\n",
       "      <td>1</td>\n",
       "    </tr>\n",
       "  </tbody>\n",
       "</table>\n",
       "</div>"
      ],
      "text/plain": [
       "   ID       RI   NA2O   MGO  AL2O3   SIO2   K2O   CAO  BAO  FE2O3  TYPE\n",
       "0   1  1.52101  13.64  4.49   1.10  71.78  0.06  8.75  0.0   0.00     1\n",
       "1   2  1.51761  13.89  3.60   1.36  72.73  0.48  7.83  0.0   0.00     1\n",
       "2   3  1.51618  13.53  3.55   1.54  72.99  0.39  7.78  0.0   0.00     1\n",
       "3   4  1.51766  13.21  3.69   1.29  72.61  0.57  8.22  0.0   0.00     1\n",
       "4   5  1.51742  13.27  3.62   1.24  73.08  0.55  8.07  0.0   0.00     1\n",
       "5   6  1.51596  12.79  3.61   1.62  72.97  0.64  8.07  0.0   0.26     1\n",
       "6   7  1.51743  13.30  3.60   1.14  73.09  0.58  8.17  0.0   0.00     1\n",
       "7   8  1.51756  13.15  3.61   1.05  73.24  0.57  8.24  0.0   0.00     1\n",
       "8   9  1.51918  14.04  3.58   1.37  72.08  0.56  8.30  0.0   0.00     1\n",
       "9  10  1.51755  13.00  3.60   1.36  72.99  0.57  8.40  0.0   0.11     1"
      ]
     },
     "execution_count": 2,
     "metadata": {},
     "output_type": "execute_result"
    }
   ],
   "source": [
    "#Заголовки данных согласно файлу с описанием glass.tag --Variant 11\n",
    "data_headers = [\"ID\", \"RI\", \"NA2O\", \"MGO\", \"AL2O3\", \"SIO2\", \"K2O\", \"CAO\", \"BAO\", \"FE2O3\", \"TYPE\"]\n",
    "data = pd.read_csv('C:/Учеба/Мага/1 семестр/Интеллектуальные системы и технологии/Практика 3-4/glass.data', names=data_headers)\n",
    "data.head(10)"
   ]
  },
  {
   "cell_type": "markdown",
   "id": "97c9a856",
   "metadata": {},
   "source": [
    "## Соответствие значений столбца TYPE и названий типов"
   ]
  },
  {
   "cell_type": "code",
   "execution_count": 3,
   "id": "22487aac",
   "metadata": {},
   "outputs": [],
   "source": [
    "types = data.iloc[:,10]\n",
    "types_name = {1: \"building_windows_float_processed\",\n",
    "            2 : \"building_windows_non_float_processed\",\n",
    "            3 : \"vehicle_windows_float_processed\",\n",
    "            5 : \"containers\",\n",
    "            6 : \"tableware\",\n",
    "            7 :\"headlamps\"}"
   ]
  },
  {
   "cell_type": "markdown",
   "id": "7942c902",
   "metadata": {},
   "source": [
    "## Предварительно масштабируем данные"
   ]
  },
  {
   "cell_type": "code",
   "execution_count": 4,
   "id": "879b871e",
   "metadata": {},
   "outputs": [
    {
     "name": "stdout",
     "output_type": "stream",
     "text": [
      "Исходные данные\n",
      "[[ 1.52101 13.64     4.49    ...  8.75     0.       0.     ]\n",
      " [ 1.51761 13.89     3.6     ...  7.83     0.       0.     ]\n",
      " [ 1.51618 13.53     3.55    ...  7.78     0.       0.     ]\n",
      " ...\n",
      " [ 1.52065 14.36     0.      ...  8.44     1.64     0.     ]\n",
      " [ 1.51651 14.38     0.      ...  8.48     1.57     0.     ]\n",
      " [ 1.51711 14.23     0.      ...  8.62     1.67     0.     ]]\n",
      "\n",
      "После масштабирования\n",
      "[[ 0.87286765  0.28495326  1.25463857 ... -0.14576634 -0.35287683\n",
      "  -0.5864509 ]\n",
      " [-0.24933347  0.59181718  0.63616803 ... -0.79373376 -0.35287683\n",
      "  -0.5864509 ]\n",
      " [-0.72131806  0.14993314  0.60142249 ... -0.82894938 -0.35287683\n",
      "  -0.5864509 ]\n",
      " ...\n",
      " [ 0.75404635  1.16872135 -1.86551055 ... -0.36410319  2.95320036\n",
      "  -0.5864509 ]\n",
      " [-0.61239854  1.19327046 -1.86551055 ... -0.33593069  2.81208731\n",
      "  -0.5864509 ]\n",
      " [-0.41436305  1.00915211 -1.86551055 ... -0.23732695  3.01367739\n",
      "  -0.5864509 ]]\n"
     ]
    }
   ],
   "source": [
    "data_x = data.iloc[:, 1:-1].values\n",
    "scaler = preprocessing.StandardScaler()\n",
    "data_scaled = scaler.fit_transform(data_x)\n",
    "print('Исходные данные')\n",
    "print(data_x)\n",
    "print('\\nПосле масштабирования')\n",
    "print(data_scaled)"
   ]
  },
  {
   "cell_type": "markdown",
   "id": "0ac0ea04",
   "metadata": {},
   "source": [
    "## Разбиваем данные на обучающую и тестовую выборку"
   ]
  },
  {
   "cell_type": "code",
   "execution_count": 5,
   "id": "16b13322",
   "metadata": {},
   "outputs": [],
   "source": [
    "X_train, X_test, y_train, y_test = train_test_split(data_scaled,\n",
    "                                                    types,\n",
    "                                                    test_size=0.3,\n",
    "                                                    shuffle=True,\n",
    "                                                    stratify=types,\n",
    "                                                    random_state=151)"
   ]
  },
  {
   "cell_type": "markdown",
   "id": "aabccbad",
   "metadata": {},
   "source": [
    "# Обучение модели linear"
   ]
  },
  {
   "cell_type": "code",
   "execution_count": 6,
   "id": "c0fcccef",
   "metadata": {},
   "outputs": [],
   "source": [
    "KERNEL = 'linear'"
   ]
  },
  {
   "cell_type": "markdown",
   "id": "f2022a58",
   "metadata": {},
   "source": [
    "#### Оформим задачу поиска наилучших параметров обучения как некоторую функцию, которую будем оптимизировать\n",
    "\n",
    "##### f(параметр регуляризации, гамма, степень) = точность определения тестовых данных"
   ]
  },
  {
   "cell_type": "code",
   "execution_count": 17,
   "id": "2a3456c6",
   "metadata": {},
   "outputs": [],
   "source": [
    "def function1(x):\n",
    "    # Обучение модели\n",
    "    svm = SVC(kernel=KERNEL, C=x[0], gamma = x[1], degree=round(x[2])).fit(X_train,y_train)\n",
    "    # Предсказание тестовых данных\n",
    "    y_test_pred = svm.predict(X_test)\n",
    "    # Получение точности определения данных, знак минуса, так как стремимся МАКСИМИЗИРОВАТЬ функцию\n",
    "    return - metrics.accuracy_score(y_test, y_test_pred)\n",
    "\n",
    "def function2(x):\n",
    "    x_ = x[:,0]\n",
    "    y_ = x[:,1]\n",
    "    z_ = x[:,2]\n",
    "    # Обучение модели\n",
    "    svm = SVC(kernel = KERNEL,C=x_, gamma=y_, degree=round(z_[0])).fit(X_train,y_train)\n",
    "    # Предсказание тестовых данных\n",
    "    y_test_pred = svm.predict(X_test)\n",
    "    # Получение точности определения данных, знак минуса, так как стремимся МАКСИМИЗИРОВАТЬ функцию\n",
    "    return - metrics.accuracy_score(y_test, y_test_pred)\n",
    "\n",
    "# Пчелиный алгоритм ищет максимум, поэтому нужно взять функцию со знаком -\n",
    "def negative_function1(c):\n",
    "    return - function1(c)"
   ]
  },
  {
   "cell_type": "code",
   "execution_count": 8,
   "id": "23fb1960",
   "metadata": {},
   "outputs": [],
   "source": [
    "genetic_varbound = np.array([[1,15],[0.1, 10.0],[1, 10]])\n",
    "pso_varbound = bees_varbound = np.array([np.array([1.0, 0.1, 0.1]), np.array([15,10,10])])\n",
    "differential_boundaries=[[1.0, 15.0], [0.1, 10.0],[0.1, 10.0]]"
   ]
  },
  {
   "cell_type": "markdown",
   "id": "66eb2b07",
   "metadata": {},
   "source": [
    "### Genetic algorithm"
   ]
  },
  {
   "cell_type": "code",
   "execution_count": 9,
   "id": "d2ba29bb",
   "metadata": {},
   "outputs": [],
   "source": [
    "from geneticalgorithm import geneticalgorithm as ga"
   ]
  },
  {
   "cell_type": "code",
   "execution_count": 10,
   "id": "3494ef9e",
   "metadata": {},
   "outputs": [
    {
     "name": "stdout",
     "output_type": "stream",
     "text": [
      " The best solution found:                                                                           \n",
      " [3.88543322 7.59563453 1.79176334]\n",
      "\n",
      " Objective function:\n",
      " -0.7230769230769231\n"
     ]
    },
    {
     "data": {
      "image/png": "[encoded data removed]",
      "text/plain": [
       "<Figure size 432x288 with 1 Axes>"
      ]
     },
     "metadata": {},
     "output_type": "display_data"
    },
    {
     "name": "stdout",
     "output_type": "stream",
     "text": [
      "Время выполнения  265.28310203552246\n"
     ]
    }
   ],
   "source": [
    "t = time.time()\n",
    "model=ga(function=function1,dimension=3,variable_type='real', variable_boundaries = genetic_varbound)\n",
    "model.run()\n",
    "t=time.time()-t\n",
    "print('Время выполнения ', t)\n",
    "\n",
    "## Значение objective function указано со знаком минус"
   ]
  },
  {
   "cell_type": "markdown",
   "id": "003d3b4b",
   "metadata": {},
   "source": [
    "### Алгоритм Роя частиц"
   ]
  },
  {
   "cell_type": "code",
   "execution_count": 12,
   "id": "665ea636",
   "metadata": {},
   "outputs": [],
   "source": [
    "import pyswarms as ps\n",
    "from pyswarms.utils.functions import single_obj as fx\n",
    "from pyswarms.utils.plotters import (plot_cost_history, plot_contour, plot_surface)\n",
    "from pyswarms.utils.plotters.formatters import Mesher, Designer"
   ]
  },
  {
   "cell_type": "code",
   "execution_count": 18,
   "id": "b711ba5c",
   "metadata": {
    "scrolled": true
   },
   "outputs": [
    {
     "name": "stderr",
     "output_type": "stream",
     "text": [
      "2021-11-14 21:32:32,025 - pyswarms.single.global_best - INFO - Optimize for 500 iters with {'c1': 0.5, 'c2': 0.3, 'w': 0.9}\n",
      "pyswarms.single.global_best: 100%|████████████████████████████████████████████████████████████|500/500, best_cost=-.692\n",
      "2021-11-14 21:32:33,601 - pyswarms.single.global_best - INFO - Optimization finished | best cost: -0.6923076923076923, best pos: [5.99857126 3.42975137 7.07974845]\n"
     ]
    },
    {
     "name": "stdout",
     "output_type": "stream",
     "text": [
      "Координата лучшего решения  [5.99857126 3.42975137 7.07974845]\n",
      "Наименьшее достигнутое значение функции  0.6923076923076923\n",
      "Время выполнения  1.57979416847229\n"
     ]
    }
   ],
   "source": [
    "options = {'c1':0.5, 'c2':0.3, 'w':0.9}\n",
    "\n",
    "t=time.time()\n",
    "optimizer = ps.single.GlobalBestPSO(n_particles=1, dimensions=3, options=options, bounds=pso_varbound)\n",
    "cost, pos = optimizer.optimize(function2, iters=500)\n",
    "\n",
    "print('Координата лучшего решения ', pos)\n",
    "print('Наименьшее достигнутое значение функции ', -cost)\n",
    "\n",
    "t=time.time()-t\n",
    "print('Время выполнения ', t)"
   ]
  },
  {
   "cell_type": "markdown",
   "id": "9ad52bc7",
   "metadata": {},
   "source": [
    "### Пчелиный алгоритм"
   ]
  },
  {
   "cell_type": "code",
   "execution_count": 20,
   "id": "1c6fbff2",
   "metadata": {},
   "outputs": [],
   "source": [
    "from bees_algorithm import BeesAlgorithm"
   ]
  },
  {
   "cell_type": "code",
   "execution_count": 21,
   "id": "df06339a",
   "metadata": {},
   "outputs": [
    {
     "name": "stdout",
     "output_type": "stream",
     "text": [
      "Лучшее значение  0.7230769230769231\n",
      "Координаты лучшего решения  [2.9667146741809196, 1.0192937615551827, 9.215771749232506]\n",
      "Время выполнения  81.24452137947083\n"
     ]
    }
   ],
   "source": [
    "t=time.time()\n",
    "alg = BeesAlgorithm(negative_function1,\n",
    "                    bees_varbound[0],\n",
    "                    bees_varbound[1],\n",
    "                    ns = 10, nb= 18, ne = 1,\n",
    "                    nrb = 5, nre = 10, stlim=100\n",
    "                   )\n",
    "alg.performFullOptimisation(max_iteration=500)\n",
    "\n",
    "best = alg.best_solution #Получение лучшего решения\n",
    "# лучшее достигнутое значение функции\n",
    "print('Лучшее значение ', best.score)\n",
    "# Координаты лучшего решения)\n",
    "print('Координаты лучшего решения ', best.values)\n",
    "t=time.time()-t\n",
    "print('Время выполнения ', t)"
   ]
  },
  {
   "cell_type": "markdown",
   "id": "38d3c7ce",
   "metadata": {},
   "source": [
    "### Алгоритм дифференциальной эволюции"
   ]
  },
  {
   "cell_type": "code",
   "execution_count": 22,
   "id": "492c6ecd",
   "metadata": {},
   "outputs": [],
   "source": [
    "from scipy.optimize import differential_evolution"
   ]
  },
  {
   "cell_type": "code",
   "execution_count": 23,
   "id": "3b7f9b83",
   "metadata": {},
   "outputs": [
    {
     "name": "stdout",
     "output_type": "stream",
     "text": [
      "Лучшее значение  0.7230769230769231\n",
      "Координаты лучшего решения  [4.22282428 1.90121858 4.65973959]\n",
      "Время выполнения  0.6117005348205566\n"
     ]
    }
   ],
   "source": [
    "t=time.time()\n",
    "result = differential_evolution(function1, differential_boundaries)\n",
    "# лучшее достигнутое значение функции\n",
    "print('Лучшее значение ', -result.fun)\n",
    "# Координаты лучшего решения\n",
    "print('Координаты лучшего решения ', result.x)\n",
    "t=time.time()-t\n",
    "print('Время выполнения ', t)"
   ]
  },
  {
   "cell_type": "markdown",
   "id": "00dd16ec",
   "metadata": {},
   "source": [
    "## Обучение модели RBF"
   ]
  },
  {
   "cell_type": "code",
   "execution_count": 26,
   "id": "f97435cc",
   "metadata": {},
   "outputs": [],
   "source": [
    "KERNEL = 'rbf'"
   ]
  },
  {
   "cell_type": "markdown",
   "id": "8365a47b",
   "metadata": {},
   "source": [
    "### Genetic algorithm"
   ]
  },
  {
   "cell_type": "code",
   "execution_count": 27,
   "id": "898652e9",
   "metadata": {},
   "outputs": [
    {
     "name": "stdout",
     "output_type": "stream",
     "text": [
      " The best solution found:                                                                           \n",
      " [6.39420786 0.16463663 8.57362317]\n",
      "\n",
      " Objective function:\n",
      " -0.7384615384615385\n"
     ]
    },
    {
     "data": {
      "image/png": "[encoded data removed]",
      "text/plain": [
       "<Figure size 432x288 with 1 Axes>"
      ]
     },
     "metadata": {},
     "output_type": "display_data"
    },
    {
     "name": "stdout",
     "output_type": "stream",
     "text": [
      "Время выполнения  310.89225792884827\n"
     ]
    }
   ],
   "source": [
    "t = time.time()\n",
    "model=ga(function=function1,dimension=3,variable_type='real', variable_boundaries = genetic_varbound)\n",
    "model.run()\n",
    "t=time.time()-t\n",
    "print('Время выполнения ', t)\n",
    "\n",
    "## Значение objective function указано со знаком минус"
   ]
  },
  {
   "cell_type": "markdown",
   "id": "31d15c16",
   "metadata": {},
   "source": [
    "### Алгоритм Роя частиц"
   ]
  },
  {
   "cell_type": "code",
   "execution_count": 28,
   "id": "8c45c1af",
   "metadata": {
    "scrolled": true
   },
   "outputs": [
    {
     "name": "stderr",
     "output_type": "stream",
     "text": [
      "2021-11-14 21:49:04,977 - pyswarms.single.global_best - INFO - Optimize for 500 iters with {'c1': 0.5, 'c2': 0.3, 'w': 0.9}\n",
      "pyswarms.single.global_best: 100%|████████████████████████████████████████████████████████████|500/500, best_cost=-.569\n",
      "2021-11-14 21:49:07,063 - pyswarms.single.global_best - INFO - Optimization finished | best cost: -0.5692307692307692, best pos: [12.05347438  6.80945459  5.59986882]\n"
     ]
    },
    {
     "name": "stdout",
     "output_type": "stream",
     "text": [
      "Координата лучшего решения  [12.05347438  6.80945459  5.59986882]\n",
      "Наименьшее достигнутое значение функции  0.5692307692307692\n",
      "Время выполнения  2.09305739402771\n"
     ]
    }
   ],
   "source": [
    "options = {'c1':0.5, 'c2':0.3, 'w':0.9}\n",
    "\n",
    "t=time.time()\n",
    "optimizer = ps.single.GlobalBestPSO(n_particles=1, dimensions=3, options=options, bounds=pso_varbound)\n",
    "cost, pos = optimizer.optimize(function2, iters=500)\n",
    "\n",
    "print('Координата лучшего решения ', pos)\n",
    "print('Наименьшее достигнутое значение функции ', -cost)\n",
    "\n",
    "t=time.time()-t\n",
    "print('Время выполнения ', t)"
   ]
  },
  {
   "cell_type": "markdown",
   "id": "474fa7de",
   "metadata": {},
   "source": [
    "### Пчелиный алгоритм"
   ]
  },
  {
   "cell_type": "code",
   "execution_count": 29,
   "id": "0b4e5e05",
   "metadata": {},
   "outputs": [
    {
     "name": "stdout",
     "output_type": "stream",
     "text": [
      "Лучшее значение  0.7384615384615385\n",
      "Координаты лучшего решения  [1.9349472392462586, 0.9361328322903457, 3.232011869882779]\n",
      "Время выполнения  94.7498414516449\n"
     ]
    }
   ],
   "source": [
    "t=time.time()\n",
    "alg = BeesAlgorithm(negative_function1,\n",
    "                    bees_varbound[0],\n",
    "                    bees_varbound[1],\n",
    "                    ns = 10, nb= 18, ne = 1,\n",
    "                    nrb = 5, nre = 10, stlim=100\n",
    "                   )\n",
    "alg.performFullOptimisation(max_iteration=500)\n",
    "\n",
    "best = alg.best_solution #Получение лучшего решения\n",
    "# лучшее достигнутое значение функции\n",
    "print('Лучшее значение ', best.score)\n",
    "# Координаты лучшего решения)\n",
    "print('Координаты лучшего решения ', best.values)\n",
    "t=time.time()-t\n",
    "print('Время выполнения ', t)"
   ]
  },
  {
   "cell_type": "markdown",
   "id": "cc90bd4c",
   "metadata": {},
   "source": [
    "### Алгоритм дифференциальной эволюции"
   ]
  },
  {
   "cell_type": "code",
   "execution_count": 30,
   "id": "b04c2ad9",
   "metadata": {},
   "outputs": [
    {
     "name": "stdout",
     "output_type": "stream",
     "text": [
      "Лучшее значение  0.7384615384615385\n",
      "Координаты лучшего решения  [8.75787692 0.15544658 5.03247221]\n",
      "Время выполнения  1.8026573657989502\n"
     ]
    }
   ],
   "source": [
    "t=time.time()\n",
    "result = differential_evolution(function1, differential_boundaries)\n",
    "# лучшее достигнутое значение функции\n",
    "print('Лучшее значение ', -result.fun)\n",
    "# Координаты лучшего решения\n",
    "print('Координаты лучшего решения ', result.x)\n",
    "t=time.time()-t\n",
    "print('Время выполнения ', t)"
   ]
  },
  {
   "cell_type": "markdown",
   "id": "886e302e",
   "metadata": {},
   "source": [
    "## Обучение полиномиальной модели"
   ]
  },
  {
   "cell_type": "code",
   "execution_count": 31,
   "id": "660ef3ec",
   "metadata": {},
   "outputs": [],
   "source": [
    "KERNEL = 'poly'"
   ]
  },
  {
   "cell_type": "markdown",
   "id": "e5a27569",
   "metadata": {},
   "source": [
    "### Genetic algorithm"
   ]
  },
  {
   "cell_type": "code",
   "execution_count": 32,
   "id": "08e70206",
   "metadata": {},
   "outputs": [
    {
     "name": "stdout",
     "output_type": "stream",
     "text": [
      " The best solution found:                                                                           \n",
      " [9.31679423 0.69092304 6.5013213 ]\n",
      "\n",
      " Objective function:\n",
      " -0.7846153846153846\n"
     ]
    },
    {
     "data": {
      "image/png": "[encoded data removed]",
      "text/plain": [
       "<Figure size 432x288 with 1 Axes>"
      ]
     },
     "metadata": {},
     "output_type": "display_data"
    },
    {
     "name": "stdout",
     "output_type": "stream",
     "text": [
      "Время выполнения  281.844694852829\n"
     ]
    }
   ],
   "source": [
    "t = time.time()\n",
    "model=ga(function=function1,dimension=3,variable_type='real', variable_boundaries = genetic_varbound)\n",
    "model.run()\n",
    "t=time.time()-t\n",
    "print('Время выполнения ', t)\n",
    "\n",
    "## Значение objective function указано со знаком минус"
   ]
  },
  {
   "cell_type": "markdown",
   "id": "a6d085ec",
   "metadata": {},
   "source": [
    "### Алгоритм Роя частиц"
   ]
  },
  {
   "cell_type": "code",
   "execution_count": 33,
   "id": "15250782",
   "metadata": {
    "scrolled": true
   },
   "outputs": [
    {
     "name": "stderr",
     "output_type": "stream",
     "text": [
      "2021-11-14 21:55:29,223 - pyswarms.single.global_best - INFO - Optimize for 500 iters with {'c1': 0.5, 'c2': 0.3, 'w': 0.9}\n",
      "pyswarms.single.global_best: 100%|████████████████████████████████████████████████████████████|500/500, best_cost=-.708\n",
      "2021-11-14 21:55:30,873 - pyswarms.single.global_best - INFO - Optimization finished | best cost: -0.7076923076923077, best pos: [3.6616032  7.85565337 5.23731061]\n"
     ]
    },
    {
     "name": "stdout",
     "output_type": "stream",
     "text": [
      "Координата лучшего решения  [3.6616032  7.85565337 5.23731061]\n",
      "Наименьшее достигнутое значение функции  0.7076923076923077\n",
      "Время выполнения  1.6597912311553955\n"
     ]
    }
   ],
   "source": [
    "options = {'c1':0.5, 'c2':0.3, 'w':0.9}\n",
    "\n",
    "t=time.time()\n",
    "optimizer = ps.single.GlobalBestPSO(n_particles=1, dimensions=3, options=options, bounds=pso_varbound)\n",
    "cost, pos = optimizer.optimize(function2, iters=500)\n",
    "\n",
    "print('Координата лучшего решения ', pos)\n",
    "print('Наименьшее достигнутое значение функции ', -cost)\n",
    "\n",
    "t=time.time()-t\n",
    "print('Время выполнения ', t)"
   ]
  },
  {
   "cell_type": "markdown",
   "id": "a637e311",
   "metadata": {},
   "source": [
    "### Пчелиный алгоритм"
   ]
  },
  {
   "cell_type": "code",
   "execution_count": 34,
   "id": "0c33e6a3",
   "metadata": {},
   "outputs": [
    {
     "name": "stdout",
     "output_type": "stream",
     "text": [
      "Лучшее значение  0.7846153846153846\n",
      "Координаты лучшего решения  [14.726814396143972, 0.646879184464255, 6.790685292721912]\n",
      "Время выполнения  106.08919334411621\n"
     ]
    }
   ],
   "source": [
    "t=time.time()\n",
    "alg = BeesAlgorithm(negative_function1,\n",
    "                    bees_varbound[0],\n",
    "                    bees_varbound[1],\n",
    "                    ns = 10, nb= 18, ne = 1,\n",
    "                    nrb = 5, nre = 10, stlim=100\n",
    "                   )\n",
    "alg.performFullOptimisation(max_iteration=500)\n",
    "\n",
    "best = alg.best_solution #Получение лучшего решения\n",
    "# лучшее достигнутое значение функции\n",
    "print('Лучшее значение ', best.score)\n",
    "# Координаты лучшего решения)\n",
    "print('Координаты лучшего решения ', best.values)\n",
    "t=time.time()-t\n",
    "print('Время выполнения ', t)"
   ]
  },
  {
   "cell_type": "markdown",
   "id": "440598fd",
   "metadata": {},
   "source": [
    "### Алгоритм дифференциальной эволюции"
   ]
  },
  {
   "cell_type": "code",
   "execution_count": 35,
   "id": "0cfa571e",
   "metadata": {},
   "outputs": [
    {
     "name": "stdout",
     "output_type": "stream",
     "text": [
      "Лучшее значение  0.7538461538461538\n",
      "Координаты лучшего решения  [2.47942118 0.83091851 9.25059109]\n",
      "Время выполнения  0.9215981960296631\n"
     ]
    }
   ],
   "source": [
    "t=time.time()\n",
    "result = differential_evolution(function1, differential_boundaries)\n",
    "# лучшее достигнутое значение функции\n",
    "print('Лучшее значение ', -result.fun)\n",
    "# Координаты лучшего решения\n",
    "print('Координаты лучшего решения ', result.x)\n",
    "t=time.time()-t\n",
    "print('Время выполнения ', t)"
   ]
  },
  {
   "cell_type": "markdown",
   "id": "ca51113e",
   "metadata": {},
   "source": [
    "## Обучение сигмоидальной модели"
   ]
  },
  {
   "cell_type": "code",
   "execution_count": 36,
   "id": "101311a3",
   "metadata": {},
   "outputs": [],
   "source": [
    "KERNEL = 'sigmoid'"
   ]
  },
  {
   "cell_type": "markdown",
   "id": "8e923403",
   "metadata": {},
   "source": [
    "### Genetic algorithm"
   ]
  },
  {
   "cell_type": "code",
   "execution_count": 37,
   "id": "22cd839c",
   "metadata": {},
   "outputs": [
    {
     "name": "stdout",
     "output_type": "stream",
     "text": [
      " The best solution found:                                                                           \n",
      " [2.64620898 1.1140159  3.16665399]\n",
      "\n",
      " Objective function:\n",
      " -0.6461538461538462\n"
     ]
    },
    {
     "data": {
      "image/png": "[encoded data removed]",
      "text/plain": [
       "<Figure size 432x288 with 1 Axes>"
      ]
     },
     "metadata": {},
     "output_type": "display_data"
    },
    {
     "name": "stdout",
     "output_type": "stream",
     "text": [
      "Время выполнения  207.32111859321594\n"
     ]
    }
   ],
   "source": [
    "t = time.time()\n",
    "model=ga(function=function1,dimension=3,variable_type='real', variable_boundaries = genetic_varbound)\n",
    "model.run()\n",
    "t=time.time()-t\n",
    "print('Время выполнения ', t)\n",
    "\n",
    "## Значение objective function указано со знаком минус"
   ]
  },
  {
   "cell_type": "markdown",
   "id": "c5565737",
   "metadata": {},
   "source": [
    "### Алгоритм Роя частиц"
   ]
  },
  {
   "cell_type": "code",
   "execution_count": 38,
   "id": "07da12f7",
   "metadata": {
    "scrolled": true
   },
   "outputs": [
    {
     "name": "stderr",
     "output_type": "stream",
     "text": [
      "2021-11-14 22:01:15,363 - pyswarms.single.global_best - INFO - Optimize for 500 iters with {'c1': 0.5, 'c2': 0.3, 'w': 0.9}\n",
      "pyswarms.single.global_best: 100%|████████████████████████████████████████████████████████████|500/500, best_cost=-.523\n",
      "2021-11-14 22:01:16,594 - pyswarms.single.global_best - INFO - Optimization finished | best cost: -0.5230769230769231, best pos: [6.72520649 4.75999332 5.96607681]\n"
     ]
    },
    {
     "name": "stdout",
     "output_type": "stream",
     "text": [
      "Координата лучшего решения  [6.72520649 4.75999332 5.96607681]\n",
      "Наименьшее достигнутое значение функции  0.5230769230769231\n",
      "Время выполнения  1.2376630306243896\n"
     ]
    }
   ],
   "source": [
    "options = {'c1':0.5, 'c2':0.3, 'w':0.9}\n",
    "\n",
    "t=time.time()\n",
    "optimizer = ps.single.GlobalBestPSO(n_particles=1, dimensions=3, options=options, bounds=pso_varbound)\n",
    "cost, pos = optimizer.optimize(function2, iters=500)\n",
    "\n",
    "print('Координата лучшего решения ', pos)\n",
    "print('Наименьшее достигнутое значение функции ', -cost)\n",
    "\n",
    "t=time.time()-t\n",
    "print('Время выполнения ', t)"
   ]
  },
  {
   "cell_type": "markdown",
   "id": "0749bc5e",
   "metadata": {},
   "source": [
    "### Пчелиный алгоритм"
   ]
  },
  {
   "cell_type": "code",
   "execution_count": 39,
   "id": "e033dd9e",
   "metadata": {},
   "outputs": [
    {
     "name": "stdout",
     "output_type": "stream",
     "text": [
      "Лучшее значение  0.6461538461538462\n",
      "Координаты лучшего решения  [2.650009448548229, 1.1158034132306722, 3.365031102966277]\n",
      "Время выполнения  70.61467099189758\n"
     ]
    }
   ],
   "source": [
    "t=time.time()\n",
    "alg = BeesAlgorithm(negative_function1,\n",
    "                    bees_varbound[0],\n",
    "                    bees_varbound[1],\n",
    "                    ns = 10, nb= 18, ne = 1,\n",
    "                    nrb = 5, nre = 10, stlim=100\n",
    "                   )\n",
    "alg.performFullOptimisation(max_iteration=500)\n",
    "\n",
    "best = alg.best_solution #Получение лучшего решения\n",
    "# лучшее достигнутое значение функции\n",
    "print('Лучшее значение ', best.score)\n",
    "# Координаты лучшего решения)\n",
    "print('Координаты лучшего решения ', best.values)\n",
    "t=time.time()-t\n",
    "print('Время выполнения ', t)"
   ]
  },
  {
   "cell_type": "markdown",
   "id": "07ffcacd",
   "metadata": {},
   "source": [
    "### Алгоритм дифференциальной эволюции"
   ]
  },
  {
   "cell_type": "code",
   "execution_count": 40,
   "id": "c80673df",
   "metadata": {},
   "outputs": [
    {
     "name": "stdout",
     "output_type": "stream",
     "text": [
      "Лучшее значение  0.6461538461538462\n",
      "Координаты лучшего решения  [2.78466391 1.10522272 2.45249249]\n",
      "Время выполнения  3.0621495246887207\n"
     ]
    }
   ],
   "source": [
    "t=time.time()\n",
    "result = differential_evolution(function1, differential_boundaries)\n",
    "# лучшее достигнутое значение функции\n",
    "print('Лучшее значение ', -result.fun)\n",
    "# Координаты лучшего решения\n",
    "print('Координаты лучшего решения ', result.x)\n",
    "t=time.time()-t\n",
    "print('Время выполнения ', t)"
   ]
  },
  {
   "cell_type": "markdown",
   "id": "a6789c6f",
   "metadata": {},
   "source": [
    "## Примечания"
   ]
  },
  {
   "cell_type": "markdown",
   "id": "fe30f841",
   "metadata": {},
   "source": [
    "В датасете представлено 6 категорий стекол:\n",
    "\n",
    "1: \"building_windows_float_processed\" - 70 экземпляров\\\n",
    "2 : \"building_windows_non_float_processed\" - 76 экземпляров\\\n",
    "3 : \"vehicle_windows_float_processed\" - 17 экземпляров\\\n",
    "5 : \"containers\" - 13 экземпляров\\\n",
    "6 : \"tableware\" - 9 экземпляров\\\n",
    "7 :\"headlamps\" - 29 экземпляров\\\n",
    "\n",
    "Первые две категории преобладают над остальными данными, в связи с чем все объекты некоторых классов попадают в другие классы.\n",
    "\n",
    "Благодаря применению алгоритмов оптимизации удалось улучшить качество предсказания данных. В качестве целевой функции оптимизации была выбрана точность определения ТЕСТОВЫХ данных. \n",
    "\n",
    "Ниже сопоставлены точность классификаторов из работы 5-6 и текущей (9-10) (на тестовых данных): \n",
    "\n",
    "Linear: 0.6615384615384615 -> 0.7230769230769231, параметры согласно генетическому алгоритму (C = 3.88543322, gamma = 7.59563453, degree = 2), \\\n",
    "согласно пчелиному алгоритму (C = 2.9667146741809196, gamma = 1.0192937615551827, degree = 10), \\\n",
    "согласно алгоритму дифференциальной эволюции (C = 4.22282428, gamma = 1.90121858, degree = 5)\n",
    "\n",
    "RBF: 0.676923076923077 -> 0.7384615384615385, параметры согласно генетическому алгоритму (C = 6.39420786, gamma = 0.16463663, degree = 9), \\\n",
    "согласно пчелиному алгоритму (C = 1.9349472392462586, gamma = 0.9361328322903457, degree = 3), \\\n",
    "согласно алгоритму дифференциальной эволюции (C = 8.75787692, gamma = 0.15544658, degree = 5)\n",
    "\n",
    "Poly: 0.6615384615384615 -> 0.7846153846153846, параметры согласно генетическому алгоритму (C = 9.31679423, gamma = 0.69092304, degree = 7), \\\n",
    "согласно пчелиному алгоритму (C = 14.726814396143972, gamma = 0.646879184464255, degree = 7)\n",
    "\n",
    "Sigmoid: 0.4153846153846154 -> 0.6461538461538462, параметры согласно генетическому алгоритму (C = 2.64620898, gamma = 1.1140159, degree = 3), \\\n",
    "согласно пчелиному алгоритму (C = 2.650009448548229, gamma = 1.1158034132306722, degree = 3), \\\n",
    "согласно алгоритму дифференциальной эволюции (C = 2.78466391, gamma = 1.10522272, degree = 2)\n",
    "\n",
    "Как видно из данного сравнения, благодаря эволюционным алгоритмам оптимизации удалось получить более оптимальные параметры SVM классификатора. Прирост точности составляет от 6 до 23%"
   ]
  }
 ],
 "metadata": {
  "kernelspec": {
   "display_name": "Python 3 (ipykernel)",
   "language": "python",
   "name": "python3"
  },
  "language_info": {
   "codemirror_mode": {
    "name": "ipython",
    "version": 3
   },
   "file_extension": ".py",
   "mimetype": "text/x-python",
   "name": "python",
   "nbconvert_exporter": "python",
   "pygments_lexer": "ipython3",
   "version": "3.8.8"
  }
 },
 "nbformat": 4,
 "nbformat_minor": 5
}
