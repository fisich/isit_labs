{
 "cells": [
  {
   "cell_type": "code",
   "execution_count": 20,
   "id": "e0b2a418",
   "metadata": {},
   "outputs": [],
   "source": [
    "import pandas as pd\n",
    "import numpy as np\n",
    "from sklearn import preprocessing, metrics\n",
    "from sklearn.model_selection import train_test_split, GridSearchCV\n",
    "from sklearn.neighbors import KNeighborsClassifier\n",
    "import matplotlib\n",
    "import matplotlib.pyplot as plt\n",
    "import seaborn as sns\n",
    "from collections import Counter\n",
    "\n",
    "import time\n",
    "import math"
   ]
  },
  {
   "cell_type": "markdown",
   "id": "895737ca",
   "metadata": {},
   "source": [
    "## Извлечение датасета"
   ]
  },
  {
   "cell_type": "code",
   "execution_count": 21,
   "id": "c9cfb65e",
   "metadata": {},
   "outputs": [
    {
     "data": {
      "text/html": [
       "<div>\n",
       "<style scoped>\n",
       "    .dataframe tbody tr th:only-of-type {\n",
       "        vertical-align: middle;\n",
       "    }\n",
       "\n",
       "    .dataframe tbody tr th {\n",
       "        vertical-align: top;\n",
       "    }\n",
       "\n",
       "    .dataframe thead th {\n",
       "        text-align: right;\n",
       "    }\n",
       "</style>\n",
       "<table border=\"1\" class=\"dataframe\">\n",
       "  <thead>\n",
       "    <tr style=\"text-align: right;\">\n",
       "      <th></th>\n",
       "      <th>ID</th>\n",
       "      <th>RI</th>\n",
       "      <th>NA2O</th>\n",
       "      <th>MGO</th>\n",
       "      <th>AL2O3</th>\n",
       "      <th>SIO2</th>\n",
       "      <th>K2O</th>\n",
       "      <th>CAO</th>\n",
       "      <th>BAO</th>\n",
       "      <th>FE2O3</th>\n",
       "      <th>TYPE</th>\n",
       "    </tr>\n",
       "  </thead>\n",
       "  <tbody>\n",
       "    <tr>\n",
       "      <th>0</th>\n",
       "      <td>1</td>\n",
       "      <td>1.52101</td>\n",
       "      <td>13.64</td>\n",
       "      <td>4.49</td>\n",
       "      <td>1.10</td>\n",
       "      <td>71.78</td>\n",
       "      <td>0.06</td>\n",
       "      <td>8.75</td>\n",
       "      <td>0.0</td>\n",
       "      <td>0.00</td>\n",
       "      <td>1</td>\n",
       "    </tr>\n",
       "    <tr>\n",
       "      <th>1</th>\n",
       "      <td>2</td>\n",
       "      <td>1.51761</td>\n",
       "      <td>13.89</td>\n",
       "      <td>3.60</td>\n",
       "      <td>1.36</td>\n",
       "      <td>72.73</td>\n",
       "      <td>0.48</td>\n",
       "      <td>7.83</td>\n",
       "      <td>0.0</td>\n",
       "      <td>0.00</td>\n",
       "      <td>1</td>\n",
       "    </tr>\n",
       "    <tr>\n",
       "      <th>2</th>\n",
       "      <td>3</td>\n",
       "      <td>1.51618</td>\n",
       "      <td>13.53</td>\n",
       "      <td>3.55</td>\n",
       "      <td>1.54</td>\n",
       "      <td>72.99</td>\n",
       "      <td>0.39</td>\n",
       "      <td>7.78</td>\n",
       "      <td>0.0</td>\n",
       "      <td>0.00</td>\n",
       "      <td>1</td>\n",
       "    </tr>\n",
       "    <tr>\n",
       "      <th>3</th>\n",
       "      <td>4</td>\n",
       "      <td>1.51766</td>\n",
       "      <td>13.21</td>\n",
       "      <td>3.69</td>\n",
       "      <td>1.29</td>\n",
       "      <td>72.61</td>\n",
       "      <td>0.57</td>\n",
       "      <td>8.22</td>\n",
       "      <td>0.0</td>\n",
       "      <td>0.00</td>\n",
       "      <td>1</td>\n",
       "    </tr>\n",
       "    <tr>\n",
       "      <th>4</th>\n",
       "      <td>5</td>\n",
       "      <td>1.51742</td>\n",
       "      <td>13.27</td>\n",
       "      <td>3.62</td>\n",
       "      <td>1.24</td>\n",
       "      <td>73.08</td>\n",
       "      <td>0.55</td>\n",
       "      <td>8.07</td>\n",
       "      <td>0.0</td>\n",
       "      <td>0.00</td>\n",
       "      <td>1</td>\n",
       "    </tr>\n",
       "    <tr>\n",
       "      <th>5</th>\n",
       "      <td>6</td>\n",
       "      <td>1.51596</td>\n",
       "      <td>12.79</td>\n",
       "      <td>3.61</td>\n",
       "      <td>1.62</td>\n",
       "      <td>72.97</td>\n",
       "      <td>0.64</td>\n",
       "      <td>8.07</td>\n",
       "      <td>0.0</td>\n",
       "      <td>0.26</td>\n",
       "      <td>1</td>\n",
       "    </tr>\n",
       "    <tr>\n",
       "      <th>6</th>\n",
       "      <td>7</td>\n",
       "      <td>1.51743</td>\n",
       "      <td>13.30</td>\n",
       "      <td>3.60</td>\n",
       "      <td>1.14</td>\n",
       "      <td>73.09</td>\n",
       "      <td>0.58</td>\n",
       "      <td>8.17</td>\n",
       "      <td>0.0</td>\n",
       "      <td>0.00</td>\n",
       "      <td>1</td>\n",
       "    </tr>\n",
       "    <tr>\n",
       "      <th>7</th>\n",
       "      <td>8</td>\n",
       "      <td>1.51756</td>\n",
       "      <td>13.15</td>\n",
       "      <td>3.61</td>\n",
       "      <td>1.05</td>\n",
       "      <td>73.24</td>\n",
       "      <td>0.57</td>\n",
       "      <td>8.24</td>\n",
       "      <td>0.0</td>\n",
       "      <td>0.00</td>\n",
       "      <td>1</td>\n",
       "    </tr>\n",
       "    <tr>\n",
       "      <th>8</th>\n",
       "      <td>9</td>\n",
       "      <td>1.51918</td>\n",
       "      <td>14.04</td>\n",
       "      <td>3.58</td>\n",
       "      <td>1.37</td>\n",
       "      <td>72.08</td>\n",
       "      <td>0.56</td>\n",
       "      <td>8.30</td>\n",
       "      <td>0.0</td>\n",
       "      <td>0.00</td>\n",
       "      <td>1</td>\n",
       "    </tr>\n",
       "    <tr>\n",
       "      <th>9</th>\n",
       "      <td>10</td>\n",
       "      <td>1.51755</td>\n",
       "      <td>13.00</td>\n",
       "      <td>3.60</td>\n",
       "      <td>1.36</td>\n",
       "      <td>72.99</td>\n",
       "      <td>0.57</td>\n",
       "      <td>8.40</td>\n",
       "      <td>0.0</td>\n",
       "      <td>0.11</td>\n",
       "      <td>1</td>\n",
       "    </tr>\n",
       "  </tbody>\n",
       "</table>\n",
       "</div>"
      ],
      "text/plain": [
       "   ID       RI   NA2O   MGO  AL2O3   SIO2   K2O   CAO  BAO  FE2O3  TYPE\n",
       "0   1  1.52101  13.64  4.49   1.10  71.78  0.06  8.75  0.0   0.00     1\n",
       "1   2  1.51761  13.89  3.60   1.36  72.73  0.48  7.83  0.0   0.00     1\n",
       "2   3  1.51618  13.53  3.55   1.54  72.99  0.39  7.78  0.0   0.00     1\n",
       "3   4  1.51766  13.21  3.69   1.29  72.61  0.57  8.22  0.0   0.00     1\n",
       "4   5  1.51742  13.27  3.62   1.24  73.08  0.55  8.07  0.0   0.00     1\n",
       "5   6  1.51596  12.79  3.61   1.62  72.97  0.64  8.07  0.0   0.26     1\n",
       "6   7  1.51743  13.30  3.60   1.14  73.09  0.58  8.17  0.0   0.00     1\n",
       "7   8  1.51756  13.15  3.61   1.05  73.24  0.57  8.24  0.0   0.00     1\n",
       "8   9  1.51918  14.04  3.58   1.37  72.08  0.56  8.30  0.0   0.00     1\n",
       "9  10  1.51755  13.00  3.60   1.36  72.99  0.57  8.40  0.0   0.11     1"
      ]
     },
     "execution_count": 21,
     "metadata": {},
     "output_type": "execute_result"
    }
   ],
   "source": [
    "#Заголовки данных согласно файлу с описанием glass.tag --Variant 11\n",
    "data_headers = [\"ID\", \"RI\", \"NA2O\", \"MGO\", \"AL2O3\", \"SIO2\", \"K2O\", \"CAO\", \"BAO\", \"FE2O3\", \"TYPE\"]\n",
    "data = pd.read_csv('C:/Учеба/Мага/1 семестр/Интеллектуальные системы и технологии/Практика 3-4/glass.data', names=data_headers)\n",
    "data.head(10)"
   ]
  },
  {
   "cell_type": "markdown",
   "id": "97c9a856",
   "metadata": {},
   "source": [
    "## Соответствие значений столбца TYPE и названий типов"
   ]
  },
  {
   "cell_type": "code",
   "execution_count": 22,
   "id": "22487aac",
   "metadata": {},
   "outputs": [],
   "source": [
    "types = data.iloc[:,10]\n",
    "types_name = {1: \"building_windows_float_processed\",\n",
    "            2 : \"building_windows_non_float_processed\",\n",
    "            3 : \"vehicle_windows_float_processed\",\n",
    "            5 : \"containers\",\n",
    "            6 : \"tableware\",\n",
    "            7 :\"headlamps\"}"
   ]
  },
  {
   "cell_type": "markdown",
   "id": "7942c902",
   "metadata": {},
   "source": [
    "## Предварительно масштабируем данные"
   ]
  },
  {
   "cell_type": "code",
   "execution_count": 23,
   "id": "879b871e",
   "metadata": {},
   "outputs": [
    {
     "name": "stdout",
     "output_type": "stream",
     "text": [
      "Исходные данные\n",
      "[[ 1.52101 13.64     4.49    ...  8.75     0.       0.     ]\n",
      " [ 1.51761 13.89     3.6     ...  7.83     0.       0.     ]\n",
      " [ 1.51618 13.53     3.55    ...  7.78     0.       0.     ]\n",
      " ...\n",
      " [ 1.52065 14.36     0.      ...  8.44     1.64     0.     ]\n",
      " [ 1.51651 14.38     0.      ...  8.48     1.57     0.     ]\n",
      " [ 1.51711 14.23     0.      ...  8.62     1.67     0.     ]]\n",
      "\n",
      "После масштабирования\n",
      "[[ 0.87286765  0.28495326  1.25463857 ... -0.14576634 -0.35287683\n",
      "  -0.5864509 ]\n",
      " [-0.24933347  0.59181718  0.63616803 ... -0.79373376 -0.35287683\n",
      "  -0.5864509 ]\n",
      " [-0.72131806  0.14993314  0.60142249 ... -0.82894938 -0.35287683\n",
      "  -0.5864509 ]\n",
      " ...\n",
      " [ 0.75404635  1.16872135 -1.86551055 ... -0.36410319  2.95320036\n",
      "  -0.5864509 ]\n",
      " [-0.61239854  1.19327046 -1.86551055 ... -0.33593069  2.81208731\n",
      "  -0.5864509 ]\n",
      " [-0.41436305  1.00915211 -1.86551055 ... -0.23732695  3.01367739\n",
      "  -0.5864509 ]]\n"
     ]
    }
   ],
   "source": [
    "data_x = data.iloc[:, 1:-1].values\n",
    "scaler = preprocessing.StandardScaler()\n",
    "data_scaled = scaler.fit_transform(data_x)\n",
    "print('Исходные данные')\n",
    "print(data_x)\n",
    "print('\\nПосле масштабирования')\n",
    "print(data_scaled)"
   ]
  },
  {
   "cell_type": "markdown",
   "id": "0ac0ea04",
   "metadata": {},
   "source": [
    "## Разбиваем данные на обучающую и тестовую выборку"
   ]
  },
  {
   "cell_type": "code",
   "execution_count": 24,
   "id": "16b13322",
   "metadata": {},
   "outputs": [],
   "source": [
    "X_train, X_test, y_train, y_test = train_test_split(data_scaled,\n",
    "                                                    types,\n",
    "                                                    test_size=0.3,\n",
    "                                                    shuffle=True,\n",
    "                                                    stratify=types,\n",
    "                                                    random_state=151)"
   ]
  },
  {
   "cell_type": "markdown",
   "id": "aabccbad",
   "metadata": {},
   "source": [
    "## Обучение knn классификатора"
   ]
  },
  {
   "cell_type": "code",
   "execution_count": 46,
   "id": "ea8fac2b",
   "metadata": {},
   "outputs": [],
   "source": [
    "def function1(x):\n",
    "    # Обучение модели\n",
    "    knn = KNeighborsClassifier(n_neighbors=int(x[0]),\n",
    "                               leaf_size=int(x[1]),\n",
    "                               p=int(x[2]),\n",
    "                               weights='distance',\n",
    "                               metric=METRIC).fit(X_train, y_train)\n",
    "    # Предсказание тестовых данных\n",
    "    y_test_pred = knn.predict(X_test)\n",
    "    # Получение точности определения данных, знак минуса, так как стремимся МАКСИМИЗИРОВАТЬ функцию\n",
    "    return - metrics.accuracy_score(y_test, y_test_pred)\n",
    "def function2(x):\n",
    "    x_ = x[:,0]\n",
    "    y_ = x[:,1]\n",
    "    z_ = x[:,2]\n",
    "    # Обучение модели\n",
    "    knn = KNeighborsClassifier(n_neighbors=int(x_),\n",
    "                               leaf_size=int(y_),\n",
    "                               p=int(z_),\n",
    "                               weights='distance',\n",
    "                               metric=METRIC).fit(X_train, y_train)# Предсказание тестовых данных\n",
    "    y_test_pred = knn.predict(X_test)\n",
    "    # Получение точности определения данных, знак минуса, так как стремимся МАКСИМИЗИРОВАТЬ функцию\n",
    "    return - metrics.accuracy_score(y_test, y_test_pred)\n",
    "\n",
    "# Пчелиный алгоритм ищет максимум, поэтому нужно взять функцию со знаком -\n",
    "def negative_function1(c):\n",
    "    return - function1(c)"
   ]
  },
  {
   "cell_type": "code",
   "execution_count": 34,
   "id": "340c7a4e",
   "metadata": {},
   "outputs": [],
   "source": [
    "genetic_varbound = differential_boundaries = np.array([[1,100],[1, 100],[1, 20]],dtype=int)\n",
    "pso_varbound = bees_varbound = np.array([np.array([1, 1, 1]), np.array([100,100,20])])"
   ]
  },
  {
   "cell_type": "markdown",
   "id": "f62367fc",
   "metadata": {},
   "source": [
    "## Метрика Минковского"
   ]
  },
  {
   "cell_type": "code",
   "execution_count": 27,
   "id": "46e6fed9",
   "metadata": {},
   "outputs": [],
   "source": [
    "METRIC = 'minkowski'"
   ]
  },
  {
   "cell_type": "markdown",
   "id": "f829670b",
   "metadata": {},
   "source": [
    "### Genetic algorithm"
   ]
  },
  {
   "cell_type": "code",
   "execution_count": 28,
   "id": "772e6cb3",
   "metadata": {},
   "outputs": [],
   "source": [
    "from geneticalgorithm import geneticalgorithm as ga"
   ]
  },
  {
   "cell_type": "code",
   "execution_count": 35,
   "id": "787ea376",
   "metadata": {},
   "outputs": [
    {
     "name": "stdout",
     "output_type": "stream",
     "text": [
      " The best solution found:                                                                           \n",
      " [ 1. 58.  1.]\n",
      "\n",
      " Objective function:\n",
      " -0.7538461538461538\n"
     ]
    },
    {
     "data": {
      "image/png": "[encoded data removed]",
      "text/plain": [
       "<Figure size 432x288 with 1 Axes>"
      ]
     },
     "metadata": {
      "needs_background": "light"
     },
     "output_type": "display_data"
    },
    {
     "name": "stdout",
     "output_type": "stream",
     "text": [
      "Время выполнения  212.77064681053162\n"
     ]
    }
   ],
   "source": [
    "t = time.time()\n",
    "model=ga(function=function1,dimension=3,variable_type='int', variable_boundaries = genetic_varbound)\n",
    "model.run()\n",
    "t=time.time()-t\n",
    "print('Время выполнения ', t)\n",
    "\n",
    "## Значение objective function указано со знаком минус"
   ]
  },
  {
   "cell_type": "markdown",
   "id": "17688726",
   "metadata": {},
   "source": [
    "### Алгоритм Роя частиц"
   ]
  },
  {
   "cell_type": "code",
   "execution_count": 36,
   "id": "19abcae3",
   "metadata": {},
   "outputs": [],
   "source": [
    "import pyswarms as ps\n",
    "from pyswarms.utils.functions import single_obj as fx\n",
    "from pyswarms.utils.plotters import (plot_cost_history, plot_contour, plot_surface)\n",
    "from pyswarms.utils.plotters.formatters import Mesher, Designer"
   ]
  },
  {
   "cell_type": "code",
   "execution_count": 50,
   "id": "f2cd76f4",
   "metadata": {},
   "outputs": [
    {
     "name": "stderr",
     "output_type": "stream",
     "text": [
      "2021-11-14 23:16:55,822 - pyswarms.single.global_best - INFO - Optimize for 1500 iters with {'c1': 1.3, 'c2': 2, 'w': 0.3}\n",
      "pyswarms.single.global_best: 100%|██████████████████████████████████████████████████████████|1500/1500, best_cost=-.662\n",
      "2021-11-14 23:17:08,737 - pyswarms.single.global_best - INFO - Optimization finished | best cost: -0.6615384615384615, best pos: [27.46775799 88.66179073 14.47009467]\n"
     ]
    },
    {
     "name": "stdout",
     "output_type": "stream",
     "text": [
      "Координата лучшего решения  [27.46775799 88.66179073 14.47009467]\n",
      "Наименьшее достигнутое значение функции  0.6615384615384615\n",
      "Время выполнения  12.927188158035278\n"
     ]
    }
   ],
   "source": [
    "options = {'c1':1.3, 'c2':2, 'w':0.3}\n",
    "\n",
    "t=time.time()\n",
    "optimizer = ps.single.GlobalBestPSO(n_particles=1, dimensions=3, options=options, bounds=pso_varbound)\n",
    "cost, pos = optimizer.optimize(function2, iters=1500)\n",
    "\n",
    "print('Координата лучшего решения ', pos)\n",
    "print('Лучшая точность ', -cost)\n",
    "\n",
    "t=time.time()-t\n",
    "print('Время выполнения ', t)"
   ]
  },
  {
   "cell_type": "markdown",
   "id": "2f1eaef5",
   "metadata": {},
   "source": [
    "### Пчелиный алгоритм"
   ]
  },
  {
   "cell_type": "code",
   "execution_count": 51,
   "id": "911c8b64",
   "metadata": {},
   "outputs": [],
   "source": [
    "from bees_algorithm import BeesAlgorithm"
   ]
  },
  {
   "cell_type": "code",
   "execution_count": 52,
   "id": "ea77588f",
   "metadata": {},
   "outputs": [
    {
     "name": "stdout",
     "output_type": "stream",
     "text": [
      "Лучшее значение  0.7538461538461538\n",
      "Координаты лучшего решения  [1, 37.87267379724825, 1]\n",
      "Время выполнения  102.77074480056763\n"
     ]
    }
   ],
   "source": [
    "t=time.time()\n",
    "alg = BeesAlgorithm(negative_function1,\n",
    "                    bees_varbound[0],\n",
    "                    bees_varbound[1],\n",
    "                    ns = 10, nb= 18, ne = 1,\n",
    "                    nrb = 5, nre = 10, stlim=100\n",
    "                   )\n",
    "alg.performFullOptimisation(max_iteration=500)\n",
    "\n",
    "best = alg.best_solution #Получение лучшего решения\n",
    "# лучшее достигнутое значение функции\n",
    "print('Лучшее значение ', best.score)\n",
    "# Координаты лучшего решения)\n",
    "print('Координаты лучшего решения ', best.values)\n",
    "t=time.time()-t\n",
    "print('Время выполнения ', t)"
   ]
  },
  {
   "cell_type": "markdown",
   "id": "2ae39328",
   "metadata": {},
   "source": [
    "### Алгоритм дифференциальной эволюции"
   ]
  },
  {
   "cell_type": "code",
   "execution_count": 53,
   "id": "fbdd74fc",
   "metadata": {},
   "outputs": [],
   "source": [
    "from scipy.optimize import differential_evolution"
   ]
  },
  {
   "cell_type": "code",
   "execution_count": 54,
   "id": "5ff87004",
   "metadata": {},
   "outputs": [
    {
     "name": "stdout",
     "output_type": "stream",
     "text": [
      "Лучшее значение  0.7538461538461538\n",
      "Координаты лучшего решения  [ 2.759293   10.52969597  1.22688512]\n",
      "Время выполнения  1.8665008544921875\n"
     ]
    }
   ],
   "source": [
    "t=time.time()\n",
    "result = differential_evolution(function1, differential_boundaries)\n",
    "# лучшее достигнутое значение функции\n",
    "print('Лучшее значение ', -result.fun)\n",
    "# Координаты лучшего решения\n",
    "print('Координаты лучшего решения ', result.x)\n",
    "t=time.time()-t\n",
    "print('Время выполнения ', t)"
   ]
  },
  {
   "cell_type": "markdown",
   "id": "02eee8c9",
   "metadata": {},
   "source": [
    "## Метрика manhattan"
   ]
  },
  {
   "cell_type": "code",
   "execution_count": 55,
   "id": "c38b2bfe",
   "metadata": {},
   "outputs": [],
   "source": [
    "METRIC = 'manhattan'"
   ]
  },
  {
   "cell_type": "markdown",
   "id": "697f7e06",
   "metadata": {},
   "source": [
    "### Genetic algorithm"
   ]
  },
  {
   "cell_type": "code",
   "execution_count": 56,
   "id": "4f441dc6",
   "metadata": {},
   "outputs": [
    {
     "name": "stdout",
     "output_type": "stream",
     "text": [
      " The best solution found:                                                                           \n",
      " [ 1.  3. 10.]\n",
      "\n",
      " Objective function:\n",
      " -0.7538461538461538\n"
     ]
    },
    {
     "data": {
      "image/png": "[encoded data removed]",
      "text/plain": [
       "<Figure size 432x288 with 1 Axes>"
      ]
     },
     "metadata": {
      "needs_background": "light"
     },
     "output_type": "display_data"
    },
    {
     "name": "stdout",
     "output_type": "stream",
     "text": [
      "Время выполнения  127.10407543182373\n"
     ]
    }
   ],
   "source": [
    "t = time.time()\n",
    "model=ga(function=function1,dimension=3,variable_type='int', variable_boundaries = genetic_varbound)\n",
    "model.run()\n",
    "t=time.time()-t\n",
    "print('Время выполнения ', t)\n",
    "\n",
    "## Значение objective function указано со знаком минус"
   ]
  },
  {
   "cell_type": "markdown",
   "id": "68cc1877",
   "metadata": {},
   "source": [
    "### Алгоритм Роя частиц"
   ]
  },
  {
   "cell_type": "code",
   "execution_count": 57,
   "id": "65fa3641",
   "metadata": {},
   "outputs": [
    {
     "name": "stderr",
     "output_type": "stream",
     "text": [
      "2021-11-14 23:21:55,259 - pyswarms.single.global_best - INFO - Optimize for 1500 iters with {'c1': 1.3, 'c2': 2, 'w': 0.3}\n",
      "pyswarms.single.global_best: 100%|██████████████████████████████████████████████████████████|1500/1500, best_cost=-.662\n",
      "2021-11-14 23:22:01,872 - pyswarms.single.global_best - INFO - Optimization finished | best cost: -0.6615384615384615, best pos: [83.58469763 62.11164413 11.96543019]\n"
     ]
    },
    {
     "name": "stdout",
     "output_type": "stream",
     "text": [
      "Координата лучшего решения  [83.58469763 62.11164413 11.96543019]\n",
      "Наименьшее достигнутое значение функции  0.6615384615384615\n",
      "Время выполнения  6.623064041137695\n"
     ]
    }
   ],
   "source": [
    "options = {'c1':1.3, 'c2':2, 'w':0.3}\n",
    "\n",
    "t=time.time()\n",
    "optimizer = ps.single.GlobalBestPSO(n_particles=1, dimensions=3, options=options, bounds=pso_varbound)\n",
    "cost, pos = optimizer.optimize(function2, iters=1500)\n",
    "\n",
    "print('Координата лучшего решения ', pos)\n",
    "print('Лучшая точность ', -cost)\n",
    "\n",
    "t=time.time()-t\n",
    "print('Время выполнения ', t)"
   ]
  },
  {
   "cell_type": "markdown",
   "id": "4881319b",
   "metadata": {},
   "source": [
    "### Пчелиный алгоритм"
   ]
  },
  {
   "cell_type": "code",
   "execution_count": 58,
   "id": "d33228bd",
   "metadata": {},
   "outputs": [
    {
     "name": "stdout",
     "output_type": "stream",
     "text": [
      "Лучшее значение  0.7538461538461538\n",
      "Координаты лучшего решения  [1.5745754526912847, 83.93799322520566, 19.503303767522294]\n",
      "Время выполнения  66.50183010101318\n"
     ]
    }
   ],
   "source": [
    "t=time.time()\n",
    "alg = BeesAlgorithm(negative_function1,\n",
    "                    bees_varbound[0],\n",
    "                    bees_varbound[1],\n",
    "                    ns = 10, nb= 18, ne = 1,\n",
    "                    nrb = 5, nre = 10, stlim=100\n",
    "                   )\n",
    "alg.performFullOptimisation(max_iteration=500)\n",
    "\n",
    "best = alg.best_solution #Получение лучшего решения\n",
    "# лучшее достигнутое значение функции\n",
    "print('Лучшее значение ', best.score)\n",
    "# Координаты лучшего решения)\n",
    "print('Координаты лучшего решения ', best.values)\n",
    "t=time.time()-t\n",
    "print('Время выполнения ', t)"
   ]
  },
  {
   "cell_type": "markdown",
   "id": "eecb5bef",
   "metadata": {},
   "source": [
    "### Алгоритм дифференциальной эволюции"
   ]
  },
  {
   "cell_type": "code",
   "execution_count": 59,
   "id": "516f960a",
   "metadata": {},
   "outputs": [
    {
     "name": "stdout",
     "output_type": "stream",
     "text": [
      "Лучшее значение  0.7538461538461538\n",
      "Координаты лучшего решения  [ 2.30241078 85.88588176  7.32465715]\n",
      "Время выполнения  0.7332212924957275\n"
     ]
    }
   ],
   "source": [
    "t=time.time()\n",
    "result = differential_evolution(function1, differential_boundaries)\n",
    "# лучшее достигнутое значение функции\n",
    "print('Лучшее значение ', -result.fun)\n",
    "# Координаты лучшего решения\n",
    "print('Координаты лучшего решения ', result.x)\n",
    "t=time.time()-t\n",
    "print('Время выполнения ', t)"
   ]
  },
  {
   "cell_type": "markdown",
   "id": "c2160610",
   "metadata": {},
   "source": [
    "## Примечания"
   ]
  },
  {
   "cell_type": "markdown",
   "id": "1eea794b",
   "metadata": {},
   "source": [
    "В датасете представлено 6 категорий стекол:\n",
    "\n",
    "1: \"building_windows_float_processed\" - 70 экземпляров\n",
    "\n",
    "2 : \"building_windows_non_float_processed\" - 76 экземпляров\n",
    "\n",
    "3 : \"vehicle_windows_float_processed\" - 17 экземпляров\n",
    "\n",
    "5 : \"containers\" - 13 экземпляров\n",
    "\n",
    "6 : \"tableware\" - 9 экземпляров\n",
    "\n",
    "7 :\"headlamps\" - 29 экземпляров\n",
    "\n",
    "Первые две категории преобладают над остальными данными, в связи с чем все объекты некоторых классов попадают в другие классы.\n",
    "\n",
    "Благодаря применению алгоритмов оптимизации удалось улучшить качество предсказания данных. В качестве целевой функции оптимизации была выбрана точность определения ТЕСТОВЫХ данных. \n",
    "\n",
    "Ниже сопоставлены точность классификаторов из работы 5-6 и текущей (9-10) (на тестовых данных): \n",
    "\n",
    "minkowski: (был отфильтрован grid_search) -> 0.7538461538461538, параметры согласно генетическому алгоритму (n_neighbors = 1, leaf_size = 58, p = 1),\n",
    "согласно пчелиному алгоритму (n_neighbors = 1, leaf_size = 37, p = 1),\n",
    "согласно алгоритму дифференциальной эволюции (n_neighbors = 2, leaf_size = 10, p = 1)\n",
    "\n",
    "manhattan: 0.7230769230769231 -> 0.7538461538461538, параметры согласно генетическому алгоритму (n_neighbors = 1, leaf_size = 3, p = 10),\n",
    "согласно пчелиному алгоритму (n_neighbors = 1, leaf_size = 83, p = 19),\n",
    "согласно алгоритму дифференциальной эволюции (n_neighbors = 2, leaf_size = 85, p = 7)\n",
    "\n",
    "Как видно из данного сравнения, благодаря эволюционным алгоритмам оптимизации удалось получить более оптимальные параметры KNN классификатора. Прирост точности оказался не высоким, всего 3%. Качество классификации для двух метрик оказалось одинаковым."
   ]
  }
 ],
 "metadata": {
  "kernelspec": {
   "display_name": "Python 3 (ipykernel)",
   "language": "python",
   "name": "python3"
  },
  "language_info": {
   "codemirror_mode": {
    "name": "ipython",
    "version": 3
   },
   "file_extension": ".py",
   "mimetype": "text/x-python",
   "name": "python",
   "nbconvert_exporter": "python",
   "pygments_lexer": "ipython3",
   "version": "3.8.8"
  }
 },
 "nbformat": 4,
 "nbformat_minor": 5
}
